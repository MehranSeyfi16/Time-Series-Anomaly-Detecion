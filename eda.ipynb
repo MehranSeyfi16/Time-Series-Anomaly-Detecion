{
 "cells": [
  {
   "cell_type": "code",
   "execution_count": 1,
   "metadata": {
    "id": "3b2GK7I3iHJV"
   },
   "outputs": [
    {
     "name": "stderr",
     "output_type": "stream",
     "text": [
      "/home/madadi/anaconda3/envs/main/lib/python3.10/site-packages/tqdm/auto.py:22: TqdmWarning: IProgress not found. Please update jupyter and ipywidgets. See https://ipywidgets.readthedocs.io/en/stable/user_install.html\n",
      "  from .autonotebook import tqdm as notebook_tqdm\n"
     ]
    },
    {
     "name": "stdout",
     "output_type": "stream",
     "text": [
      "Unexpected exception formatting exception. Falling back to standard exception\n"
     ]
    },
    {
     "name": "stderr",
     "output_type": "stream",
     "text": [
      "Traceback (most recent call last):\n",
      "  File \"/home/madadi/anaconda3/envs/main/lib/python3.10/site-packages/IPython/core/interactiveshell.py\", line 3398, in run_code\n",
      "    exec(code_obj, self.user_global_ns, self.user_ns)\n",
      "  File \"/tmp/ipykernel_5509/123397064.py\", line 23, in <cell line: 23>\n",
      "    hv.extension('bokeh')\n",
      "  File \"/home/madadi/anaconda3/envs/main/lib/python3.10/site-packages/pyviz_comms/__init__.py\", line 64, in __new__\n",
      "    return param.ParameterizedFunction.__new__(cls, *args, **kwargs)\n",
      "  File \"/home/madadi/anaconda3/envs/main/lib/python3.10/site-packages/param/parameterized.py\", line 3654, in __new__\n",
      "    return inst.__call__(*args,**params)\n",
      "  File \"/home/madadi/anaconda3/envs/main/lib/python3.10/site-packages/holoviews/ipython/__init__.py\", line 130, in __call__\n",
      "    from .archive import notebook_archive\n",
      "  File \"/home/madadi/anaconda3/envs/main/lib/python3.10/site-packages/holoviews/ipython/archive.py\", line 10, in <module>\n",
      "    from .preprocessors import Substitute\n",
      "  File \"/home/madadi/anaconda3/envs/main/lib/python3.10/site-packages/holoviews/ipython/preprocessors.py\", line 7, in <module>\n",
      "    from nbconvert.preprocessors import Preprocessor\n",
      "  File \"/home/madadi/anaconda3/envs/main/lib/python3.10/site-packages/nbconvert/__init__.py\", line 4, in <module>\n",
      "    from .exporters import *\n",
      "  File \"/home/madadi/anaconda3/envs/main/lib/python3.10/site-packages/nbconvert/exporters/__init__.py\", line 3, in <module>\n",
      "    from .html import HTMLExporter\n",
      "  File \"/home/madadi/anaconda3/envs/main/lib/python3.10/site-packages/nbconvert/exporters/html.py\", line 25, in <module>\n",
      "    from nbconvert.filters.highlight import Highlight2HTML\n",
      "  File \"/home/madadi/anaconda3/envs/main/lib/python3.10/site-packages/nbconvert/filters/__init__.py\", line 6, in <module>\n",
      "    from .markdown import *\n",
      "  File \"/home/madadi/anaconda3/envs/main/lib/python3.10/site-packages/nbconvert/filters/markdown.py\", line 13, in <module>\n",
      "    from .markdown_mistune import markdown2html_mistune\n",
      "  File \"/home/madadi/anaconda3/envs/main/lib/python3.10/site-packages/nbconvert/filters/markdown_mistune.py\", line 40, in <module>\n",
      "    class MathBlockGrammar(mistune.BlockGrammar):\n",
      "AttributeError: module 'mistune' has no attribute 'BlockGrammar'\n",
      "\n",
      "During handling of the above exception, another exception occurred:\n",
      "\n",
      "Traceback (most recent call last):\n",
      "  File \"/home/madadi/anaconda3/envs/main/lib/python3.10/site-packages/IPython/core/interactiveshell.py\", line 1993, in showtraceback\n",
      "    stb = self.InteractiveTB.structured_traceback(\n",
      "  File \"/home/madadi/anaconda3/envs/main/lib/python3.10/site-packages/IPython/core/ultratb.py\", line 1118, in structured_traceback\n",
      "    return FormattedTB.structured_traceback(\n",
      "  File \"/home/madadi/anaconda3/envs/main/lib/python3.10/site-packages/IPython/core/ultratb.py\", line 1012, in structured_traceback\n",
      "    return VerboseTB.structured_traceback(\n",
      "  File \"/home/madadi/anaconda3/envs/main/lib/python3.10/site-packages/IPython/core/ultratb.py\", line 865, in structured_traceback\n",
      "    formatted_exception = self.format_exception_as_a_whole(etype, evalue, etb, number_of_lines_of_context,\n",
      "  File \"/home/madadi/anaconda3/envs/main/lib/python3.10/site-packages/IPython/core/ultratb.py\", line 818, in format_exception_as_a_whole\n",
      "    frames.append(self.format_record(r))\n",
      "  File \"/home/madadi/anaconda3/envs/main/lib/python3.10/site-packages/IPython/core/ultratb.py\", line 736, in format_record\n",
      "    result += ''.join(_format_traceback_lines(frame_info.lines, Colors, self.has_colors, lvals))\n",
      "  File \"/home/madadi/anaconda3/envs/main/lib/python3.10/site-packages/stack_data/utils.py\", line 145, in cached_property_wrapper\n",
      "    value = obj.__dict__[self.func.__name__] = self.func(obj)\n",
      "  File \"/home/madadi/anaconda3/envs/main/lib/python3.10/site-packages/stack_data/core.py\", line 698, in lines\n",
      "    pieces = self.included_pieces\n",
      "  File \"/home/madadi/anaconda3/envs/main/lib/python3.10/site-packages/stack_data/utils.py\", line 145, in cached_property_wrapper\n",
      "    value = obj.__dict__[self.func.__name__] = self.func(obj)\n",
      "  File \"/home/madadi/anaconda3/envs/main/lib/python3.10/site-packages/stack_data/core.py\", line 645, in included_pieces\n",
      "    scope_pieces = self.scope_pieces\n",
      "  File \"/home/madadi/anaconda3/envs/main/lib/python3.10/site-packages/stack_data/utils.py\", line 145, in cached_property_wrapper\n",
      "    value = obj.__dict__[self.func.__name__] = self.func(obj)\n",
      "  File \"/home/madadi/anaconda3/envs/main/lib/python3.10/site-packages/stack_data/core.py\", line 585, in scope_pieces\n",
      "    for piece in self.source.pieces\n",
      "  File \"/home/madadi/anaconda3/envs/main/lib/python3.10/site-packages/stack_data/utils.py\", line 145, in cached_property_wrapper\n",
      "    value = obj.__dict__[self.func.__name__] = self.func(obj)\n",
      "  File \"/home/madadi/anaconda3/envs/main/lib/python3.10/site-packages/stack_data/core.py\", line 90, in pieces\n",
      "    return list(self._clean_pieces())\n",
      "  File \"/home/madadi/anaconda3/envs/main/lib/python3.10/site-packages/stack_data/core.py\", line 114, in _clean_pieces\n",
      "    raise AssertionError(\"Pieces mismatches: %s\" % mismatches)\n",
      "AssertionError: Pieces mismatches: [{680, 681}, {696, 695}, {708, 709}, {714, 715}]\n"
     ]
    }
   ],
   "source": [
    "# Import\n",
    "import pandas as pd\n",
    "import darts\n",
    "from darts import TimeSeries\n",
    "from darts.models import ExponentialSmoothing, ARIMA, Prophet\n",
    "import matplotlib.pyplot as plt\n",
    "from darts.utils.utils import SeasonalityMode\n",
    "from darts.utils.statistics import check_seasonality, extract_trend_and_seasonality, ModelMode, remove_trend, remove_from_series, stationarity_tests\n",
    "import glob \n",
    "import os\n",
    "from darts.utils.missing_values import fill_missing_values\n",
    "import statsmodels.api as sm\n",
    "import numpy as np\n",
    "from sklearn.preprocessing import StandardScaler\n",
    "from sklearn.decomposition import PCA\n",
    "from sklearn.covariance import EllipticEnvelope\n",
    "from sklearn.ensemble import IsolationForest\n",
    "import sys, os\n",
    "from math import sqrt\n",
    "from sklearn.metrics import mean_squared_error\n",
    "import holoviews as hv\n",
    "from holoviews import dim, opts\n",
    "hv.extension('bokeh')\n",
    "from bokeh.models import ColumnDataSource, HoverTool\n",
    "from statsmodels.tsa.seasonal import STL\n",
    "\n",
    "if not sys.warnoptions:\n",
    "    import warnings\n",
    "    warnings.simplefilter(\"ignore\")"
   ]
  },
  {
   "cell_type": "code",
   "execution_count": 2,
   "metadata": {},
   "outputs": [],
   "source": [
    "# Merging all files and making the dataframe\n",
    "# df = pd.concat(map(pd.read_csv, glob.glob(os.path.join(\"./data\" , \"*.csv\"))), ignore_index= True)\n",
    "df = pd.read_csv('data/0.csv')\n",
    "df['timestamp'] = pd.to_datetime(df['timestamp'], unit='s')\n",
    "df = df.set_index('timestamp')\n",
    "df = df.asfreq(freq='T')"
   ]
  },
  {
   "cell_type": "code",
   "execution_count": 3,
   "metadata": {
    "colab": {
     "base_uri": "https://localhost:8080/",
     "height": 206
    },
    "id": "GBfWTZUm06sa",
    "outputId": "7bc2c3d3-beff-42af-b39f-b0edd3069bfb"
   },
   "outputs": [],
   "source": [
    "# tmp_df = df.resample('H').mean().interpolate()\n",
    "tmp_df = df.interpolate()"
   ]
  },
  {
   "cell_type": "markdown",
   "metadata": {},
   "source": [
    "#### Range we're dealing with"
   ]
  },
  {
   "cell_type": "code",
   "execution_count": 4,
   "metadata": {},
   "outputs": [
    {
     "name": "stdout",
     "output_type": "stream",
     "text": [
      "Start:  2017-04-30 16:00:00\n",
      "End:  2017-07-31 04:34:00\n",
      "Days:  91 days 12:34:00\n"
     ]
    },
    {
     "data": {
      "text/html": [
       "<div>\n",
       "<style scoped>\n",
       "    .dataframe tbody tr th:only-of-type {\n",
       "        vertical-align: middle;\n",
       "    }\n",
       "\n",
       "    .dataframe tbody tr th {\n",
       "        vertical-align: top;\n",
       "    }\n",
       "\n",
       "    .dataframe thead th {\n",
       "        text-align: right;\n",
       "    }\n",
       "</style>\n",
       "<table border=\"1\" class=\"dataframe\">\n",
       "  <thead>\n",
       "    <tr style=\"text-align: right;\">\n",
       "      <th></th>\n",
       "      <th>value</th>\n",
       "      <th>label</th>\n",
       "    </tr>\n",
       "    <tr>\n",
       "      <th>timestamp</th>\n",
       "      <th></th>\n",
       "      <th></th>\n",
       "    </tr>\n",
       "  </thead>\n",
       "  <tbody>\n",
       "    <tr>\n",
       "      <th>2017-04-30 16:00:00</th>\n",
       "      <td>1.901639</td>\n",
       "      <td>0.0</td>\n",
       "    </tr>\n",
       "    <tr>\n",
       "      <th>2017-04-30 16:01:00</th>\n",
       "      <td>1.786885</td>\n",
       "      <td>0.0</td>\n",
       "    </tr>\n",
       "    <tr>\n",
       "      <th>2017-04-30 16:02:00</th>\n",
       "      <td>2.000000</td>\n",
       "      <td>0.0</td>\n",
       "    </tr>\n",
       "    <tr>\n",
       "      <th>2017-04-30 16:03:00</th>\n",
       "      <td>1.885246</td>\n",
       "      <td>0.0</td>\n",
       "    </tr>\n",
       "    <tr>\n",
       "      <th>2017-04-30 16:04:00</th>\n",
       "      <td>1.819672</td>\n",
       "      <td>0.0</td>\n",
       "    </tr>\n",
       "  </tbody>\n",
       "</table>\n",
       "</div>"
      ],
      "text/plain": [
       "                        value  label\n",
       "timestamp                           \n",
       "2017-04-30 16:00:00  1.901639    0.0\n",
       "2017-04-30 16:01:00  1.786885    0.0\n",
       "2017-04-30 16:02:00  2.000000    0.0\n",
       "2017-04-30 16:03:00  1.885246    0.0\n",
       "2017-04-30 16:04:00  1.819672    0.0"
      ]
     },
     "execution_count": 4,
     "metadata": {},
     "output_type": "execute_result"
    }
   ],
   "source": [
    "print('Start: ',tmp_df.index.min())\n",
    "print('End: ',tmp_df.index.max())\n",
    "print('Days: ',(tmp_df.index.max() - tmp_df.index.min()))\n",
    "tmp_df.head()"
   ]
  },
  {
   "cell_type": "code",
   "execution_count": 5,
   "metadata": {},
   "outputs": [
    {
     "name": "stderr",
     "output_type": "stream",
     "text": [
      "/home/madadi/anaconda3/envs/main/lib/python3.10/site-packages/statsmodels/graphics/tsaplots.py:348: FutureWarning: The default method 'yw' can produce PACF values outside of the [-1,1] interval. After 0.13, the default will change tounadjusted Yule-Walker ('ywm'). You can use this method now by setting method='ywm'.\n",
      "  warnings.warn(\n"
     ]
    },
    {
     "data": {
      "image/png": "[encoded data removed]",
      "text/plain": [
       "<Figure size 640x480 with 1 Axes>"
      ]
     },
     "execution_count": 5,
     "metadata": {},
     "output_type": "execute_result"
    },
    {
     "data": {
      "image/png": "[encoded data removed]",
      "text/plain": [
       "<Figure size 640x480 with 1 Axes>"
      ]
     },
     "metadata": {},
     "output_type": "display_data"
    },
    {
     "data": {
      "image/png": "[encoded data removed]",
      "text/plain": [
       "<Figure size 640x480 with 1 Axes>"
      ]
     },
     "metadata": {},
     "output_type": "display_data"
    }
   ],
   "source": [
    "sm.graphics.tsa.plot_acf(tmp_df['value'], lags=1000)\n",
    "sm.graphics.tsa.plot_pacf(tmp_df['value'])"
   ]
  },
  {
   "cell_type": "code",
   "execution_count": 6,
   "metadata": {},
   "outputs": [],
   "source": [
    "df_hourly = tmp_df.resample('H').mean().reset_index()\n",
    "df_daily = tmp_df.resample('D').mean().reset_index()\n",
    "df_weekly = tmp_df.resample('W').mean().reset_index()"
   ]
  },
  {
   "cell_type": "code",
   "execution_count": 7,
   "metadata": {},
   "outputs": [
    {
     "data": {
      "text/html": [
       "<div>\n",
       "<style scoped>\n",
       "    .dataframe tbody tr th:only-of-type {\n",
       "        vertical-align: middle;\n",
       "    }\n",
       "\n",
       "    .dataframe tbody tr th {\n",
       "        vertical-align: top;\n",
       "    }\n",
       "\n",
       "    .dataframe thead th {\n",
       "        text-align: right;\n",
       "    }\n",
       "</style>\n",
       "<table border=\"1\" class=\"dataframe\">\n",
       "  <thead>\n",
       "    <tr style=\"text-align: right;\">\n",
       "      <th></th>\n",
       "      <th>timestamp</th>\n",
       "      <th>value</th>\n",
       "      <th>label</th>\n",
       "    </tr>\n",
       "  </thead>\n",
       "  <tbody>\n",
       "    <tr>\n",
       "      <th>0</th>\n",
       "      <td>2017-04-30 16:00:00</td>\n",
       "      <td>2.070492</td>\n",
       "      <td>0.0</td>\n",
       "    </tr>\n",
       "    <tr>\n",
       "      <th>1</th>\n",
       "      <td>2017-04-30 17:00:00</td>\n",
       "      <td>2.377869</td>\n",
       "      <td>0.0</td>\n",
       "    </tr>\n",
       "    <tr>\n",
       "      <th>2</th>\n",
       "      <td>2017-04-30 18:00:00</td>\n",
       "      <td>2.606784</td>\n",
       "      <td>0.0</td>\n",
       "    </tr>\n",
       "    <tr>\n",
       "      <th>3</th>\n",
       "      <td>2017-04-30 19:00:00</td>\n",
       "      <td>2.559123</td>\n",
       "      <td>0.0</td>\n",
       "    </tr>\n",
       "    <tr>\n",
       "      <th>4</th>\n",
       "      <td>2017-04-30 20:00:00</td>\n",
       "      <td>2.366940</td>\n",
       "      <td>0.0</td>\n",
       "    </tr>\n",
       "    <tr>\n",
       "      <th>...</th>\n",
       "      <td>...</td>\n",
       "      <td>...</td>\n",
       "      <td>...</td>\n",
       "    </tr>\n",
       "    <tr>\n",
       "      <th>2192</th>\n",
       "      <td>2017-07-31 00:00:00</td>\n",
       "      <td>2.523173</td>\n",
       "      <td>0.0</td>\n",
       "    </tr>\n",
       "    <tr>\n",
       "      <th>2193</th>\n",
       "      <td>2017-07-31 01:00:00</td>\n",
       "      <td>2.444737</td>\n",
       "      <td>0.0</td>\n",
       "    </tr>\n",
       "    <tr>\n",
       "      <th>2194</th>\n",
       "      <td>2017-07-31 02:00:00</td>\n",
       "      <td>2.481664</td>\n",
       "      <td>0.0</td>\n",
       "    </tr>\n",
       "    <tr>\n",
       "      <th>2195</th>\n",
       "      <td>2017-07-31 03:00:00</td>\n",
       "      <td>2.567700</td>\n",
       "      <td>0.0</td>\n",
       "    </tr>\n",
       "    <tr>\n",
       "      <th>2196</th>\n",
       "      <td>2017-07-31 04:00:00</td>\n",
       "      <td>2.604592</td>\n",
       "      <td>0.0</td>\n",
       "    </tr>\n",
       "  </tbody>\n",
       "</table>\n",
       "<p>2197 rows × 3 columns</p>\n",
       "</div>"
      ],
      "text/plain": [
       "               timestamp     value  label\n",
       "0    2017-04-30 16:00:00  2.070492    0.0\n",
       "1    2017-04-30 17:00:00  2.377869    0.0\n",
       "2    2017-04-30 18:00:00  2.606784    0.0\n",
       "3    2017-04-30 19:00:00  2.559123    0.0\n",
       "4    2017-04-30 20:00:00  2.366940    0.0\n",
       "...                  ...       ...    ...\n",
       "2192 2017-07-31 00:00:00  2.523173    0.0\n",
       "2193 2017-07-31 01:00:00  2.444737    0.0\n",
       "2194 2017-07-31 02:00:00  2.481664    0.0\n",
       "2195 2017-07-31 03:00:00  2.567700    0.0\n",
       "2196 2017-07-31 04:00:00  2.604592    0.0\n",
       "\n",
       "[2197 rows x 3 columns]"
      ]
     },
     "execution_count": 7,
     "metadata": {},
     "output_type": "execute_result"
    }
   ],
   "source": [
    "decompose = STL(df_hourly['value']).fit()\n",
    "decompose.plot()\n",
    "plt.show()"
   ]
  },
  {
   "cell_type": "markdown",
   "metadata": {},
   "source": [
    "#### Resample data from hourly to daily to weekly, and see if we can pick out any interesting features"
   ]
  },
  {
   "cell_type": "code",
   "execution_count": 8,
   "metadata": {},
   "outputs": [
    {
     "data": {
      "text/plain": [
       ":Layout\n",
       "   .Curve.I   :Curve   [timestamp]   (value,label)\n",
       "   .Curve.II  :Curve   [timestamp]   (value,label)\n",
       "   .Curve.III :Curve   [timestamp]   (value,label)"
      ]
     },
     "execution_count": 8,
     "metadata": {},
     "output_type": "execute_result"
    }
   ],
   "source": [
    "Hourly = hv.Curve(df_hourly).opts(\n",
    "    opts.Curve(title=\"Value-Hourly\", xlabel=\"\", ylabel=\"Demand\",\n",
    "               width=700, height=300,tools=['hover'],show_grid=True))\n",
    "\n",
    "Daily = hv.Curve(df_daily).opts(\n",
    "    opts.Curve(title=\"Value-Daily\", xlabel=\"\", ylabel=\"Demand\",\n",
    "               width=700, height=300,tools=['hover'],show_grid=True))\n",
    "\n",
    "Weekly = hv.Curve(df_weekly).opts(\n",
    "    opts.Curve(title=\"Value-Weekly\", xlabel=\"Date\", ylabel=\"Demand\",\n",
    "               width=700, height=300,tools=['hover'],show_grid=True))\n",
    "\n",
    "\n",
    "(Hourly + Daily + Weekly).opts(shared_axes=False).cols(1)"
   ]
  },
  {
   "cell_type": "markdown",
   "metadata": {
    "tags": []
   },
   "source": [
    "## Feature Engineering"
   ]
  },
  {
   "cell_type": "markdown",
   "metadata": {},
   "source": [
    "#### A variety of resamples which we may or may not use"
   ]
  },
  {
   "cell_type": "code",
   "execution_count": 9,
   "metadata": {},
   "outputs": [],
   "source": [
    "# New features \n",
    "# Loop to cycle through both DataFrames\n",
    "for data_frame in [df_hourly, df_daily]:\n",
    "    data_frame['Weekday'] = pd.Categorical(data_frame['timestamp'].dt.strftime('%A'), categories=['Monday', 'Tuesday', 'Wednesday', 'Thursday','Friday', 'Saturday', 'Sunday'])\n",
    "    data_frame['Hour'] = data_frame['timestamp'].dt.hour\n",
    "    data_frame['Day'] = data_frame['timestamp'].dt.weekday\n",
    "    data_frame['Month'] = data_frame['timestamp'].dt.month\n",
    "    data_frame['Year'] = data_frame['timestamp'].dt.year\n",
    "    data_frame['Month_day'] = data_frame['timestamp'].dt.day\n",
    "    data_frame['Lag'] = data_frame['value'].shift(1)\n",
    "    data_frame['Rolling_Mean'] = data_frame['value'].rolling(7).mean()"
   ]
  },
  {
   "cell_type": "markdown",
   "metadata": {},
   "source": [
    "## Visual Exploration"
   ]
  },
  {
   "cell_type": "markdown",
   "metadata": {},
   "source": [
    "#### Trying to detect anomales, taking a look at overall distribution"
   ]
  },
  {
   "cell_type": "code",
   "execution_count": 10,
   "metadata": {},
   "outputs": [
    {
     "data": {
      "text/plain": [
       ":Distribution   [value]   (Density)"
      ]
     },
     "execution_count": 10,
     "metadata": {},
     "output_type": "execute_result"
    }
   ],
   "source": [
    "(hv.Distribution(tmp_df['value'])\n",
    ".opts(opts.Distribution(title=\"Overall Value Distribution\",\n",
    "                        xlabel=\"Value\",\n",
    "                        ylabel=\"Density\",\n",
    "                        width=700, height=300,\n",
    "                        tools=['hover'],show_grid=True)\n",
    "     ))"
   ]
  },
  {
   "cell_type": "markdown",
   "metadata": {},
   "source": [
    "#### Let's see how this varies by day"
   ]
  },
  {
   "cell_type": "code",
   "execution_count": 11,
   "metadata": {},
   "outputs": [
    {
     "data": {
      "text/plain": [
       ":Overlay\n",
       "   .Distribution.Monday    :Distribution   [Monday]   (Density)\n",
       "   .Distribution.Tuesday   :Distribution   [Tuesday]   (Density)\n",
       "   .Distribution.Wednesday :Distribution   [Wednesday]   (Density)\n",
       "   .Distribution.Thursday  :Distribution   [Thursday]   (Density)\n",
       "   .Distribution.Friday    :Distribution   [Friday]   (Density)\n",
       "   .Distribution.Saturday  :Distribution   [Saturday]   (Density)\n",
       "   .Distribution.Sunday    :Distribution   [Sunday]   (Density)"
      ]
     },
     "execution_count": 11,
     "metadata": {},
     "output_type": "execute_result"
    }
   ],
   "source": [
    "by_weekday = df_hourly.groupby(['Hour','Weekday']).mean()['value'].unstack()\n",
    "plot = hv.Distribution(by_weekday['Monday'], label='Monday') * hv.Distribution(by_weekday['Tuesday'], label='Tuesday') * hv.Distribution(by_weekday['Wednesday'], label='Wednesday') * hv.Distribution(by_weekday['Thursday'], label='Thursday') * hv.Distribution(by_weekday['Friday'], label='Friday') * hv.Distribution(by_weekday['Saturday'], label='Saturday') *hv.Distribution(by_weekday['Sunday'], label='Sunday').opts(opts.Distribution(title=\"Demand Density by Day\"))\n",
    "plot.opts(opts.Distribution(width=800, height=300,tools=['hover'],show_grid=True, ylabel=\"Demand\", xlabel=\"Demand\"))"
   ]
  },
  {
   "cell_type": "markdown",
   "metadata": {},
   "source": [
    "#### Let's see how this varies by day ( Barchart ) "
   ]
  },
  {
   "cell_type": "code",
   "execution_count": 12,
   "metadata": {},
   "outputs": [
    {
     "data": {
      "text/plain": [
       ":Bars   [Weekday]   (value)"
      ]
     },
     "execution_count": 12,
     "metadata": {},
     "output_type": "execute_result"
    }
   ],
   "source": [
    "hv.Bars(df_hourly[['value','Weekday']].groupby('Weekday').mean()).opts(\n",
    "    opts.Bars(title=\"Demand by Day\", xlabel=\"\", ylabel=\"Demand\",\n",
    "               width=700, height=300,tools=['hover'],show_grid=True))"
   ]
  },
  {
   "cell_type": "markdown",
   "metadata": {},
   "source": [
    "#### Average hourly and daily demand"
   ]
  },
  {
   "cell_type": "code",
   "execution_count": 13,
   "metadata": {},
   "outputs": [
    {
     "data": {
      "text/plain": [
       ":Curve   [Hour]   (value)"
      ]
     },
     "execution_count": 13,
     "metadata": {},
     "output_type": "execute_result"
    }
   ],
   "source": [
    "hv.Curve(df_hourly[['value','Hour']].groupby('Hour').mean()).opts(\n",
    "    opts.Curve(title=\"Demand Hourly\", xlabel=\"Hour\", ylabel=\"Demand\",\n",
    "               width=700, height=300,tools=['hover'],show_grid=True))"
   ]
  },
  {
   "cell_type": "code",
   "execution_count": 14,
   "metadata": {},
   "outputs": [
    {
     "data": {
      "text/plain": [
       ":Overlay\n",
       "   .Curve.Monday    :Curve   [Hour]   (Monday)\n",
       "   .Curve.Tuesday   :Curve   [Hour]   (Tuesday)\n",
       "   .Curve.Wednesday :Curve   [Hour]   (Wednesday)\n",
       "   .Curve.Thursday  :Curve   [Hour]   (Thursday)\n",
       "   .Curve.Friday    :Curve   [Hour]   (Friday)\n",
       "   .Curve.Saturday  :Curve   [Hour]   (Saturday)\n",
       "   .Curve.Sunday    :Curve   [Hour]   (Sunday)"
      ]
     },
     "execution_count": 14,
     "metadata": {},
     "output_type": "execute_result"
    }
   ],
   "source": [
    "by_weekday = df_hourly.groupby(['Hour','Weekday']).mean()['value'].unstack()\n",
    "plot = hv.Curve(by_weekday['Monday'], label='Monday') * hv.Curve(by_weekday['Tuesday'], label='Tuesday') * hv.Curve(by_weekday['Wednesday'], label='Wednesday') * hv.Curve(by_weekday['Thursday'], label='Thursday') * hv.Curve(by_weekday['Friday'], label='Friday') * hv.Curve(by_weekday['Saturday'], label='Saturday') *hv.Curve(by_weekday['Sunday'], label='Sunday').opts(opts.Curve(title=\"Average Demand by Day & Hour\"))\n",
    "plot.opts(opts.Curve(width=800, height=300,tools=['hover'],show_grid=True, ylabel=\"Demand\"))"
   ]
  },
  {
   "cell_type": "markdown",
   "metadata": {},
   "source": [
    "## More Feature Engineering"
   ]
  },
  {
   "cell_type": "code",
   "execution_count": 15,
   "metadata": {},
   "outputs": [
    {
     "data": {
      "text/html": [
       "<div>\n",
       "<style scoped>\n",
       "    .dataframe tbody tr th:only-of-type {\n",
       "        vertical-align: middle;\n",
       "    }\n",
       "\n",
       "    .dataframe tbody tr th {\n",
       "        vertical-align: top;\n",
       "    }\n",
       "\n",
       "    .dataframe thead th {\n",
       "        text-align: right;\n",
       "    }\n",
       "</style>\n",
       "<table border=\"1\" class=\"dataframe\">\n",
       "  <thead>\n",
       "    <tr style=\"text-align: right;\">\n",
       "      <th></th>\n",
       "      <th>timestamp</th>\n",
       "      <th>value</th>\n",
       "      <th>label</th>\n",
       "      <th>Weekday</th>\n",
       "      <th>Hour</th>\n",
       "      <th>Day</th>\n",
       "      <th>Month</th>\n",
       "      <th>Year</th>\n",
       "      <th>Month_day</th>\n",
       "      <th>Lag</th>\n",
       "      <th>Rolling_Mean</th>\n",
       "      <th>value_Average</th>\n",
       "    </tr>\n",
       "  </thead>\n",
       "  <tbody>\n",
       "    <tr>\n",
       "      <th>0</th>\n",
       "      <td>2017-04-30 16:00:00</td>\n",
       "      <td>2.070492</td>\n",
       "      <td>0.0</td>\n",
       "      <td>Sunday</td>\n",
       "      <td>16</td>\n",
       "      <td>6</td>\n",
       "      <td>4</td>\n",
       "      <td>2017</td>\n",
       "      <td>30</td>\n",
       "      <td>NaN</td>\n",
       "      <td>NaN</td>\n",
       "      <td>2.398116</td>\n",
       "    </tr>\n",
       "    <tr>\n",
       "      <th>1</th>\n",
       "      <td>2017-04-30 17:00:00</td>\n",
       "      <td>2.377869</td>\n",
       "      <td>0.0</td>\n",
       "      <td>Sunday</td>\n",
       "      <td>17</td>\n",
       "      <td>6</td>\n",
       "      <td>4</td>\n",
       "      <td>2017</td>\n",
       "      <td>30</td>\n",
       "      <td>2.070492</td>\n",
       "      <td>NaN</td>\n",
       "      <td>2.616236</td>\n",
       "    </tr>\n",
       "    <tr>\n",
       "      <th>2</th>\n",
       "      <td>2017-04-30 18:00:00</td>\n",
       "      <td>2.606784</td>\n",
       "      <td>0.0</td>\n",
       "      <td>Sunday</td>\n",
       "      <td>18</td>\n",
       "      <td>6</td>\n",
       "      <td>4</td>\n",
       "      <td>2017</td>\n",
       "      <td>30</td>\n",
       "      <td>2.377869</td>\n",
       "      <td>NaN</td>\n",
       "      <td>2.683869</td>\n",
       "    </tr>\n",
       "    <tr>\n",
       "      <th>3</th>\n",
       "      <td>2017-04-30 19:00:00</td>\n",
       "      <td>2.559123</td>\n",
       "      <td>0.0</td>\n",
       "      <td>Sunday</td>\n",
       "      <td>19</td>\n",
       "      <td>6</td>\n",
       "      <td>4</td>\n",
       "      <td>2017</td>\n",
       "      <td>30</td>\n",
       "      <td>2.606784</td>\n",
       "      <td>NaN</td>\n",
       "      <td>2.644119</td>\n",
       "    </tr>\n",
       "    <tr>\n",
       "      <th>4</th>\n",
       "      <td>2017-04-30 20:00:00</td>\n",
       "      <td>2.366940</td>\n",
       "      <td>0.0</td>\n",
       "      <td>Sunday</td>\n",
       "      <td>20</td>\n",
       "      <td>6</td>\n",
       "      <td>4</td>\n",
       "      <td>2017</td>\n",
       "      <td>30</td>\n",
       "      <td>2.559123</td>\n",
       "      <td>NaN</td>\n",
       "      <td>2.580202</td>\n",
       "    </tr>\n",
       "    <tr>\n",
       "      <th>5</th>\n",
       "      <td>2017-04-30 21:00:00</td>\n",
       "      <td>2.298907</td>\n",
       "      <td>0.0</td>\n",
       "      <td>Sunday</td>\n",
       "      <td>21</td>\n",
       "      <td>6</td>\n",
       "      <td>4</td>\n",
       "      <td>2017</td>\n",
       "      <td>30</td>\n",
       "      <td>2.366940</td>\n",
       "      <td>NaN</td>\n",
       "      <td>2.509062</td>\n",
       "    </tr>\n",
       "    <tr>\n",
       "      <th>6</th>\n",
       "      <td>2017-04-30 22:00:00</td>\n",
       "      <td>2.455055</td>\n",
       "      <td>0.0</td>\n",
       "      <td>Sunday</td>\n",
       "      <td>22</td>\n",
       "      <td>6</td>\n",
       "      <td>4</td>\n",
       "      <td>2017</td>\n",
       "      <td>30</td>\n",
       "      <td>2.298907</td>\n",
       "      <td>2.390738</td>\n",
       "      <td>2.458634</td>\n",
       "    </tr>\n",
       "    <tr>\n",
       "      <th>7</th>\n",
       "      <td>2017-04-30 23:00:00</td>\n",
       "      <td>2.398636</td>\n",
       "      <td>0.0</td>\n",
       "      <td>Sunday</td>\n",
       "      <td>23</td>\n",
       "      <td>6</td>\n",
       "      <td>4</td>\n",
       "      <td>2017</td>\n",
       "      <td>30</td>\n",
       "      <td>2.455055</td>\n",
       "      <td>2.437616</td>\n",
       "      <td>2.479188</td>\n",
       "    </tr>\n",
       "    <tr>\n",
       "      <th>8</th>\n",
       "      <td>2017-05-01 00:00:00</td>\n",
       "      <td>2.581874</td>\n",
       "      <td>0.0</td>\n",
       "      <td>Monday</td>\n",
       "      <td>0</td>\n",
       "      <td>0</td>\n",
       "      <td>5</td>\n",
       "      <td>2017</td>\n",
       "      <td>1</td>\n",
       "      <td>2.398636</td>\n",
       "      <td>2.466760</td>\n",
       "      <td>2.550053</td>\n",
       "    </tr>\n",
       "    <tr>\n",
       "      <th>9</th>\n",
       "      <td>2017-05-01 01:00:00</td>\n",
       "      <td>2.759504</td>\n",
       "      <td>0.0</td>\n",
       "      <td>Monday</td>\n",
       "      <td>1</td>\n",
       "      <td>0</td>\n",
       "      <td>5</td>\n",
       "      <td>2017</td>\n",
       "      <td>1</td>\n",
       "      <td>2.581874</td>\n",
       "      <td>2.488577</td>\n",
       "      <td>2.556232</td>\n",
       "    </tr>\n",
       "  </tbody>\n",
       "</table>\n",
       "</div>"
      ],
      "text/plain": [
       "            timestamp     value  label Weekday  Hour  Day  Month  Year  \\\n",
       "0 2017-04-30 16:00:00  2.070492    0.0  Sunday    16    6      4  2017   \n",
       "1 2017-04-30 17:00:00  2.377869    0.0  Sunday    17    6      4  2017   \n",
       "2 2017-04-30 18:00:00  2.606784    0.0  Sunday    18    6      4  2017   \n",
       "3 2017-04-30 19:00:00  2.559123    0.0  Sunday    19    6      4  2017   \n",
       "4 2017-04-30 20:00:00  2.366940    0.0  Sunday    20    6      4  2017   \n",
       "5 2017-04-30 21:00:00  2.298907    0.0  Sunday    21    6      4  2017   \n",
       "6 2017-04-30 22:00:00  2.455055    0.0  Sunday    22    6      4  2017   \n",
       "7 2017-04-30 23:00:00  2.398636    0.0  Sunday    23    6      4  2017   \n",
       "8 2017-05-01 00:00:00  2.581874    0.0  Monday     0    0      5  2017   \n",
       "9 2017-05-01 01:00:00  2.759504    0.0  Monday     1    0      5  2017   \n",
       "\n",
       "   Month_day       Lag  Rolling_Mean  value_Average  \n",
       "0         30       NaN           NaN       2.398116  \n",
       "1         30  2.070492           NaN       2.616236  \n",
       "2         30  2.377869           NaN       2.683869  \n",
       "3         30  2.606784           NaN       2.644119  \n",
       "4         30  2.559123           NaN       2.580202  \n",
       "5         30  2.366940           NaN       2.509062  \n",
       "6         30  2.298907      2.390738       2.458634  \n",
       "7         30  2.455055      2.437616       2.479188  \n",
       "8          1  2.398636      2.466760       2.550053  \n",
       "9          1  2.581874      2.488577       2.556232  "
      ]
     },
     "execution_count": 15,
     "metadata": {},
     "output_type": "execute_result"
    }
   ],
   "source": [
    "df_hourly = df_hourly.join(df_hourly.groupby(['Hour','Weekday'])['value'].mean(),\n",
    "on = ['Hour', 'Weekday'], rsuffix='_Average')\n",
    "df_hourly.head(10)"
   ]
  },
  {
   "cell_type": "code",
   "execution_count": 16,
   "metadata": {},
   "outputs": [],
   "source": [
    "df_daily = df_daily.join(df_daily.groupby(['Hour','Weekday'])['value'].mean(),\n",
    "on = ['Hour', 'Weekday'], rsuffix='_Average')"
   ]
  },
  {
   "cell_type": "markdown",
   "metadata": {
    "tags": []
   },
   "source": [
    "## Model"
   ]
  },
  {
   "cell_type": "markdown",
   "metadata": {},
   "source": [
    "#### Droping the Null values created by the new features"
   ]
  },
  {
   "cell_type": "code",
   "execution_count": 17,
   "metadata": {},
   "outputs": [
    {
     "data": {
      "text/html": [
       "<div>\n",
       "<style scoped>\n",
       "    .dataframe tbody tr th:only-of-type {\n",
       "        vertical-align: middle;\n",
       "    }\n",
       "\n",
       "    .dataframe tbody tr th {\n",
       "        vertical-align: top;\n",
       "    }\n",
       "\n",
       "    .dataframe thead th {\n",
       "        text-align: right;\n",
       "    }\n",
       "</style>\n",
       "<table border=\"1\" class=\"dataframe\">\n",
       "  <thead>\n",
       "    <tr style=\"text-align: right;\">\n",
       "      <th></th>\n",
       "      <th>timestamp</th>\n",
       "      <th>value</th>\n",
       "      <th>label</th>\n",
       "      <th>Weekday</th>\n",
       "      <th>Hour</th>\n",
       "      <th>Day</th>\n",
       "      <th>Month</th>\n",
       "      <th>Year</th>\n",
       "      <th>Month_day</th>\n",
       "      <th>Lag</th>\n",
       "      <th>Rolling_Mean</th>\n",
       "      <th>value_Average</th>\n",
       "    </tr>\n",
       "  </thead>\n",
       "  <tbody>\n",
       "    <tr>\n",
       "      <th>0</th>\n",
       "      <td>2017-04-30 16:00:00</td>\n",
       "      <td>2.070492</td>\n",
       "      <td>0.0</td>\n",
       "      <td>Sunday</td>\n",
       "      <td>16</td>\n",
       "      <td>6</td>\n",
       "      <td>4</td>\n",
       "      <td>2017</td>\n",
       "      <td>30</td>\n",
       "      <td>2.070492</td>\n",
       "      <td>2.390738</td>\n",
       "      <td>2.398116</td>\n",
       "    </tr>\n",
       "    <tr>\n",
       "      <th>1</th>\n",
       "      <td>2017-04-30 17:00:00</td>\n",
       "      <td>2.377869</td>\n",
       "      <td>0.0</td>\n",
       "      <td>Sunday</td>\n",
       "      <td>17</td>\n",
       "      <td>6</td>\n",
       "      <td>4</td>\n",
       "      <td>2017</td>\n",
       "      <td>30</td>\n",
       "      <td>2.070492</td>\n",
       "      <td>2.390738</td>\n",
       "      <td>2.616236</td>\n",
       "    </tr>\n",
       "    <tr>\n",
       "      <th>2</th>\n",
       "      <td>2017-04-30 18:00:00</td>\n",
       "      <td>2.606784</td>\n",
       "      <td>0.0</td>\n",
       "      <td>Sunday</td>\n",
       "      <td>18</td>\n",
       "      <td>6</td>\n",
       "      <td>4</td>\n",
       "      <td>2017</td>\n",
       "      <td>30</td>\n",
       "      <td>2.377869</td>\n",
       "      <td>2.390738</td>\n",
       "      <td>2.683869</td>\n",
       "    </tr>\n",
       "    <tr>\n",
       "      <th>3</th>\n",
       "      <td>2017-04-30 19:00:00</td>\n",
       "      <td>2.559123</td>\n",
       "      <td>0.0</td>\n",
       "      <td>Sunday</td>\n",
       "      <td>19</td>\n",
       "      <td>6</td>\n",
       "      <td>4</td>\n",
       "      <td>2017</td>\n",
       "      <td>30</td>\n",
       "      <td>2.606784</td>\n",
       "      <td>2.390738</td>\n",
       "      <td>2.644119</td>\n",
       "    </tr>\n",
       "    <tr>\n",
       "      <th>4</th>\n",
       "      <td>2017-04-30 20:00:00</td>\n",
       "      <td>2.366940</td>\n",
       "      <td>0.0</td>\n",
       "      <td>Sunday</td>\n",
       "      <td>20</td>\n",
       "      <td>6</td>\n",
       "      <td>4</td>\n",
       "      <td>2017</td>\n",
       "      <td>30</td>\n",
       "      <td>2.559123</td>\n",
       "      <td>2.390738</td>\n",
       "      <td>2.580202</td>\n",
       "    </tr>\n",
       "  </tbody>\n",
       "</table>\n",
       "</div>"
      ],
      "text/plain": [
       "            timestamp     value  label Weekday  Hour  Day  Month  Year  \\\n",
       "0 2017-04-30 16:00:00  2.070492    0.0  Sunday    16    6      4  2017   \n",
       "1 2017-04-30 17:00:00  2.377869    0.0  Sunday    17    6      4  2017   \n",
       "2 2017-04-30 18:00:00  2.606784    0.0  Sunday    18    6      4  2017   \n",
       "3 2017-04-30 19:00:00  2.559123    0.0  Sunday    19    6      4  2017   \n",
       "4 2017-04-30 20:00:00  2.366940    0.0  Sunday    20    6      4  2017   \n",
       "\n",
       "   Month_day       Lag  Rolling_Mean  value_Average  \n",
       "0         30  2.070492      2.390738       2.398116  \n",
       "1         30  2.070492      2.390738       2.616236  \n",
       "2         30  2.377869      2.390738       2.683869  \n",
       "3         30  2.606784      2.390738       2.644119  \n",
       "4         30  2.559123      2.390738       2.580202  "
      ]
     },
     "execution_count": 17,
     "metadata": {},
     "output_type": "execute_result"
    }
   ],
   "source": [
    "# check! better approches for filling nan values!\n",
    "\n",
    "# df_daily = df_daily.dropna()\n",
    "# df_hourly = df_hourly.dropna()\n",
    "df_hourly.bfill(inplace=True)\n",
    "df_hourly.head()"
   ]
  },
  {
   "cell_type": "markdown",
   "metadata": {},
   "source": [
    "#### Choosing Features for our model"
   ]
  },
  {
   "cell_type": "code",
   "execution_count": 18,
   "metadata": {},
   "outputs": [
    {
     "data": {
      "text/html": [
       "<div>\n",
       "<style scoped>\n",
       "    .dataframe tbody tr th:only-of-type {\n",
       "        vertical-align: middle;\n",
       "    }\n",
       "\n",
       "    .dataframe tbody tr th {\n",
       "        vertical-align: top;\n",
       "    }\n",
       "\n",
       "    .dataframe thead th {\n",
       "        text-align: right;\n",
       "    }\n",
       "</style>\n",
       "<table border=\"1\" class=\"dataframe\">\n",
       "  <thead>\n",
       "    <tr style=\"text-align: right;\">\n",
       "      <th></th>\n",
       "      <th>value</th>\n",
       "      <th>Hour</th>\n",
       "      <th>Day</th>\n",
       "      <th>Month_day</th>\n",
       "      <th>Month</th>\n",
       "      <th>Rolling_Mean</th>\n",
       "      <th>Lag</th>\n",
       "    </tr>\n",
       "  </thead>\n",
       "  <tbody>\n",
       "    <tr>\n",
       "      <th>0</th>\n",
       "      <td>2.070492</td>\n",
       "      <td>16</td>\n",
       "      <td>6</td>\n",
       "      <td>30</td>\n",
       "      <td>4</td>\n",
       "      <td>2.390738</td>\n",
       "      <td>2.070492</td>\n",
       "    </tr>\n",
       "    <tr>\n",
       "      <th>1</th>\n",
       "      <td>2.377869</td>\n",
       "      <td>17</td>\n",
       "      <td>6</td>\n",
       "      <td>30</td>\n",
       "      <td>4</td>\n",
       "      <td>2.390738</td>\n",
       "      <td>2.070492</td>\n",
       "    </tr>\n",
       "    <tr>\n",
       "      <th>2</th>\n",
       "      <td>2.606784</td>\n",
       "      <td>18</td>\n",
       "      <td>6</td>\n",
       "      <td>30</td>\n",
       "      <td>4</td>\n",
       "      <td>2.390738</td>\n",
       "      <td>2.377869</td>\n",
       "    </tr>\n",
       "    <tr>\n",
       "      <th>3</th>\n",
       "      <td>2.559123</td>\n",
       "      <td>19</td>\n",
       "      <td>6</td>\n",
       "      <td>30</td>\n",
       "      <td>4</td>\n",
       "      <td>2.390738</td>\n",
       "      <td>2.606784</td>\n",
       "    </tr>\n",
       "    <tr>\n",
       "      <th>4</th>\n",
       "      <td>2.366940</td>\n",
       "      <td>20</td>\n",
       "      <td>6</td>\n",
       "      <td>30</td>\n",
       "      <td>4</td>\n",
       "      <td>2.390738</td>\n",
       "      <td>2.559123</td>\n",
       "    </tr>\n",
       "  </tbody>\n",
       "</table>\n",
       "</div>"
      ],
      "text/plain": [
       "      value  Hour  Day  Month_day  Month  Rolling_Mean       Lag\n",
       "0  2.070492    16    6         30      4      2.390738  2.070492\n",
       "1  2.377869    17    6         30      4      2.390738  2.070492\n",
       "2  2.606784    18    6         30      4      2.390738  2.377869\n",
       "3  2.559123    19    6         30      4      2.390738  2.606784\n",
       "4  2.366940    20    6         30      4      2.390738  2.559123"
      ]
     },
     "execution_count": 18,
     "metadata": {},
     "output_type": "execute_result"
    }
   ],
   "source": [
    "df_daily_model_data = df_daily[['value', 'Hour', 'Day',  'Month','Month_day','Rolling_Mean']].dropna()\n",
    "model_data = df_hourly[['value', 'Hour', 'Day', 'Month_day', 'Month','Rolling_Mean','Lag']]\n",
    "model_data.head()"
   ]
  },
  {
   "cell_type": "markdown",
   "metadata": {},
   "source": [
    "#### Now let fit the Isolation Forest Model and View Outliers"
   ]
  },
  {
   "cell_type": "code",
   "execution_count": 19,
   "metadata": {},
   "outputs": [
    {
     "name": "stderr",
     "output_type": "stream",
     "text": [
      "/home/madadi/anaconda3/envs/main/lib/python3.10/site-packages/sklearn/base.py:450: UserWarning: X does not have valid feature names, but IsolationForest was fitted with feature names\n",
      "  warnings.warn(\n"
     ]
    },
    {
     "data": {
      "text/html": [
       "<div>\n",
       "<style scoped>\n",
       "    .dataframe tbody tr th:only-of-type {\n",
       "        vertical-align: middle;\n",
       "    }\n",
       "\n",
       "    .dataframe tbody tr th {\n",
       "        vertical-align: top;\n",
       "    }\n",
       "\n",
       "    .dataframe thead th {\n",
       "        text-align: right;\n",
       "    }\n",
       "</style>\n",
       "<table border=\"1\" class=\"dataframe\">\n",
       "  <thead>\n",
       "    <tr style=\"text-align: right;\">\n",
       "      <th></th>\n",
       "      <th>timestamp</th>\n",
       "      <th>value</th>\n",
       "      <th>label</th>\n",
       "      <th>Weekday</th>\n",
       "      <th>Hour</th>\n",
       "      <th>Day</th>\n",
       "      <th>Month</th>\n",
       "      <th>Year</th>\n",
       "      <th>Month_day</th>\n",
       "      <th>Lag</th>\n",
       "      <th>Rolling_Mean</th>\n",
       "      <th>value_Average</th>\n",
       "      <th>Outliers</th>\n",
       "      <th>Score</th>\n",
       "    </tr>\n",
       "  </thead>\n",
       "  <tbody>\n",
       "    <tr>\n",
       "      <th>0</th>\n",
       "      <td>2017-04-30 16:00:00</td>\n",
       "      <td>2.070492</td>\n",
       "      <td>0.0</td>\n",
       "      <td>Sunday</td>\n",
       "      <td>16</td>\n",
       "      <td>6</td>\n",
       "      <td>4</td>\n",
       "      <td>2017</td>\n",
       "      <td>30</td>\n",
       "      <td>2.070492</td>\n",
       "      <td>2.390738</td>\n",
       "      <td>2.398116</td>\n",
       "      <td>0</td>\n",
       "      <td>0.000172</td>\n",
       "    </tr>\n",
       "    <tr>\n",
       "      <th>1</th>\n",
       "      <td>2017-04-30 17:00:00</td>\n",
       "      <td>2.377869</td>\n",
       "      <td>0.0</td>\n",
       "      <td>Sunday</td>\n",
       "      <td>17</td>\n",
       "      <td>6</td>\n",
       "      <td>4</td>\n",
       "      <td>2017</td>\n",
       "      <td>30</td>\n",
       "      <td>2.070492</td>\n",
       "      <td>2.390738</td>\n",
       "      <td>2.616236</td>\n",
       "      <td>0</td>\n",
       "      <td>0.007669</td>\n",
       "    </tr>\n",
       "    <tr>\n",
       "      <th>2</th>\n",
       "      <td>2017-04-30 18:00:00</td>\n",
       "      <td>2.606784</td>\n",
       "      <td>0.0</td>\n",
       "      <td>Sunday</td>\n",
       "      <td>18</td>\n",
       "      <td>6</td>\n",
       "      <td>4</td>\n",
       "      <td>2017</td>\n",
       "      <td>30</td>\n",
       "      <td>2.377869</td>\n",
       "      <td>2.390738</td>\n",
       "      <td>2.683869</td>\n",
       "      <td>0</td>\n",
       "      <td>0.007016</td>\n",
       "    </tr>\n",
       "    <tr>\n",
       "      <th>3</th>\n",
       "      <td>2017-04-30 19:00:00</td>\n",
       "      <td>2.559123</td>\n",
       "      <td>0.0</td>\n",
       "      <td>Sunday</td>\n",
       "      <td>19</td>\n",
       "      <td>6</td>\n",
       "      <td>4</td>\n",
       "      <td>2017</td>\n",
       "      <td>30</td>\n",
       "      <td>2.606784</td>\n",
       "      <td>2.390738</td>\n",
       "      <td>2.644119</td>\n",
       "      <td>0</td>\n",
       "      <td>0.009548</td>\n",
       "    </tr>\n",
       "    <tr>\n",
       "      <th>4</th>\n",
       "      <td>2017-04-30 20:00:00</td>\n",
       "      <td>2.366940</td>\n",
       "      <td>0.0</td>\n",
       "      <td>Sunday</td>\n",
       "      <td>20</td>\n",
       "      <td>6</td>\n",
       "      <td>4</td>\n",
       "      <td>2017</td>\n",
       "      <td>30</td>\n",
       "      <td>2.559123</td>\n",
       "      <td>2.390738</td>\n",
       "      <td>2.580202</td>\n",
       "      <td>0</td>\n",
       "      <td>0.022457</td>\n",
       "    </tr>\n",
       "  </tbody>\n",
       "</table>\n",
       "</div>"
      ],
      "text/plain": [
       "            timestamp     value  label Weekday  Hour  Day  Month  Year  \\\n",
       "0 2017-04-30 16:00:00  2.070492    0.0  Sunday    16    6      4  2017   \n",
       "1 2017-04-30 17:00:00  2.377869    0.0  Sunday    17    6      4  2017   \n",
       "2 2017-04-30 18:00:00  2.606784    0.0  Sunday    18    6      4  2017   \n",
       "3 2017-04-30 19:00:00  2.559123    0.0  Sunday    19    6      4  2017   \n",
       "4 2017-04-30 20:00:00  2.366940    0.0  Sunday    20    6      4  2017   \n",
       "\n",
       "   Month_day       Lag  Rolling_Mean  value_Average  Outliers     Score  \n",
       "0         30  2.070492      2.390738       2.398116         0  0.000172  \n",
       "1         30  2.070492      2.390738       2.616236         0  0.007669  \n",
       "2         30  2.377869      2.390738       2.683869         0  0.007016  \n",
       "3         30  2.606784      2.390738       2.644119         0  0.009548  \n",
       "4         30  2.559123      2.390738       2.580202         0  0.022457  "
      ]
     },
     "execution_count": 19,
     "metadata": {},
     "output_type": "execute_result"
    }
   ],
   "source": [
    "if_model = IsolationForest(random_state=0, contamination=0.005, n_estimators=200, max_samples=0.7)\n",
    "if_model.fit(model_data)\n",
    "\n",
    "# New Column for Outliers\n",
    "df_hourly['Outliers'] = pd.Series(if_model.predict(model_data)).apply(lambda x: 1 if x == -1 else 0)\n",
    "\n",
    "# Get Anomaly Score\n",
    "df_hourly['Score'] = if_model.decision_function(model_data)\n",
    "\n",
    "df_hourly.head()"
   ]
  },
  {
   "cell_type": "markdown",
   "metadata": {},
   "source": [
    "##### We can now see the anomaly scores for each data point. The lower, the more abnormal. Negative scores represent outliers, positive scores represent inliers."
   ]
  },
  {
   "cell_type": "markdown",
   "metadata": {},
   "source": [
    "## Viewing the Anomalies"
   ]
  },
  {
   "cell_type": "code",
   "execution_count": 20,
   "metadata": {},
   "outputs": [
    {
     "ename": "NameError",
     "evalue": "name 'HoverTool' is not defined",
     "output_type": "error",
     "traceback": [
      "\u001b[0;31m---------------------------------------------------------------------------\u001b[0m",
      "\u001b[0;31mNameError\u001b[0m                                 Traceback (most recent call last)",
      "\u001b[1;32m/home/madadi/Project/datadays/eda.ipynb Cell 36\u001b[0m in \u001b[0;36m<cell line: 9>\u001b[0;34m()\u001b[0m\n\u001b[1;32m      <a href='vscode-notebook-cell://wsl%2Bubuntu/home/madadi/Project/datadays/eda.ipynb#X45sdnNjb2RlLXJlbW90ZQ%3D%3D?line=0'>1</a>\u001b[0m tooltips \u001b[39m=\u001b[39m [\n\u001b[1;32m      <a href='vscode-notebook-cell://wsl%2Bubuntu/home/madadi/Project/datadays/eda.ipynb#X45sdnNjb2RlLXJlbW90ZQ%3D%3D?line=1'>2</a>\u001b[0m     (\u001b[39m'\u001b[39m\u001b[39mWeekday\u001b[39m\u001b[39m'\u001b[39m, \u001b[39m'\u001b[39m\u001b[39m@Weekday\u001b[39m\u001b[39m'\u001b[39m),\n\u001b[1;32m      <a href='vscode-notebook-cell://wsl%2Bubuntu/home/madadi/Project/datadays/eda.ipynb#X45sdnNjb2RlLXJlbW90ZQ%3D%3D?line=2'>3</a>\u001b[0m     (\u001b[39m'\u001b[39m\u001b[39mDay\u001b[39m\u001b[39m'\u001b[39m, \u001b[39m'\u001b[39m\u001b[39m@Month_day\u001b[39m\u001b[39m'\u001b[39m),\n\u001b[0;32m   (...)\u001b[0m\n\u001b[1;32m      <a href='vscode-notebook-cell://wsl%2Bubuntu/home/madadi/Project/datadays/eda.ipynb#X45sdnNjb2RlLXJlbW90ZQ%3D%3D?line=6'>7</a>\u001b[0m     (\u001b[39m'\u001b[39m\u001b[39mOutliers\u001b[39m\u001b[39m'\u001b[39m, \u001b[39m'\u001b[39m\u001b[39m@Outliers\u001b[39m\u001b[39m'\u001b[39m)\n\u001b[1;32m      <a href='vscode-notebook-cell://wsl%2Bubuntu/home/madadi/Project/datadays/eda.ipynb#X45sdnNjb2RlLXJlbW90ZQ%3D%3D?line=7'>8</a>\u001b[0m ]\n\u001b[0;32m----> <a href='vscode-notebook-cell://wsl%2Bubuntu/home/madadi/Project/datadays/eda.ipynb#X45sdnNjb2RlLXJlbW90ZQ%3D%3D?line=8'>9</a>\u001b[0m hover \u001b[39m=\u001b[39m HoverTool(tooltips\u001b[39m=\u001b[39mtooltips)\n\u001b[1;32m     <a href='vscode-notebook-cell://wsl%2Bubuntu/home/madadi/Project/datadays/eda.ipynb#X45sdnNjb2RlLXJlbW90ZQ%3D%3D?line=10'>11</a>\u001b[0m hv\u001b[39m.\u001b[39mPoints(df_hourly\u001b[39m.\u001b[39mquery(\u001b[39m\"\u001b[39m\u001b[39mOutliers == 1\u001b[39m\u001b[39m\"\u001b[39m))\u001b[39m.\u001b[39mopts(size\u001b[39m=\u001b[39m\u001b[39m10\u001b[39m, color\u001b[39m=\u001b[39m\u001b[39m'\u001b[39m\u001b[39m#ff0000\u001b[39m\u001b[39m'\u001b[39m) \u001b[39m*\u001b[39m hv\u001b[39m.\u001b[39mCurve(df_hourly)\u001b[39m.\u001b[39mopts(opts\u001b[39m.\u001b[39mCurve(title\u001b[39m=\u001b[39m\u001b[39m\"\u001b[39m\u001b[39mDemand Anomalies\u001b[39m\u001b[39m\"\u001b[39m, xlabel\u001b[39m=\u001b[39m\u001b[39m\"\u001b[39m\u001b[39m\"\u001b[39m, ylabel\u001b[39m=\u001b[39m\u001b[39m\"\u001b[39m\u001b[39mDemand\u001b[39m\u001b[39m\"\u001b[39m , height\u001b[39m=\u001b[39m\u001b[39m300\u001b[39m, responsive\u001b[39m=\u001b[39m\u001b[39mTrue\u001b[39;00m,tools\u001b[39m=\u001b[39m[hover,\u001b[39m'\u001b[39m\u001b[39mbox_select\u001b[39m\u001b[39m'\u001b[39m, \u001b[39m'\u001b[39m\u001b[39mlasso_select\u001b[39m\u001b[39m'\u001b[39m, \u001b[39m'\u001b[39m\u001b[39mtap\u001b[39m\u001b[39m'\u001b[39m],show_grid\u001b[39m=\u001b[39m\u001b[39mTrue\u001b[39;00m))\n",
      "\u001b[0;31mNameError\u001b[0m: name 'HoverTool' is not defined"
     ]
    }
   ],
   "source": [
    "tooltips = [\n",
    "    ('Weekday', '@Weekday'),\n",
    "    ('Day', '@Month_day'),\n",
    "    ('Month', '@Month'),\n",
    "    ('Value', '@value'),\n",
    "    ('Average Vale', '@value_Average'),\n",
    "    ('Outliers', '@Outliers')\n",
    "]\n",
    "hover = HoverTool(tooltips=tooltips)\n",
    "\n",
    "hv.Points(df_hourly.query(\"Outliers == 1\")).opts(size=10, color='#ff0000') * hv.Curve(df_hourly).opts(opts.Curve(title=\"Demand Anomalies\", xlabel=\"\", ylabel=\"Demand\" , height=300, responsive=True,tools=[hover,'box_select', 'lasso_select', 'tap'],show_grid=True))"
   ]
  },
  {
   "cell_type": "code",
   "execution_count": null,
   "metadata": {},
   "outputs": [
    {
     "data": {
      "text/plain": [
       "5"
      ]
     },
     "execution_count": 135,
     "metadata": {},
     "output_type": "execute_result"
    }
   ],
   "source": [
    "len(df_hourly.query(\"Outliers == 1\"))"
   ]
  },
  {
   "cell_type": "code",
   "execution_count": null,
   "metadata": {},
   "outputs": [
    {
     "name": "stdout",
     "output_type": "stream",
     "text": [
      "Values: 50, Edges: 51\n"
     ]
    },
    {
     "data": {},
     "metadata": {},
     "output_type": "display_data"
    },
    {
     "data": {
      "application/vnd.holoviews_exec.v0+json": "",
      "text/html": [
       "<div id='12932'>\n",
       "  <div class=\"bk-root\" id=\"df04bccb-3538-4aec-933b-a1252bc2e662\" data-root-id=\"12932\"></div>\n",
       "</div>\n",
       "<script type=\"application/javascript\">(function(root) {\n",
       "  function embed_document(root) {\n",
       "    var docs_json = {\"0810c86d-a482-4ec0-874b-4f011afa940a\":{\"defs\":[{\"extends\":null,\"module\":null,\"name\":\"ReactiveHTML1\",\"overrides\":[],\"properties\":[]},{\"extends\":null,\"module\":null,\"name\":\"FlexBox1\",\"overrides\":[],\"properties\":[{\"default\":\"flex-start\",\"kind\":null,\"name\":\"align_content\"},{\"default\":\"flex-start\",\"kind\":null,\"name\":\"align_items\"},{\"default\":\"row\",\"kind\":null,\"name\":\"flex_direction\"},{\"default\":\"wrap\",\"kind\":null,\"name\":\"flex_wrap\"},{\"default\":\"flex-start\",\"kind\":null,\"name\":\"justify_content\"}]},{\"extends\":null,\"module\":null,\"name\":\"GridStack1\",\"overrides\":[],\"properties\":[{\"default\":\"warn\",\"kind\":null,\"name\":\"mode\"},{\"default\":null,\"kind\":null,\"name\":\"ncols\"},{\"default\":null,\"kind\":null,\"name\":\"nrows\"},{\"default\":true,\"kind\":null,\"name\":\"allow_resize\"},{\"default\":true,\"kind\":null,\"name\":\"allow_drag\"},{\"default\":[],\"kind\":null,\"name\":\"state\"}]},{\"extends\":null,\"module\":null,\"name\":\"click1\",\"overrides\":[],\"properties\":[{\"default\":\"\",\"kind\":null,\"name\":\"terminal_output\"},{\"default\":\"\",\"kind\":null,\"name\":\"debug_name\"},{\"default\":0,\"kind\":null,\"name\":\"clears\"}]},{\"extends\":null,\"module\":null,\"name\":\"NotificationAreaBase1\",\"overrides\":[],\"properties\":[{\"default\":\"bottom-right\",\"kind\":null,\"name\":\"position\"},{\"default\":0,\"kind\":null,\"name\":\"_clear\"}]},{\"extends\":null,\"module\":null,\"name\":\"NotificationArea1\",\"overrides\":[],\"properties\":[{\"default\":[],\"kind\":null,\"name\":\"notifications\"},{\"default\":\"bottom-right\",\"kind\":null,\"name\":\"position\"},{\"default\":0,\"kind\":null,\"name\":\"_clear\"},{\"default\":[{\"background\":\"#ffc107\",\"icon\":{\"className\":\"fas fa-exclamation-triangle\",\"color\":\"white\",\"tagName\":\"i\"},\"type\":\"warning\"},{\"background\":\"#007bff\",\"icon\":{\"className\":\"fas fa-info-circle\",\"color\":\"white\",\"tagName\":\"i\"},\"type\":\"info\"}],\"kind\":null,\"name\":\"types\"}]},{\"extends\":null,\"module\":null,\"name\":\"Notification\",\"overrides\":[],\"properties\":[{\"default\":null,\"kind\":null,\"name\":\"background\"},{\"default\":3000,\"kind\":null,\"name\":\"duration\"},{\"default\":null,\"kind\":null,\"name\":\"icon\"},{\"default\":\"\",\"kind\":null,\"name\":\"message\"},{\"default\":null,\"kind\":null,\"name\":\"notification_type\"},{\"default\":false,\"kind\":null,\"name\":\"_destroyed\"}]},{\"extends\":null,\"module\":null,\"name\":\"TemplateActions1\",\"overrides\":[],\"properties\":[{\"default\":0,\"kind\":null,\"name\":\"open_modal\"},{\"default\":0,\"kind\":null,\"name\":\"close_modal\"}]},{\"extends\":null,\"module\":null,\"name\":\"MaterialTemplateActions1\",\"overrides\":[],\"properties\":[{\"default\":0,\"kind\":null,\"name\":\"open_modal\"},{\"default\":0,\"kind\":null,\"name\":\"close_modal\"}]}],\"roots\":{\"references\":[{\"attributes\":{\"margin\":[5,5,5,5],\"name\":\"HSpacer09536\",\"sizing_mode\":\"stretch_width\"},\"id\":\"12933\",\"type\":\"Spacer\"},{\"attributes\":{},\"id\":\"12954\",\"type\":\"SaveTool\"},{\"attributes\":{\"callback\":null,\"renderers\":[{\"id\":\"12973\"}],\"tags\":[\"hv_created\"],\"tooltips\":[[\"x\",\"@{x}\"],[\"Frequency\",\"@{Frequency}\"]]},\"id\":\"12936\",\"type\":\"HoverTool\"},{\"attributes\":{},\"id\":\"12955\",\"type\":\"PanTool\"},{\"attributes\":{},\"id\":\"12980\",\"type\":\"BasicTickFormatter\"},{\"attributes\":{},\"id\":\"12989\",\"type\":\"UnionRenderers\"},{\"attributes\":{\"coordinates\":null,\"group\":null,\"text_color\":\"black\",\"text_font_size\":\"12pt\"},\"id\":\"12938\",\"type\":\"Title\"},{\"attributes\":{},\"id\":\"12956\",\"type\":\"WheelZoomTool\"},{\"attributes\":{\"overlay\":{\"id\":\"12959\"}},\"id\":\"12957\",\"type\":\"BoxZoomTool\"},{\"attributes\":{},\"id\":\"12981\",\"type\":\"AllLabels\"},{\"attributes\":{},\"id\":\"12958\",\"type\":\"ResetTool\"},{\"attributes\":{},\"id\":\"12944\",\"type\":\"LinearScale\"},{\"attributes\":{\"children\":[{\"id\":\"12933\"},{\"id\":\"12937\"},{\"id\":\"12992\"}],\"margin\":[0,0,0,0],\"name\":\"Row09532\",\"tags\":[\"embedded\"]},\"id\":\"12932\",\"type\":\"Row\"},{\"attributes\":{\"bottom_units\":\"screen\",\"coordinates\":null,\"fill_alpha\":0.5,\"fill_color\":\"lightgrey\",\"group\":null,\"left_units\":\"screen\",\"level\":\"overlay\",\"line_alpha\":1.0,\"line_color\":\"black\",\"line_dash\":[4,4],\"line_width\":2,\"right_units\":\"screen\",\"syncable\":false,\"top_units\":\"screen\"},\"id\":\"12959\",\"type\":\"BoxAnnotation\"},{\"attributes\":{\"source\":{\"id\":\"12967\"}},\"id\":\"12974\",\"type\":\"CDSView\"},{\"attributes\":{\"data\":{\"Frequency\":[1,0,0,0,0,0,2,1,0,2,3,4,3,4,7,4,6,7,9,4,10,6,10,7,7,15,12,13,23,35,29,30,40,45,40,47,55,53,47,45,48,47,53,59,50,39,31,27,10,4],\"left\":{\"__ndarray__\":\"EF5Ofcqqp7/5YMdSc0alv+JjQCgc4qK/zGa5/cR9oL9p02Sm2zKcvzvZVlEtape/Dt9I/H6hkr/AyXVOobGLv2TVWaREIIK/EMJ79M8dcb9ANeH9SidAP2AP9LOiJ3U/CPwVBC4lhD9k8DGuiraNP2DyJqzzo5M/kOw0AaJsmD+85kJWUDWdP3RwqFX//qA/jG0vgFZjoz+iaraqrcelP7pnPdUELKg/0GTE/1uQqj/oYUsqs/SsP/5e0lQKWa8/Cq6sv7DesD+WLPBU3BCyPyGrM+oHQ7M/rCl3fzN1tD84qLoUX6e1P8Qm/qmK2bY/UKVBP7YLuD/aI4XU4T25P2aiyGkNcLo/8iAM/ziiuz98n0+UZNS8PwgekymQBr4/lJzWvrs4vz+QDQ2qczXAP9XMrnSJzsA/G4xQP59nwT9hS/IJtQDCP6YKlNTKmcI/7Mk1n+Aywz8yiddp9svDP3hIeTQMZcQ/vQcb/yH+xD8Dx7zJN5fFP0mGXpRNMMY/jkUAX2PJxj/UBKIpeWLHPw==\",\"dtype\":\"float64\",\"order\":\"little\",\"shape\":[50]},\"right\":{\"__ndarray__\":\"+WDHUnNGpb/iY0AoHOKiv8xmuf3EfaC/adNkptsynL872VZRLWqXvw7fSPx+oZK/wMl1TqGxi79k1VmkRCCCvxDCe/TPHXG/QDXh/UonQD9gD/Szoid1Pwj8FQQuJYQ/ZPAxroq2jT9g8ias86OTP5DsNAGibJg/vOZCVlA1nT90cKhV//6gP4xtL4BWY6M/omq2qq3HpT+6Zz3VBCyoP9BkxP9bkKo/6GFLKrP0rD/+XtJUClmvPwqurL+w3rA/lizwVNwQsj8hqzPqB0OzP6wpd38zdbQ/OKi6FF+ntT/EJv6pitm2P1ClQT+2C7g/2iOF1OE9uT9moshpDXC6P/IgDP84ors/fJ9PlGTUvD8IHpMpkAa+P5Sc1r67OL8/kA0NqnM1wD/VzK50ic7APxuMUD+fZ8E/YUvyCbUAwj+mCpTUypnCP+zJNZ/gMsM/MonXafbLwz94SHk0DGXEP70HG/8h/sQ/A8e8yTeXxT9Jhl6UTTDGP45FAF9jycY/1ASiKXlixz8axEP0jvvHPw==\",\"dtype\":\"float64\",\"order\":\"little\",\"shape\":[50]},\"top\":[1,0,0,0,0,0,2,1,0,2,3,4,3,4,7,4,6,7,9,4,10,6,10,7,7,15,12,13,23,35,29,30,40,45,40,47,55,53,47,45,48,47,53,59,50,39,31,27,10,4],\"x\":{\"__ndarray__\":\"hN8K6J54pr9u4oO9RxSkv1fl/JLwr6G/gNDr0DKXnr9S1t17hM6ZvyTczybWBZW/9+HB0Sc9kL+Sz2f58uiGv2y2l54sr3q/0DZ/Kc0xXr8INrATjCxnP7gDEF7/uH4/NvYjWdztiD9J9Z+BnD+RP3jvrdZKCJY/pum7K/nQmj/S48mAp5mfPwDv6+oqMaI/F+xyFYKVpD8u6fk/2fmmP0XmgGowXqk/XOMHlYfCqz9z4I6/3iauP8TuCvWaRbA/UG1OisZ3sT/c65Ef8qmyP2Zq1bQd3LM/8ugYSkkOtT9+Z1zfdEC2Pwrmn3Sgcrc/lWTjCcykuD8g4yaf99a5P6xhajQjCbs/N+CtyU47vD/CXvFeem29P07dNPSln74/2lt4idHRvz8y7V2P/oHAP3is/1kUG8E/vmuhJCq0wT8EK0PvP03CP0nq5LlV5sI/j6mGhGt/wz/VaChPgRjEPxooyhmXscQ/YOdr5KxKxT+mpg2vwuPFP+xlr3nYfMY/MSVRRO4Vxz935PIOBK/HPw==\",\"dtype\":\"float64\",\"order\":\"little\",\"shape\":[50]}},\"selected\":{\"id\":\"12968\"},\"selection_policy\":{\"id\":\"12989\"}},\"id\":\"12967\",\"type\":\"ColumnDataSource\"},{\"attributes\":{},\"id\":\"12978\",\"type\":\"AllLabels\"},{\"attributes\":{\"bottom\":{\"value\":0},\"fill_alpha\":{\"value\":0.1},\"fill_color\":{\"value\":\"#30a2da\"},\"hatch_alpha\":{\"value\":0.1},\"hatch_color\":{\"value\":\"#30a2da\"},\"left\":{\"field\":\"left\"},\"line_alpha\":{\"value\":0.1},\"right\":{\"field\":\"right\"},\"top\":{\"field\":\"top\"}},\"id\":\"12971\",\"type\":\"Quad\"},{\"attributes\":{\"bottom\":{\"value\":0},\"fill_alpha\":{\"value\":0.2},\"fill_color\":{\"value\":\"#30a2da\"},\"hatch_alpha\":{\"value\":0.2},\"hatch_color\":{\"value\":\"#30a2da\"},\"left\":{\"field\":\"left\"},\"line_alpha\":{\"value\":0.2},\"right\":{\"field\":\"right\"},\"top\":{\"field\":\"top\"}},\"id\":\"12972\",\"type\":\"Quad\"},{\"attributes\":{\"margin\":[5,5,5,5],\"name\":\"HSpacer09537\",\"sizing_mode\":\"stretch_width\"},\"id\":\"12992\",\"type\":\"Spacer\"},{\"attributes\":{\"axis_label\":\"Frequency\",\"coordinates\":null,\"formatter\":{\"id\":\"12980\"},\"group\":null,\"major_label_policy\":{\"id\":\"12981\"},\"ticker\":{\"id\":\"12951\"}},\"id\":\"12950\",\"type\":\"LinearAxis\"},{\"attributes\":{\"below\":[{\"id\":\"12946\"}],\"center\":[{\"id\":\"12949\"},{\"id\":\"12953\"}],\"height\":300,\"left\":[{\"id\":\"12950\"}],\"margin\":[5,5,5,5],\"min_border_bottom\":10,\"min_border_left\":10,\"min_border_right\":10,\"min_border_top\":10,\"renderers\":[{\"id\":\"12973\"}],\"sizing_mode\":\"fixed\",\"title\":{\"id\":\"12938\"},\"toolbar\":{\"id\":\"12960\"},\"width\":800,\"x_range\":{\"id\":\"12934\"},\"x_scale\":{\"id\":\"12942\"},\"y_range\":{\"id\":\"12935\"},\"y_scale\":{\"id\":\"12944\"}},\"id\":\"12937\",\"subtype\":\"Figure\",\"type\":\"Plot\"},{\"attributes\":{},\"id\":\"12947\",\"type\":\"BasicTicker\"},{\"attributes\":{\"coordinates\":null,\"data_source\":{\"id\":\"12967\"},\"glyph\":{\"id\":\"12970\"},\"group\":null,\"hover_glyph\":null,\"muted_glyph\":{\"id\":\"12972\"},\"nonselection_glyph\":{\"id\":\"12971\"},\"selection_glyph\":{\"id\":\"12975\"},\"view\":{\"id\":\"12974\"}},\"id\":\"12973\",\"type\":\"GlyphRenderer\"},{\"attributes\":{},\"id\":\"12942\",\"type\":\"LinearScale\"},{\"attributes\":{\"bottom\":{\"value\":0},\"fill_alpha\":{\"value\":1.0},\"fill_color\":{\"value\":\"#30a2da\"},\"hatch_alpha\":{\"value\":1.0},\"hatch_color\":{\"value\":\"#30a2da\"},\"hatch_scale\":{\"value\":12.0},\"hatch_weight\":{\"value\":1.0},\"left\":{\"field\":\"left\"},\"line_alpha\":{\"value\":1.0},\"line_cap\":{\"value\":\"butt\"},\"line_color\":{\"value\":\"black\"},\"line_dash\":{\"value\":[]},\"line_dash_offset\":{\"value\":0},\"line_join\":{\"value\":\"bevel\"},\"line_width\":{\"value\":1},\"right\":{\"field\":\"right\"},\"top\":{\"field\":\"top\"}},\"id\":\"12975\",\"type\":\"Quad\"},{\"attributes\":{\"end\":64.9,\"reset_end\":64.9,\"reset_start\":0.0,\"tags\":[[[\"Frequency\",\"Frequency\",null]]]},\"id\":\"12935\",\"type\":\"Range1d\"},{\"attributes\":{},\"id\":\"12951\",\"type\":\"BasicTicker\"},{\"attributes\":{\"end\":0.1961240545843647,\"reset_end\":0.1961240545843647,\"reset_start\":-0.054984507738241116,\"start\":-0.054984507738241116,\"tags\":[[[\"x\",\"x\",null]]]},\"id\":\"12934\",\"type\":\"Range1d\"},{\"attributes\":{\"axis\":{\"id\":\"12946\"},\"coordinates\":null,\"grid_line_color\":null,\"group\":null,\"ticker\":null},\"id\":\"12949\",\"type\":\"Grid\"},{\"attributes\":{},\"id\":\"12977\",\"type\":\"BasicTickFormatter\"},{\"attributes\":{\"bottom\":{\"value\":0},\"fill_color\":{\"value\":\"#30a2da\"},\"hatch_color\":{\"value\":\"#30a2da\"},\"left\":{\"field\":\"left\"},\"right\":{\"field\":\"right\"},\"top\":{\"field\":\"top\"}},\"id\":\"12970\",\"type\":\"Quad\"},{\"attributes\":{},\"id\":\"12968\",\"type\":\"Selection\"},{\"attributes\":{\"axis_label\":\"Score\",\"coordinates\":null,\"formatter\":{\"id\":\"12977\"},\"group\":null,\"major_label_policy\":{\"id\":\"12978\"},\"ticker\":{\"id\":\"12947\"}},\"id\":\"12946\",\"type\":\"LinearAxis\"},{\"attributes\":{\"axis\":{\"id\":\"12950\"},\"coordinates\":null,\"dimension\":1,\"grid_line_color\":null,\"group\":null,\"ticker\":null},\"id\":\"12953\",\"type\":\"Grid\"},{\"attributes\":{\"tools\":[{\"id\":\"12936\"},{\"id\":\"12954\"},{\"id\":\"12955\"},{\"id\":\"12956\"},{\"id\":\"12957\"},{\"id\":\"12958\"}]},\"id\":\"12960\",\"type\":\"Toolbar\"}],\"root_ids\":[\"12932\"]},\"title\":\"Bokeh Application\",\"version\":\"2.4.3\"}};\n",
       "    var render_items = [{\"docid\":\"0810c86d-a482-4ec0-874b-4f011afa940a\",\"root_ids\":[\"12932\"],\"roots\":{\"12932\":\"df04bccb-3538-4aec-933b-a1252bc2e662\"}}];\n",
       "    root.Bokeh.embed.embed_items_notebook(docs_json, render_items);\n",
       "  }\n",
       "  if (root.Bokeh !== undefined && root.Bokeh.Panel !== undefined) {\n",
       "    embed_document(root);\n",
       "  } else {\n",
       "    var attempts = 0;\n",
       "    var timer = setInterval(function(root) {\n",
       "      if (root.Bokeh !== undefined && root.Bokeh.Panel !== undefined) {\n",
       "        clearInterval(timer);\n",
       "        embed_document(root);\n",
       "      } else if (document.readyState == \"complete\") {\n",
       "        attempts++;\n",
       "        if (attempts > 200) {\n",
       "          clearInterval(timer);\n",
       "          console.log(\"Bokeh: ERROR: Unable to run BokehJS code because BokehJS library is missing\");\n",
       "        }\n",
       "      }\n",
       "    }, 25, root)\n",
       "  }\n",
       "})(window);</script>"
      ],
      "text/plain": [
       ":Histogram   [x]   (Frequency)"
      ]
     },
     "execution_count": 136,
     "metadata": {
      "application/vnd.holoviews_exec.v0+json": {
       "id": "12932"
      }
     },
     "output_type": "execute_result"
    }
   ],
   "source": [
    "frequencies, edges = np.histogram(score, 50)\n",
    "print('Values: %s, Edges: %s' % (frequencies.shape[0], edges.shape[0]))\n",
    "hv.Histogram((edges, frequencies)).opts(width=800, height=300,tools=['hover'], xlabel='Score')"
   ]
  },
  {
   "cell_type": "code",
   "execution_count": null,
   "metadata": {},
   "outputs": [
    {
     "name": "stdout",
     "output_type": "stream",
     "text": [
      "Number of Outliers below Anomaly Score Threshold 0.05:\n",
      "1\n"
     ]
    }
   ],
   "source": [
    "# Function to view number of outliers at a given threshold\n",
    "outliers(0.05)"
   ]
  },
  {
   "cell_type": "code",
   "execution_count": null,
   "metadata": {},
   "outputs": [
    {
     "data": {},
     "metadata": {},
     "output_type": "display_data"
    },
    {
     "data": {},
     "metadata": {},
     "output_type": "display_data"
    },
    {
     "data": {
      "application/vnd.holoviews_exec.v0+json": "",
      "text/html": [
       "<div id='13045'>\n",
       "  <div class=\"bk-root\" id=\"24dc38cd-810b-41c4-8593-bd08a00415ce\" data-root-id=\"13045\"></div>\n",
       "</div>\n",
       "<script type=\"application/javascript\">(function(root) {\n",
       "  function embed_document(root) {\n",
       "    var docs_json = {\"86f06a5c-34ac-45e5-8f29-5b0aa32cc186\":{\"defs\":[{\"extends\":null,\"module\":null,\"name\":\"ReactiveHTML1\",\"overrides\":[],\"properties\":[]},{\"extends\":null,\"module\":null,\"name\":\"FlexBox1\",\"overrides\":[],\"properties\":[{\"default\":\"flex-start\",\"kind\":null,\"name\":\"align_content\"},{\"default\":\"flex-start\",\"kind\":null,\"name\":\"align_items\"},{\"default\":\"row\",\"kind\":null,\"name\":\"flex_direction\"},{\"default\":\"wrap\",\"kind\":null,\"name\":\"flex_wrap\"},{\"default\":\"flex-start\",\"kind\":null,\"name\":\"justify_content\"}]},{\"extends\":null,\"module\":null,\"name\":\"GridStack1\",\"overrides\":[],\"properties\":[{\"default\":\"warn\",\"kind\":null,\"name\":\"mode\"},{\"default\":null,\"kind\":null,\"name\":\"ncols\"},{\"default\":null,\"kind\":null,\"name\":\"nrows\"},{\"default\":true,\"kind\":null,\"name\":\"allow_resize\"},{\"default\":true,\"kind\":null,\"name\":\"allow_drag\"},{\"default\":[],\"kind\":null,\"name\":\"state\"}]},{\"extends\":null,\"module\":null,\"name\":\"click1\",\"overrides\":[],\"properties\":[{\"default\":\"\",\"kind\":null,\"name\":\"terminal_output\"},{\"default\":\"\",\"kind\":null,\"name\":\"debug_name\"},{\"default\":0,\"kind\":null,\"name\":\"clears\"}]},{\"extends\":null,\"module\":null,\"name\":\"NotificationAreaBase1\",\"overrides\":[],\"properties\":[{\"default\":\"bottom-right\",\"kind\":null,\"name\":\"position\"},{\"default\":0,\"kind\":null,\"name\":\"_clear\"}]},{\"extends\":null,\"module\":null,\"name\":\"NotificationArea1\",\"overrides\":[],\"properties\":[{\"default\":[],\"kind\":null,\"name\":\"notifications\"},{\"default\":\"bottom-right\",\"kind\":null,\"name\":\"position\"},{\"default\":0,\"kind\":null,\"name\":\"_clear\"},{\"default\":[{\"background\":\"#ffc107\",\"icon\":{\"className\":\"fas fa-exclamation-triangle\",\"color\":\"white\",\"tagName\":\"i\"},\"type\":\"warning\"},{\"background\":\"#007bff\",\"icon\":{\"className\":\"fas fa-info-circle\",\"color\":\"white\",\"tagName\":\"i\"},\"type\":\"info\"}],\"kind\":null,\"name\":\"types\"}]},{\"extends\":null,\"module\":null,\"name\":\"Notification\",\"overrides\":[],\"properties\":[{\"default\":null,\"kind\":null,\"name\":\"background\"},{\"default\":3000,\"kind\":null,\"name\":\"duration\"},{\"default\":null,\"kind\":null,\"name\":\"icon\"},{\"default\":\"\",\"kind\":null,\"name\":\"message\"},{\"default\":null,\"kind\":null,\"name\":\"notification_type\"},{\"default\":false,\"kind\":null,\"name\":\"_destroyed\"}]},{\"extends\":null,\"module\":null,\"name\":\"TemplateActions1\",\"overrides\":[],\"properties\":[{\"default\":0,\"kind\":null,\"name\":\"open_modal\"},{\"default\":0,\"kind\":null,\"name\":\"close_modal\"}]},{\"extends\":null,\"module\":null,\"name\":\"MaterialTemplateActions1\",\"overrides\":[],\"properties\":[{\"default\":0,\"kind\":null,\"name\":\"open_modal\"},{\"default\":0,\"kind\":null,\"name\":\"close_modal\"}]}],\"roots\":{\"references\":[{\"attributes\":{\"coordinates\":null,\"fill_alpha\":0.5,\"fill_color\":\"lightgrey\",\"group\":null,\"level\":\"overlay\",\"line_alpha\":1.0,\"line_color\":\"black\",\"line_dash\":[4,4],\"line_width\":2,\"syncable\":false,\"xs_units\":\"screen\",\"ys_units\":\"screen\"},\"id\":\"13077\",\"type\":\"PolyAnnotation\"},{\"attributes\":{\"line_alpha\":0.2,\"line_color\":\"#30a2da\",\"line_width\":2,\"x\":{\"field\":\"timestamp\"},\"y\":{\"field\":\"value\"}},\"id\":\"13110\",\"type\":\"Line\"},{\"attributes\":{\"below\":[{\"id\":\"13059\"}],\"center\":[{\"id\":\"13062\"},{\"id\":\"13066\"}],\"height\":300,\"left\":[{\"id\":\"13063\"}],\"margin\":[5,5,5,5],\"min_border_bottom\":10,\"min_border_left\":10,\"min_border_right\":10,\"min_border_top\":10,\"renderers\":[{\"id\":\"13102\"},{\"id\":\"13111\"}],\"sizing_mode\":\"stretch_width\",\"title\":{\"id\":\"13051\"},\"toolbar\":{\"id\":\"13078\"},\"width\":null,\"x_range\":{\"id\":\"13047\"},\"x_scale\":{\"id\":\"13055\"},\"y_range\":{\"id\":\"13048\"},\"y_scale\":{\"id\":\"13057\"}},\"id\":\"13050\",\"subtype\":\"Figure\",\"type\":\"Plot\"},{\"attributes\":{\"fill_color\":{\"value\":\"#ff0000\"},\"hatch_color\":{\"value\":\"#ff0000\"},\"line_color\":{\"value\":\"#ff0000\"},\"size\":{\"value\":10},\"x\":{\"field\":\"timestamp\"},\"y\":{\"field\":\"value\"}},\"id\":\"13099\",\"type\":\"Scatter\"},{\"attributes\":{},\"id\":\"13090\",\"type\":\"AllLabels\"},{\"attributes\":{},\"id\":\"13097\",\"type\":\"Selection\"},{\"attributes\":{\"callback\":null,\"renderers\":[{\"id\":\"13111\"}],\"tooltips\":[[\"Weekday\",\"@Weekday\"],[\"Day\",\"@Month_day\"],[\"Month\",\"@Month\"],[\"Value\",\"@value\"],[\"Average Vale\",\"@value_Average\"],[\"Outliers\",\"@Outliers\"]]},\"id\":\"13049\",\"type\":\"HoverTool\"},{\"attributes\":{\"line_color\":\"#30a2da\",\"line_width\":2,\"x\":{\"field\":\"timestamp\"},\"y\":{\"field\":\"value\"}},\"id\":\"13113\",\"type\":\"Line\"},{\"attributes\":{},\"id\":\"13092\",\"type\":\"BasicTickFormatter\"},{\"attributes\":{\"axis_label\":\"\",\"coordinates\":null,\"formatter\":{\"id\":\"13089\"},\"group\":null,\"major_label_policy\":{\"id\":\"13090\"},\"ticker\":{\"id\":\"13060\"}},\"id\":\"13059\",\"type\":\"DatetimeAxis\"},{\"attributes\":{\"data\":{\"Day\":[6,6,6,6,6,6,6,6,6,6,6,6,0,0,0,0,0,0,0,0,0,0,0,0,0,0,0,0,0,0,0,0,0,0,0,0,1,1,1,1,1,1,1,1,1,1,1,1,1,1,1,1,1,1,1,1,1,1,1,1,2,2,2,2,2,2,2,2,2,2,2,2,2,2,2,2,2,2,2,2,2,2,2,2,3,3,3,3,3,3,3,3,3,3,3,3,3,3,3,3,3,3,3,3,3,3,3,3,4,4,4,4,4,4,4,4,4,4,4,4,4,4,4,4,4,4,4,4,4,4,4,4,5,5,5,5,5,5,5,5,5,5,5,5,5,5,5,5,5,5,5,5,5,5,5,5,6,6,6,6,6,6,6,6,6,6,6,6,6,6,6,6,6,6,6,6,6,6,6,6,0,0,0,0,0,0,0,0,0,0,0,0,0,0,0,0,0,0,0,0,0,0,0,0,1,1,1,1,1,1,1,1,1,1,1,1,1,1,1,1,1,1,1,1,1,1,1,1,2,2,2,2,2,2,2,2,2,2,2,2,2,2,2,2,2,2,2,2,2,2,2,2,3,3,3,3,3,3,3,3,3,3,3,3,3,3,3,3,3,3,3,3,3,3,3,3,4,4,4,4,4,4,4,4,4,4,4,4,4,4,4,4,4,4,4,4,4,4,4,4,5,5,5,5,5,5,5,5,5,5,5,5,5,5,5,5,5,5,5,5,5,5,5,5,6,6,6,6,6,6,6,6,6,6,6,6,6,6,6,6,6,6,6,6,6,6,6,6,0,0,0,0,0,0,0,0,0,0,0,0,0,0,0,0,0,0,0,0,0,0,0,0,1,1,1,1,1,1,1,1,1,1,1,1,1,1,1,1,1,1,1,1,1,1,1,1,2,2,2,2,2,2,2,2,2,2,2,2,2,2,2,2,2,2,2,2,2,2,2,2,3,3,3,3,3,3,3,3,3,3,3,3,3,3,3,3,3,3,3,3,3,3,3,3,4,4,4,4,4,4,4,4,4,4,4,4,4,4,4,4,4,4,4,4,4,4,4,4,5,5,5,5,5,5,5,5,5,5,5,5,5,5,5,5,5,5,5,5,5,5,5,5,6,6,6,6,6,6,6,6,6,6,6,6,6,6,6,6,6,6,6,6,6,6,6,6,0,0,0,0,0,0,0,0,0,0,0,0,0,0,0,0,0,0,0,0,0,0,0,0,1,1,1,1,1,1,1,1,1,1,1,1,1,1,1,1,1,1,1,1,1,1,1,1,2,2,2,2,2,2,2,2,2,2,2,2,2,2,2,2,2,2,2,2,2,2,2,2,3,3,3,3,3,3,3,3,3,3,3,3,3,3,3,3,3,3,3,3,3,3,3,3,4,4,4,4,4,4,4,4,4,4,4,4,4,4,4,4,4,4,4,4,4,4,4,4,5,5,5,5,5,5,5,5,5,5,5,5,5,5,5,5,5,5,5,5,5,5,5,5,6,6,6,6,6,6,6,6,6,6,6,6,6,6,6,6,6,6,6,6,6,6,6,6,0,0,0,0,0,0,0,0,0,0,0,0,0,0,0,0,0,0,0,0,0,0,0,0,1,1,1,1,1,1,1,1,1,1,1,1,1,1,1,1,1,1,1,1,1,1,1,1,2,2,2,2,2,2,2,2,2,2,2,2,2,2,2,2,2,2,2,2,2,2,2,2,3,3,3,3,3,3,3,3,3,3,3,3,3,3,3,3,3,3,3,3,3,3,3,3,4,4,4,4,4,4,4,4,4,4,4,4,4,4,4,4,4,4,4,4,4,4,4,4,5,5,5,5,5,5,5,5,5,5,5,5,5,5,5,5,5,5,5,5,5,5,5,5,6,6,6,6,6,6,6,6,6,6,6,6,6,6,6,6,6,6,6,6,6,6,6,6,0,0,0,0,0,0,0,0,0,0,0,0,0,0,0,0,0,0,0,0,0,0,0,0,1,1,1,1,1,1,1,1,1,1,1,1,1,1,1,1,1,1,1,1,1,1,1,1,2,2,2,2,2,2,2,2,2,2,2,2,2,2,2,2,2,2,2,2,2,2,2,2,3,3,3,3,3,3,3,3,3,3,3,3,3,3,3,3,3,3,3,3,3,3,3,3,4,4,4,4,4,4,4,4,4,4,4,4,4,4,4,4,4,4,4,4,4,4,4,4,5,5,5,5,5,5,5,5,5,5,5,5,5,5,5,5,5,5,5,5,5,5],\"Hour\":[12,13,14,15,16,17,18,19,20,21,22,23,0,1,2,3,4,5,6,7,8,9,10,11,12,13,14,15,16,17,18,19,20,21,22,23,0,1,2,3,4,5,6,7,8,9,10,11,12,13,14,15,16,17,18,19,20,21,22,23,0,1,2,3,4,5,6,7,8,9,10,11,12,13,14,15,16,17,18,19,20,21,22,23,0,1,2,3,4,5,6,7,8,9,10,11,12,13,14,15,16,17,18,19,20,21,22,23,0,1,2,3,4,5,6,7,8,9,10,11,12,13,14,15,16,17,18,19,20,21,22,23,0,1,2,3,4,5,6,7,8,9,10,11,12,13,14,15,16,17,18,19,20,21,22,23,0,1,2,3,4,5,6,7,8,9,10,11,12,13,14,15,16,17,18,19,20,21,22,23,0,1,2,3,4,5,6,7,8,9,10,11,12,13,14,15,16,17,18,19,20,21,22,23,0,1,2,3,4,5,6,7,8,9,10,11,12,13,14,15,16,17,18,19,20,21,22,23,0,1,2,3,4,5,6,7,8,9,10,11,12,13,14,15,16,17,18,19,20,21,22,23,0,1,2,3,4,5,6,7,8,9,10,11,12,13,14,15,16,17,18,19,20,21,22,23,0,1,2,3,4,5,6,7,8,9,10,11,12,13,14,15,16,17,18,19,20,21,22,23,0,1,2,3,4,5,6,7,8,9,10,11,12,13,14,15,16,17,18,19,20,21,22,23,0,1,2,3,4,5,6,7,8,9,10,11,12,13,14,15,16,17,18,19,20,21,22,23,0,1,2,3,4,5,6,7,8,9,10,11,12,13,14,15,16,17,18,19,20,21,22,23,0,1,2,3,4,5,6,7,8,9,10,11,12,13,14,15,16,17,18,19,20,21,22,23,0,1,2,3,4,5,6,7,8,9,10,11,12,13,14,15,16,17,18,19,20,21,22,23,0,1,2,3,4,5,6,7,8,9,10,11,12,13,14,15,16,17,18,19,20,21,22,23,0,1,2,3,4,5,6,7,8,9,10,11,12,13,14,15,16,17,18,19,20,21,22,23,0,1,2,3,4,5,6,7,8,9,10,11,12,13,14,15,16,17,18,19,20,21,22,23,0,1,2,3,4,5,6,7,8,9,10,11,12,13,14,15,16,17,18,19,20,21,22,23,0,1,2,3,4,5,6,7,8,9,10,11,12,13,14,15,16,17,18,19,20,21,22,23,0,1,2,3,4,5,6,7,8,9,10,11,12,13,14,15,16,17,18,19,20,21,22,23,0,1,2,3,4,5,6,7,8,9,10,11,12,13,14,15,16,17,18,19,20,21,22,23,0,1,2,3,4,5,6,7,8,9,10,11,12,13,14,15,16,17,18,19,20,21,22,23,0,1,2,3,4,5,6,7,8,9,10,11,12,13,14,15,16,17,18,19,20,21,22,23,0,1,2,3,4,5,6,7,8,9,10,11,12,13,14,15,16,17,18,19,20,21,22,23,0,1,2,3,4,5,6,7,8,9,10,11,12,13,14,15,16,17,18,19,20,21,22,23,0,1,2,3,4,5,6,7,8,9,10,11,12,13,14,15,16,17,18,19,20,21,22,23,0,1,2,3,4,5,6,7,8,9,10,11,12,13,14,15,16,17,18,19,20,21,22,23,0,1,2,3,4,5,6,7,8,9,10,11,12,13,14,15,16,17,18,19,20,21,22,23,0,1,2,3,4,5,6,7,8,9,10,11,12,13,14,15,16,17,18,19,20,21,22,23,0,1,2,3,4,5,6,7,8,9,10,11,12,13,14,15,16,17,18,19,20,21,22,23,0,1,2,3,4,5,6,7,8,9,10,11,12,13,14,15,16,17,18,19,20,21,22,23,0,1,2,3,4,5,6,7,8,9,10,11,12,13,14,15,16,17,18,19,20,21,22,23,0,1,2,3,4,5,6,7,8,9,10,11,12,13,14,15,16,17,18,19,20,21,22,23,0,1,2,3,4,5,6,7,8,9,10,11,12,13,14,15,16,17,18,19,20,21,22,23,0,1,2,3,4,5,6,7,8,9,10,11,12,13,14,15,16,17,18,19,20,21,22,23,0,1,2,3,4,5,6,7,8,9,10,11,12,13,14,15,16,17,18,19,20,21,22,23,0,1,2,3,4,5,6,7,8,9,10,11,12,13,14,15,16,17,18,19,20,21,22,23,0,1,2,3,4,5,6,7,8,9,10,11,12,13,14,15,16,17,18,19,20,21],\"Lag\":{\"__ndarray__\":\"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\",\"dtype\":\"float64\",\"order\":\"little\",\"shape\":[994]},\"Month\":[11,11,11,11,11,11,11,11,11,11,11,11,11,11,11,11,11,11,11,11,11,11,11,11,11,11,11,11,11,11,11,11,11,11,11,11,11,11,11,11,11,11,11,11,11,11,11,11,11,11,11,11,11,11,11,11,11,11,11,11,11,11,11,11,11,11,11,11,11,11,11,11,11,11,11,11,11,11,11,11,11,11,11,11,11,11,11,11,11,11,11,11,11,11,11,11,11,11,11,11,11,11,11,11,11,11,11,11,11,11,11,11,11,11,11,11,11,11,11,11,11,11,11,11,11,11,11,11,11,11,11,11,11,11,11,11,11,11,11,11,11,11,11,11,11,11,11,11,11,11,11,11,11,11,11,11,11,11,11,11,11,11,11,11,11,11,11,11,11,11,11,11,11,11,11,11,11,11,11,11,12,12,12,12,12,12,12,12,12,12,12,12,12,12,12,12,12,12,12,12,12,12,12,12,12,12,12,12,12,12,12,12,12,12,12,12,12,12,12,12,12,12,12,12,12,12,12,12,12,12,12,12,12,12,12,12,12,12,12,12,12,12,12,12,12,12,12,12,12,12,12,12,12,12,12,12,12,12,12,12,12,12,12,12,12,12,12,12,12,12,12,12,12,12,12,12,12,12,12,12,12,12,12,12,12,12,12,12,12,12,12,12,12,12,12,12,12,12,12,12,12,12,12,12,12,12,12,12,12,12,12,12,12,12,12,12,12,12,12,12,12,12,12,12,12,12,12,12,12,12,12,12,12,12,12,12,12,12,12,12,12,12,12,12,12,12,12,12,12,12,12,12,12,12,12,12,12,12,12,12,12,12,12,12,12,12,12,12,12,12,12,12,12,12,12,12,12,12,12,12,12,12,12,12,12,12,12,12,12,12,12,12,12,12,12,12,12,12,12,12,12,12,12,12,12,12,12,12,12,12,12,12,12,12,12,12,12,12,12,12,12,12,12,12,12,12,12,12,12,12,12,12,12,12,12,12,12,12,12,12,12,12,12,12,12,12,12,12,12,12,12,12,12,12,12,12,12,12,12,12,12,12,12,12,12,12,12,12,12,12,12,12,12,12,12,12,12,12,12,12,12,12,12,12,12,12,12,12,12,12,12,12,12,12,12,12,12,12,12,12,12,12,12,12,12,12,12,12,12,12,12,12,12,12,12,12,12,12,12,12,12,12,12,12,12,12,12,12,12,12,12,12,12,12,12,12,12,12,12,12,12,12,12,12,12,12,12,12,12,12,12,12,12,12,12,12,12,12,12,12,12,12,12,12,12,12,12,12,12,12,12,12,12,12,12,12,12,12,12,12,12,12,12,12,12,12,12,12,12,12,12,12,12,12,12,12,12,12,12,12,12,12,12,12,12,12,12,12,12,12,12,12,12,12,12,12,12,12,12,12,12,12,12,12,12,12,12,12,12,12,12,12,12,12,12,12,12,12,12,12,12,12,12,12,12,12,12,12,12,12,12,12,12,12,12,12,12,12,12,12,12,12,12,12,12,12,12,12,12,12,12,12,12,12,12,12,12,12,12,12,12,12,12,12,12,12,12,12,12,12,12,12,12,12,12,12,12,12,12,12,12,12,12,12,12,12,12,12,12,12,12,12,12,12,12,12,12,12,12,12,12,12,12,12,12,12,12,12,12,12,12,12,12,12,12,12,12,12,12,12,12,12,12,12,12,12,12,12,12,12,12,12,12,12,12,12,12,12,12,12,12,12,12,12,12,12,12,12,12,12,12,12,12,12,12,12,12,12,12,12,12,12,12,12,12,12,12,12,12,12,12,12,12,12,12,12,12,12,12,12,12,12,12,12,12,12,12,12,12,12,12,12,12,12,12,12,12,12,12,12,12,12,12,12,12,12,12,12,12,12,12,12,12,12,12,12,12,12,12,12,12,12,12,12,12,12,12,12,12,12,12,12,12,12,12,12,12,12,12,12,12,12,12,12,12,12,12,12,12,12,12,12,12,12,12,12,12,12,12,12,12,12,12,12,12,12,12,12,12,12,12,12,12,12,12,12,12,12,12,12,12,12,12,12,12,12,12,12,12,12,12,12,12,12,12,12,12,12,12,12,12,12,12,12,1,1,1,1,1,1,1,1,1,1,1,1,1,1,1,1,1,1,1,1,1,1,1,1,1,1,1,1,1,1,1,1,1,1,1,1,1,1,1,1,1,1,1,1,1,1,1,1,1,1,1,1,1,1,1,1,1,1,1,1,1,1,1,1,1,1,1,1,1,1],\"Month_day\":[23,23,23,23,23,23,23,23,23,23,23,23,24,24,24,24,24,24,24,24,24,24,24,24,24,24,24,24,24,24,24,24,24,24,24,24,25,25,25,25,25,25,25,25,25,25,25,25,25,25,25,25,25,25,25,25,25,25,25,25,26,26,26,26,26,26,26,26,26,26,26,26,26,26,26,26,26,26,26,26,26,26,26,26,27,27,27,27,27,27,27,27,27,27,27,27,27,27,27,27,27,27,27,27,27,27,27,27,28,28,28,28,28,28,28,28,28,28,28,28,28,28,28,28,28,28,28,28,28,28,28,28,29,29,29,29,29,29,29,29,29,29,29,29,29,29,29,29,29,29,29,29,29,29,29,29,30,30,30,30,30,30,30,30,30,30,30,30,30,30,30,30,30,30,30,30,30,30,30,30,1,1,1,1,1,1,1,1,1,1,1,1,1,1,1,1,1,1,1,1,1,1,1,1,2,2,2,2,2,2,2,2,2,2,2,2,2,2,2,2,2,2,2,2,2,2,2,2,3,3,3,3,3,3,3,3,3,3,3,3,3,3,3,3,3,3,3,3,3,3,3,3,4,4,4,4,4,4,4,4,4,4,4,4,4,4,4,4,4,4,4,4,4,4,4,4,5,5,5,5,5,5,5,5,5,5,5,5,5,5,5,5,5,5,5,5,5,5,5,5,6,6,6,6,6,6,6,6,6,6,6,6,6,6,6,6,6,6,6,6,6,6,6,6,7,7,7,7,7,7,7,7,7,7,7,7,7,7,7,7,7,7,7,7,7,7,7,7,8,8,8,8,8,8,8,8,8,8,8,8,8,8,8,8,8,8,8,8,8,8,8,8,9,9,9,9,9,9,9,9,9,9,9,9,9,9,9,9,9,9,9,9,9,9,9,9,10,10,10,10,10,10,10,10,10,10,10,10,10,10,10,10,10,10,10,10,10,10,10,10,11,11,11,11,11,11,11,11,11,11,11,11,11,11,11,11,11,11,11,11,11,11,11,11,12,12,12,12,12,12,12,12,12,12,12,12,12,12,12,12,12,12,12,12,12,12,12,12,13,13,13,13,13,13,13,13,13,13,13,13,13,13,13,13,13,13,13,13,13,13,13,13,14,14,14,14,14,14,14,14,14,14,14,14,14,14,14,14,14,14,14,14,14,14,14,14,15,15,15,15,15,15,15,15,15,15,15,15,15,15,15,15,15,15,15,15,15,15,15,15,16,16,16,16,16,16,16,16,16,16,16,16,16,16,16,16,16,16,16,16,16,16,16,16,17,17,17,17,17,17,17,17,17,17,17,17,17,17,17,17,17,17,17,17,17,17,17,17,18,18,18,18,18,18,18,18,18,18,18,18,18,18,18,18,18,18,18,18,18,18,18,18,19,19,19,19,19,19,19,19,19,19,19,19,19,19,19,19,19,19,19,19,19,19,19,19,20,20,20,20,20,20,20,20,20,20,20,20,20,20,20,20,20,20,20,20,20,20,20,20,21,21,21,21,21,21,21,21,21,21,21,21,21,21,21,21,21,21,21,21,21,21,21,21,22,22,22,22,22,22,22,22,22,22,22,22,22,22,22,22,22,22,22,22,22,22,22,22,23,23,23,23,23,23,23,23,23,23,23,23,23,23,23,23,23,23,23,23,23,23,23,23,24,24,24,24,24,24,24,24,24,24,24,24,24,24,24,24,24,24,24,24,24,24,24,24,25,25,25,25,25,25,25,25,25,25,25,25,25,25,25,25,25,25,25,25,25,25,25,25,26,26,26,26,26,26,26,26,26,26,26,26,26,26,26,26,26,26,26,26,26,26,26,26,27,27,27,27,27,27,27,27,27,27,27,27,27,27,27,27,27,27,27,27,27,27,27,27,28,28,28,28,28,28,28,28,28,28,28,28,28,28,28,28,28,28,28,28,28,28,28,28,29,29,29,29,29,29,29,29,29,29,29,29,29,29,29,29,29,29,29,29,29,29,29,29,30,30,30,30,30,30,30,30,30,30,30,30,30,30,30,30,30,30,30,30,30,30,30,30,31,31,31,31,31,31,31,31,31,31,31,31,31,31,31,31,31,31,31,31,31,31,31,31,1,1,1,1,1,1,1,1,1,1,1,1,1,1,1,1,1,1,1,1,1,1,1,1,2,2,2,2,2,2,2,2,2,2,2,2,2,2,2,2,2,2,2,2,2,2,2,2,3,3,3,3,3,3,3,3,3,3,3,3,3,3,3,3,3,3,3,3,3,3],\"Outliers\":{\"__ndarray__\":\"AAAAAAAAAAAAAAAAAAAAAAAAAAAAAAAAAAAAAAAAAAAAAAAAAAAAAAAAAAAAAAAAAAAAAAAAAAAAAAAAAAAAAAAAAAAAAAAAAAAAAAAAAAAAAAAAAAAAAAAAAAAAAAAAAAAAAAAAAAAAAAAAAAAAAAAAAAAAAAAAAAAAAAAAAAAAAAAAAADwPwAAAAAAAPA/AAAAAAAAAAAAAAAAAAAAAAAAAAAAAAAAAAAAAAAAAAAAAAAAAAAAAAAAAAAAAAAAAAAAAAAAAAAAAAAAAAAAAAAAAAAAAAAAAAAAAAAAAAAAAAAAAAAAAAAAAAAAAAAAAAAAAAAAAAAAAAAAAAAAAAAAAAAAAAAAAAAAAAAAAAAAAAAAAAAAAAAAAAAAAAAAAAAAAAAAAAAAAAAAAAAAAAAAAAAAAAAAAAAAAAAAAAAAAAAAAAAAAAAAAAAAAAAAAAAAAAAAAAAAAAAAAAAAAAAAAAAAAAAAAAAAAAAAAAAAAAAAAAAAAAAAAAAAAAAAAAAAAAAAAAAAAAAAAAAAAAAAAAAAAAAAAAAAAAAAAAAAAAAAAAAAAAAAAAAAAAAAAAAAAAAAAAAAAAAAAAAAAAAAAAAAAAAAAAAAAAAAAAAAAAAAAAAAAAAAAAAAAAAAAAAAAAAAAAAAAAAAAAAAAAAAAAAAAAAAAAAAAAAAAAAAAAAAAAAAAAAAAAAAAAAAAAAAAAAAAAAAAAAAAAAAAAAAAAAAAAAAAAAAAAAAAAAAAAAAAAAAAAAAAAAAAAAAAAAAAAAAAAAAAAAAAAAAAAAAAAAAAAAAAAAAAAAAAAAAAAAAAAAAAAAAAAAAAAAAAAAAAAAAAAAAAAAAAAAAAAAAAAAAAAAAAAAAAAAAAAAAAAAAAAAAAAAAAAAAAAAAAAAAAAAAAAAAAAAAAAAAAAAAAAAAAAAAAAAAAAAAAAAAAAAAAAAAAAAAAAAAAAAAAAAAAAAAAAAAAAAAAAAAAAAAAAAAAAAAAAAAAAAAAAAAAAAAAAAAAAAAAAAAAAAAAAAAAAAAAAAAAAAAAAAAAAAAAAAAAAAAAAAAAAAAAAAAAAAAAAAAAAAAAAAAAAAAAAAAAAAAAAAAAAAAAAAAAAAAAAAAAAAAAAAAAAAAAAAAAAAAAAAAAAAAAAAAAAAAAAAAAAAAAAAAAAAAAAAAAAAAAAAAAAAAAAAAAAAAAAAAAAAAAAAAAAAAAAAAAAAAAAAAAAAAAAAAAAAAAAAAAAAAAAAAAAAAAAAAAAAAAAAAAAAAAAAAAAAAAAAAAAAAAAAAAAAAAAAAAAAAAAAAAAAAAAAAAAAAAAAAAAAAAAAAAAAAAAAAAAAAAAAAAAAAAAAAAAAAAAAAAAAAAAAAAAAAAAAAAAAAAAAAAAAAAAAAAAAAAAAAAAAAAAAAAAAAAAAAAAAAAAAAAAAAAAAAAAAAAAAAAAAAAAAAAAAAAAAAAAAAAAAAAAAAAAAAAAAAAAAAAAAAAAAAAAAAAAAAAAAAAAAAAAAAAAAAAAAAAAAAAAAAAAAAAAAAAAAAAAAAAAAAAAAAAAAAAAAAAAAAAAAAAAAAAAAAAAAAAAAAAAAAAAAAAAAAAAAAAAAAAAAAAAAAAAAAAAAAAAAAAAAAAAAAAAAAAAAAAAAAAAAAAAAAAAAAAAAAAAAAAAAAAAAAAAAAAAAAAAAAAAAAAAAAAAAAAAAAAAAAAAAAAAAAAAAAAAAAAAAAAAAAAAAAAAAAAAAAAAAAAAAAAAAAAAAAAAAAAAAAAAAAAAAAAAAAAAAAAAAAAAAAAAAAAAAAAAAAAAAAAAAAAAAAAAAAAAAAAAAAAAAAAAAAAAAAAAAAAAAAAAAAAAAAAAAAAAAAAAAAAAAAAAAAAAAAAAAAAAAAAAAAAAAAAAAAAAAAAAAAAAAAAAAAAAAAAAAAAAAAAAAAAAAAAAAAAAAAAAAAAAAAAAAAAAAAAAAAAAAAAAAAAAAAAAAAAAAAAAAAAAAAAAAAAAAAAAAAAAAAAAAAAAAAAAAAAAAAAAAAAAAAAAAAAAAAAAAAAAAAAAAAAAAAAAAAAAAAAAAAAAAAAAAAAAAAAAAAAAAAAAAAAAAAAAAAAAAAAAAAAAAAAAAAAAAAAAAAAAAAAAAAAAAAAAAAAAAAAAAAAAAAAAAAAAAAAAAAAAAAAAAAAAAAAAAAAAAAAAAAAAAAAAAAAAAAAAAAAAAAAAAAAAAAAAAAAAAAAAAAAAAAAAAAAAAAAAAAAAAAAAAAAAAAAAAAAAAAAAAAAAAAAAAAAAAAAAAAAAAAAAAAAAAAAAAAAAAAAAAAAAAAAAAAAAAAAAAAAAAAAAAAAAAAAAAAAAAAAAAAAAAAAAAAAAAAAAAAAAAAAAAAAAAAAAAAAAAAAAAAAAAAAAAAAAAAAAAAAAAAAAAAAAAAAAAAAAAAAAAAAAAAAAAAAAAAAAAAAAAAAAAAAAAAAAAAAAAAAAAAAAAAAAAAAAAAAAAAAAAAAAAAAAAAAAAAAAAAAAAAAAAAAAAAAAAAAAAAAAAAAAAAAAAAAAAAAAAAAAAAAAAAAAAAAAAAAAAAAAAAAAAAAAAAAAAAAAAAAAAAAAAAAAAAAAAAAAAAAAAAAAAAAAAAAAAAAAAAAAAAAAAAAAAAAAAAAAAAAAAAAAAAAAAAAAAAAAAAAAAAAAAAAAAAAAAAAAAAAAAAAAAAAAAAAAAAAAAAAAAAAAAAAAAAAAAAAAAAAAAAAAAAAAAAAAAAAAAAAAAAAAAAAAAAAAAAAAAAAAAAAAAAAAAAAAAAAAAAAAAAAAAAAAAAAAAAAAAAAAAAAAAAAAAAAAAAAAAAAAAAAAAAAAAAAAAAAAAAAAAAAAAAAAAAAAAAAAAAAAAAAAAAAAAAAAAAAAAAAAAAAAAAAAAAAAAAAAAAAAAAAAAAAAAAAAAAAAAAAAAAAAAAAAAAAAAAAAAAAAAAAAAAAAAAAAAAAAAAAAAAAAAAAAAAAAAAAAAAAAAAAAAAAAAAAAAAAAAAAAAAAAAAAAAAAAAAAAAAAAAAAAAAAAAAAAAAAAAAAAAAAAAAAAAAAAAAAAAAAAAAAAAAAAAAAAAAAAAAAAAAAAAAAAAAAAAAAAAAAAAAAAAAAAAAAAAAAAAAAAAAAAAAAAAAAAAAAAAAAAAAAAAAAAAAAAAAAAAAAAAAAAAAAAAAAAAAAAAAAAAAAAAAAAAAAAAAAAAAAAAAAAAAAAAAAAAAAAAAAAAAAAAAAAAAAAAAAAAAAAAAAAAAAAAAAAAAAAAAAAAAAAAAAAAAAAAAAAAAAAAAAAAAAAAAAAAAAAAAAAAAAAAAAAAAAAAAAAAAAAAAAAAAAAAAAAAAAAAAAAAAAAAAAAAAAAAAAAAAAAAAAAAAAAAAAAAAAAAAAAAAAAAAAAAAAAAAAAAAAAAAAAAAAAAAAAAAAAAAAAAAAAAAAAAAAAAAAAAAAAAAAAAAAAAAAAAAAAAAAAAAAAAAAAAAAAAAAAAAAAAAAAAAAAAAAAAAAAAAAAAAAAAAAAAAAAAAAAAAAAAAAAAAAAAAAAAAAAAAAAAAAAAAAAAAAAAAAAAAAAAAAAAAAAAAAAAAAAAAAAAAAAAAAAAAAAAAAAAAAAAAAAAAAAAAAAAAAAAAAAAAAAAAAAAAAAAAAAAAAAAAAAAAAAAAAAAAAAAAAAAAAAAAAAAAAAAAAAAAAAAAAAAAAAAAAAAAAAAAAAAAAAAAAAAAAAAAAAAAAAAAAAAAAAAAAAAAAAAAAAAAAAAAAAAAAAAAAAAAAAAAAAAAAAAAAAAAAAAAAAAAAAAAAAAAAAAAAAAAAAAAAAAAAAAAAAAAAAAAAAAAAAAAAAAAAAAAAAAAAAAAAAAAAAAAAAAAAAAAAAAAAAAAAAAAAAAAAAAAAAAAAAAAAAAAAAAAAAAAAAAAAAAAAAAAAAAAAAAAAAAAAAAAAAAAAAAAAAAAAAAAAAAAAAAAAAAAAAAAAAAAAAAAAAAAAAAAAAAAAAAAAAAAAAAAAAAAAAAAAAAAAAAAAAAAAAAAAAAAAAAAAAAAAAAAAAAAAAAAAAAAAAAAAAAAAAAAAAAAAAAAAAAAAAAAAAAAAAAAAAAAAAAAAAAAAAAAAAAAAAAAAAAAAAAAAAAAAAAAAAAAAAAAAAAAAAAAAAAAAAAAAAAAAAAAAAAAAAAAAAAAAAAAAAAAAAAAAAAAAAAAAAAAAAAAAAAAAAAAAAAAAAAAAAAAAAAAAAAAAAAAAAAAAAAAAAAAAAAAAAAAAAAAAAAAAAAAAAAAAAAAAAAAAAAAAAAAAAAAAAAAAAAAAAAAAAAAAAAAAAAAAAAAAAAAAAAAAAAAAAAAAAAAAAAAAAAAAAAAAAAAAAAAAAAAAAAAAAAAAAAAAAAAAAAAAAAAAAAAAAAAAAAAAAAAAAAAAAAAAAAAAAAAAAAAAAAAAAAAAAAAAAAAAAAAAAAAAAAAAAAAAAAAAAAAAAAAAAAAAAAAAAAAAAAAAAAAAAAAAAAAAAAAAAAAAAAAAAAAAAAAAAAAAAAAAAAAAAAAAAAAAAAAAAAAAAAAAAAAAAAAAAAAAAAAAAAAAAAAAAAAAAAAAAAAAAAAAAAAAAAAAAAAAAAAAAAAAAAAAAAAAAAAAAAAAAAAAAAAAAAAAAAAAAAAAAAAAAAAAAAAAAAAAAAAAAAAAAAAAAAAAAAAAAAAAAAAAAAAAAAAAAAAAAAAAAAAAAAAAAAAAAAAAAAAAAAAAAAAAAAAAAAAAAAAAAAAAAAAAAAAAAAAAAAAAAAAAAAAAAAAAAAAAAAAAAAAAAAAAAAAAAAAAAAAAAAAAAAAAAAAAAAAAAAAAAAAAAAAAAAAAAAAAAAAAAAAAAAAAAAAAAAAAAAAAAAAAAAAAAAAAAAAAAAAAAAAAAAAAAAAAAAAAAAAAAAAAAAAAAAAAAAAAAAAAAAAAAAAAAAAAAAAAAAAAAAAAAAAAAAAAAAAAAAAAAAAAAAAAAAAAAAAAAAAAAAAAAAAAAAAAAAAAAAAAAAAAAAAAAAAAAAAAAAAAAAAAAAAAAAAAAAAAAAAAAAAAAAAAAAAAAAAAAAAAAAAAAAAAAAAAAAAAAAAAAAAAAAAAAAAAAAAAAAAAAAAAAAAAAAAAAAAAAAAAAAAAAAAAAAAAAAAAAAAAAAAAAAAAAAAAAAAAAAAAAAAAAAAAAAAAAAAAAAAAAAAAAAAAAAAAAAAAAAAAAAAAAAAAAAAAAAAAAAAAAAAAAAAAAAAAAAAAAAAAAAAAAAAAAAAAAAAAAAAAAAAAAAAAAAAAAAAAAAAAAAAAAAAAAAAAAAAAAAAAAAAAAAAAAAAAAAAAAAAAAAAAAAAAAAAAAAAAAAAAAAAAAAAAAAAAAAAAAAAAAAAAAAAAAAAAAAAAAAAAAAAAAAAAAAAAAAAAAAAAAAAAAAAAAAAAAAAAAAAAAAAAAAAAAAAAAAAAAAAAAAAAAAAAAAAAAAAAAAAAAAAAAAAAAAAAAAAAAAAAAAAAAAAAAAAAAAAAAAAAAAAAAAAAAAAAAAAAAAAAAAAAAAAAAAAAAAAAAAAAAAAAAAAAAAAAAAAAAAAAAAAAAAAAAAAAAAAAAAAAAAAAAAAAAAAAAAAAAAAAAAAAAAAAAAAAAAAAAAAAAAAAAAAAAAAAAAAAAAAAAAAAAAAAAAAAAAAAAAAAAAAAAAAAAAAAAAAAAAAAAAAAAAAAAAAAAAAAAAAAAAAAAAAAAAAAAAAAAAAAAAAAAAAAAAAAAAAAAAAAAAAAAAAAAAAAAAAAAAAAAAAAAAAAAAAAAAAAAAAAAAAAAAAAAAAAAAAAAAAAAAAAAAAAAAAAAAAAAAAAAAAAAAAAAAAAAAAAAAAAAAAAAAAAAAAAAAAAAAAAAAAAAAAAAAAAAAAAAAAAAAAAAAAAAAAAAAAAAAAAAAAAAAAAAAAAAAAAAAAAAAAAAAAAAAAAAAAAAAAAAAAAAAAAAAAAAAAAAAAAAAAAAAAAAAAAAAAAAAAAAAAAAAAAAAAAAAAAAAAAAAAAAAAAAAAAAAAAAAAAAAAAAAAAAAAAAAAAAAAAAAAAAAAAAAAAAAAAAAAAAAAAAAAAAAAAAAAAAAAAAAAAAAAAAAAAAAAAAAAAAAAAAAAAAAAAAAAAAAAAAAAAAAAAAAAAAAAAAAAAAAAAAAAAAAAAAAAAAAAAAAAAAAAAAAAAAAAAAAAAAAAAAAAAAAAAAAAAAAAAAAAAAAAAAAAAAAAAAAAAAAAAAAAAAAAAAAAAAAAAAAAAAAAAAAAAAAAAAAAAAAAAAAAAAAAAAAAAAAAAAAAAAAAAAAAAAAAAAAAAAAAAAAAAAAAAAAAAAAAAAAAAAAAAAAAAAAAAAAAAAAAAAAAAAAAAAAAAAAAAAAAAAAAAAAAAAAAAAAAAAAAAAAAAAAAAAAAAAAAAAAAAAAAAAAAAAAAAAAAAAAAAAAAAAAAAAAAAAAAAAAAAAAAAAAAAAAAAAAAAAAAAAAAAAAAAAAAAAAAAAAAAAAAAAAAAAAAAAAAAAAAAAAAAAAAAAAAAAAAAAAAAAAAAAAAAAAAAAAAAAAAAAAAAAAAAAAAAAAAAAAAAAAAAAAAAAAAAAAAAAAAAAAAAAAAAAAAAAAAAAAAAAAAAAAAAAAAAAAAAAAAAAAAAAAAAAAAAAAAAAAAAAAAAAAAAAAAAAAAAAAAAAAAAAAAAAAAAAAAAAAAAAAAAAAAAAAAAAAAAAAAAAAAAAAAAAAAAAAAAAAAAAAAAAAAAAAAAAAAAAAAAAAAAAAAAAAAAAAAAAAAAAAAAAAAAAAAAAAAAAAAAAAAAAAAAAAAAAAAAAAAAAAAAAAAAAAAAAAAAAAAAAAAAAAAAAAAAAAAAAAAAAAAAAAAAAAAAAAAAAAAAAAAAAAAAAAAAAAAAAAAAAAAAAAAAAAAAAAAAAAAAAAAAAAAAAAAAAAAAAAAAAAAAAAAAAAAAAAAAAAAAAAAAAAAAAAAAAAAAAAAAAAAAAAAAAAAAAAAAAAAAAAAAAAAAAAAAAAAAAAAAAAAAAAAAAAAAAAAAAAAAAAAAAAAAAAAAAAAAAAAAAAAAAAAAAAAAAAAAAAAAAAAAAAAAAAAAAAAAAAAAAAAAAAAAAAAAAAAAAAAAAAAAAAAAAAAAAAAAAAAAAAAAAAAAAAAAAAAAAAAAAAAAAAAAAAAAAAAAAAAAAAAAAAAAAAAAAAAAAAAAAAAAAAAAAAAAAAAAAAAAAAAAAAAAAAAAAAAAAAAAAAAAAAAAAAAAAAAAAAAAAAAAAAAAAAAAAAAAAAAAAAAAAAAAAAAAAAAAAAAAAAAAAAAAAAAAAAAAAAAAAAAAAAAAAAAAAAAAAAAAAAAAAAAAAAAAAAAAAAAAAAAAAAAAAAAAAAAAAAAAAAAAAAAAAAAAAAAAAAAAAAAAAAAAAAAAAAAAAAAAAAAAAAAAAAAAAAAAAAAAAAAAAAAAAAAAAAAAAAAAAAAAAAAAAAAAAAAAAAAAAAAAAAAAAAAAAAAAAAAAAAAAAAAAAAAAAAAAAAAAAAAAAAAAAAAAAAAAAAAAAAAAAAAAAAAAAAAAAAAAAAAAAAAAAAAAAAAAAAAAAAAAAAAAAAAAAAAAAAAAAAAAAAAAAAAAAAAAAAAAAAAAAAAAAAAAAAAAAAAAAAAAAAAAAAAAAAAAAAAAAAAAAAAAAAAAAAAAAAAAAAAAAAAAAAAAAAAAAAAAAAAAAAAAAAAAAAAAAAAAAAAAAAAAAAAAAAAAAAAAAAAAAAAAAAAAAAAAAAAAAAAAAAAAAAAAAAAAAAAAAAAAAAAAAAAAAAAAAAAAAAAAAAAAAAAAAAAAAAAAAAAAAAAAAAAAAAAAAAAAAAAAAAAAAAAAAAAAAAAAAAAAAAAAAAAAAAAAAAAAAAAAAAAAAAAAAAAAAAAAAAAAAAAAAAAAAAAAAAAAAAAAAAAAAAAAAAAAAAAAAAAAAAAAAAAAAAAAAAAAAAAAAAAAAAAAAAAAAAAAAAAAAAAAAAAAAAAAAAAAAAAAAAAAAAAAAAAAAAAAAAAAAAAAAAAAAAAAAAAAAAAAAAAAAAAAAAAAAAAAAAAAAAAAAAAAAAAAAAAAAAAAAAAAAAAAAAAAAAAAAAAAAAAAAAAAAAAAAAAAAAAAAAAAAAAAAAAAAAAAAAAAAAAAAAAAAAAAAAAAAAAAAAAAAAAAAAAAAAAAAAAAAAAAAAAAAAAAAAAAAAAAAAAAAAAAAAAAAAAAAAAAAAAAAAAAAAAAAAAAAAAAAAAAAAAAAAAAAAAAAAAAAAAAAAAAAAAAAAAAAAAAAAAAAAAAAAAAAAAAAAAAAAAAAAAAAAAAAAAAAAAAAAAAAAAAAAAAAAAAAAAAAAAAAAAAAAAAAAAAAAAAAAAAAAAAAAAAAAAAAAAAAAAAAAAAAAAAAAAAAAAAAAAAAAAAAAAAAAAAAAAAAAAAAAAAAAAAAAAAAAAAAAAAAAAAAAAAAAAAAAAAAAAAAAAAAAAAAAAAAAAAAAAAAAAAAAAAAAAAAAAAAAAAAAAAAAAAAAAAAAAAAAAAAAAAAAAAAAAAAAAAAAAAAAAAAAAAAAAAAAAAAAAAAAAAAAAAAAAAAAAAAAAAAAAAAAAAAAAAAAAAAAAAAAAAAAAAAAAAAAAAAAAAAAAAAAAAAAAAAAAAAAAAAAAAAAAAAAAAAAAAAAAAAAAAAAAAAAAAAAAAAAAAAAAAAAAAAAAAAAAAAAAAAAAAAAAAAAAAAAAAAAAAAAAAAAAAAAAAAAAAAAAAAAAAAAAAAAAAAAAAAAAAAAAAAAAAAAAAAAAAAAAAAAAAAAAAAAAAAAAAAAAAAAAAAAAAAAAAAAAAAAAAAAAAAAAAAAAAAAAAAAAAAAAAAAAAAAAAAAAAAAAAAAAAAAAAAAAAAAAAAAAAAAAAAAAAAAAAAAAAAAAAAAAAAAAAAAAAAAAAAAAAAAAAAAAAAAAAAAAAAAAAAAAAAAAAAAAAAAAAAAAAAAAAAAAAAAAAAAAAAAAAAAAAAAAAAAAAAAAAAAAAAAAAAAAAAAAAAAAAAAAAAAAAAAAAAAAAAAAAAAAAAAAAAAAAAAAAAAAAAAAAAAAAAAAAAAAAAAAAAAAAAAAAAAAAAAAAAAAAAAAAAAAAAAAAAAAAAAAAAAAAAAAAAAAAAAAAAAAAAAAAAAAAAAAAAAAAAAAAAAAAAAAAAAAAAAAAAAAAAAAAAAAAAAAAAAAAAAAAAAAAAAAAAAAAAAAAAAAAAAAAAAAAAAAAAAAAAAAAAAAAAAAAAAAAAAAAAAAAAAAAAAAAAAAAAAAAAAAAAAAAAAAAAAAAAAAAAAAAAAAAAAAAAAAAAAAAAAAAAAAAAAAAAAAAAAAAAAAAAAAAAAAAAAAAAAAAAAAAAAAAAAAAAAAAAAAAAAAAAAAAAAAAAAAAAAAAAAAAAAAAAAAAAAAAAAAAAAAAAAAAAAAAAAAAAAAAAAAAAAAAAAAAAAAAAAAAAAAAAAAAAAAAAAAAAAAAAAAAAAAAAAAAAAAAAAAAAAAAAAAAAAAAAAAAAAAAAAAAAAAAAAAAAAAAAAAAAAAAAAAAAAAAAAAAAAAAAAAAAAAAAAAAAAAAAAAAAAAAAAAAAAAAAAAAAAAAAAAAAAAAAAAAAAAAAAAAAAAAAAAAAAAAAAAAAAAAAAAAAAAAAAAAAAAAAAAAAAAAAAAAAAAAAAAAAAAAAAAAAAAAAAAAAAAAAAAAAAAAAAAAAAAAAAAAAAAAAAAAAAAAAAAAAAAAAAAAAAAAAAAAAAAAAAAAAAAAAAAAAAAAAAAAAAAAAAAAAAAAAAAAAAAAAAAAAAAAAAAAAAAAAAAAAAAAAAAAAAAAAAAAAAAAAAAAAAAAAAAAAAAAAAAAAAAAAAAAAAAAAAAAAAAAAAAAAAAAAAAAAAAAAAAAAAAAAAAAAAAAAAAAAAAAAAAAAAAAAAAAAAAAAAAAAAAAAAAAAAAAAAAAAAAAAAAAAAAAAAAAAAAAAAAAAAAAAAAAAAAAAAAAAAAAAAAAAAAAAAAAAAAAAAAAAAAAAAAAAAAAAAAAAAAAAAAAAAAAAAAAAAAAAAAAAAAAAAAAAAAAAAAAAAAAAAAAAAAAAAAAAAAAAAAAAAAAAAAAAAAAAAAAAAAAAAAAAAAAAAAAAAAAAAAAAAAAAAAAAAAAAAAAAAAAAAAAAAAAAAAAAAAAAAAAAAAAAAAAAAAAAAAAAAAAAAAAAAAAAAAAAAAAAAAAAAAAAAAAAAAAAAAAAAAAAAAAAAAAAAAAAAAAAAAAAAAAAAAAAAAAAAAAAAAAAAAAAAAAAAAAAAAAAAAAAAAAAAAAAAAAAAAAAAAAAAAAAAAAAAAAAAAAAAAAAAAAAAAAAAAAAAAAAAAAAAAAAAAAAAAAAAAAAAAAAAA8D8AAAAAAADwPwAAAAAAAPA/AAAAAAAAAAAAAAAAAAAAAAAAAAAAAAAAAAAAAAAAAAAAAAAAAAAAAAAAAAAAAAAAAAAAAAAAAAAAAAAAAAAAAAAAAAAAAAAAAAAAAAAAAAAAAAAAAAAAAAAAAAAAAAAAAAAAAAAAAAAAAAAAAAAAAAAAAAAAAAAAAAAAAAAAAAAAAAAAAAD4fwAAAAAAAPh/AAAAAAAA+H8AAAAAAAD4fwAAAAAAAPh/AAAAAAAA+H8=\",\"dtype\":\"float64\",\"order\":\"little\",\"shape\":[994]},\"Rolling_Mean\":{\"__ndarray__\":\"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\",\"dtype\":\"float64\",\"order\":\"little\",\"shape\":[994]},\"Score\":{\"__ndarray__\":\"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\",\"dtype\":\"float64\",\"order\":\"little\",\"shape\":[994]},\"Weekday\":[\"Sunday\",\"Sunday\",\"Sunday\",\"Sunday\",\"Sunday\",\"Sunday\",\"Sunday\",\"Sunday\",\"Sunday\",\"Sunday\",\"Sunday\",\"Sunday\",\"Monday\",\"Monday\",\"Monday\",\"Monday\",\"Monday\",\"Monday\",\"Monday\",\"Monday\",\"Monday\",\"Monday\",\"Monday\",\"Monday\",\"Monday\",\"Monday\",\"Monday\",\"Monday\",\"Monday\",\"Monday\",\"Monday\",\"Monday\",\"Monday\",\"Monday\",\"Monday\",\"Monday\",\"Tuesday\",\"Tuesday\",\"Tuesday\",\"Tuesday\",\"Tuesday\",\"Tuesday\",\"Tuesday\",\"Tuesday\",\"Tuesday\",\"Tuesday\",\"Tuesday\",\"Tuesday\",\"Tuesday\",\"Tuesday\",\"Tuesday\",\"Tuesday\",\"Tuesday\",\"Tuesday\",\"Tuesday\",\"Tuesday\",\"Tuesday\",\"Tuesday\",\"Tuesday\",\"Tuesday\",\"Wednesday\",\"Wednesday\",\"Wednesday\",\"Wednesday\",\"Wednesday\",\"Wednesday\",\"Wednesday\",\"Wednesday\",\"Wednesday\",\"Wednesday\",\"Wednesday\",\"Wednesday\",\"Wednesday\",\"Wednesday\",\"Wednesday\",\"Wednesday\",\"Wednesday\",\"Wednesday\",\"Wednesday\",\"Wednesday\",\"Wednesday\",\"Wednesday\",\"Wednesday\",\"Wednesday\",\"Thursday\",\"Thursday\",\"Thursday\",\"Thursday\",\"Thursday\",\"Thursday\",\"Thursday\",\"Thursday\",\"Thursday\",\"Thursday\",\"Thursday\",\"Thursday\",\"Thursday\",\"Thursday\",\"Thursday\",\"Thursday\",\"Thursday\",\"Thursday\",\"Thursday\",\"Thursday\",\"Thursday\",\"Thursday\",\"Thursday\",\"Thursday\",\"Friday\",\"Friday\",\"Friday\",\"Friday\",\"Friday\",\"Friday\",\"Friday\",\"Friday\",\"Friday\",\"Friday\",\"Friday\",\"Friday\",\"Friday\",\"Friday\",\"Friday\",\"Friday\",\"Friday\",\"Friday\",\"Friday\",\"Friday\",\"Friday\",\"Friday\",\"Friday\",\"Friday\",\"Saturday\",\"Saturday\",\"Saturday\",\"Saturday\",\"Saturday\",\"Saturday\",\"Saturday\",\"Saturday\",\"Saturday\",\"Saturday\",\"Saturday\",\"Saturday\",\"Saturday\",\"Saturday\",\"Saturday\",\"Saturday\",\"Saturday\",\"Saturday\",\"Saturday\",\"Saturday\",\"Saturday\",\"Saturday\",\"Saturday\",\"Saturday\",\"Sunday\",\"Sunday\",\"Sunday\",\"Sunday\",\"Sunday\",\"Sunday\",\"Sunday\",\"Sunday\",\"Sunday\",\"Sunday\",\"Sunday\",\"Sunday\",\"Sunday\",\"Sunday\",\"Sunday\",\"Sunday\",\"Sunday\",\"Sunday\",\"Sunday\",\"Sunday\",\"Sunday\",\"Sunday\",\"Sunday\",\"Sunday\",\"Monday\",\"Monday\",\"Monday\",\"Monday\",\"Monday\",\"Monday\",\"Monday\",\"Monday\",\"Monday\",\"Monday\",\"Monday\",\"Monday\",\"Monday\",\"Monday\",\"Monday\",\"Monday\",\"Monday\",\"Monday\",\"Monday\",\"Monday\",\"Monday\",\"Monday\",\"Monday\",\"Monday\",\"Tuesday\",\"Tuesday\",\"Tuesday\",\"Tuesday\",\"Tuesday\",\"Tuesday\",\"Tuesday\",\"Tuesday\",\"Tuesday\",\"Tuesday\",\"Tuesday\",\"Tuesday\",\"Tuesday\",\"Tuesday\",\"Tuesday\",\"Tuesday\",\"Tuesday\",\"Tuesday\",\"Tuesday\",\"Tuesday\",\"Tuesday\",\"Tuesday\",\"Tuesday\",\"Tuesday\",\"Wednesday\",\"Wednesday\",\"Wednesday\",\"Wednesday\",\"Wednesday\",\"Wednesday\",\"Wednesday\",\"Wednesday\",\"Wednesday\",\"Wednesday\",\"Wednesday\",\"Wednesday\",\"Wednesday\",\"Wednesday\",\"Wednesday\",\"Wednesday\",\"Wednesday\",\"Wednesday\",\"Wednesday\",\"Wednesday\",\"Wednesday\",\"Wednesday\",\"Wednesday\",\"Wednesday\",\"Thursday\",\"Thursday\",\"Thursday\",\"Thursday\",\"Thursday\",\"Thursday\",\"Thursday\",\"Thursday\",\"Thursday\",\"Thursday\",\"Thursday\",\"Thursday\",\"Thursday\",\"Thursday\",\"Thursday\",\"Thursday\",\"Thursday\",\"Thursday\",\"Thursday\",\"Thursday\",\"Thursday\",\"Thursday\",\"Thursday\",\"Thursday\",\"Friday\",\"Friday\",\"Friday\",\"Friday\",\"Friday\",\"Friday\",\"Friday\",\"Friday\",\"Friday\",\"Friday\",\"Friday\",\"Friday\",\"Friday\",\"Friday\",\"Friday\",\"Friday\",\"Friday\",\"Friday\",\"Friday\",\"Friday\",\"Friday\",\"Friday\",\"Friday\",\"Friday\",\"Saturday\",\"Saturday\",\"Saturday\",\"Saturday\",\"Saturday\",\"Saturday\",\"Saturday\",\"Saturday\",\"Saturday\",\"Saturday\",\"Saturday\",\"Saturday\",\"Saturday\",\"Saturday\",\"Saturday\",\"Saturday\",\"Saturday\",\"Saturday\",\"Saturday\",\"Saturday\",\"Saturday\",\"Saturday\",\"Saturday\",\"Saturday\",\"Sunday\",\"Sunday\",\"Sunday\",\"Sunday\",\"Sunday\",\"Sunday\",\"Sunday\",\"Sunday\",\"Sunday\",\"Sunday\",\"Sunday\",\"Sunday\",\"Sunday\",\"Sunday\",\"Sunday\",\"Sunday\",\"Sunday\",\"Sunday\",\"Sunday\",\"Sunday\",\"Sunday\",\"Sunday\",\"Sunday\",\"Sunday\",\"Monday\",\"Monday\",\"Monday\",\"Monday\",\"Monday\",\"Monday\",\"Monday\",\"Monday\",\"Monday\",\"Monday\",\"Monday\",\"Monday\",\"Monday\",\"Monday\",\"Monday\",\"Monday\",\"Monday\",\"Monday\",\"Monday\",\"Monday\",\"Monday\",\"Monday\",\"Monday\",\"Monday\",\"Tuesday\",\"Tuesday\",\"Tuesday\",\"Tuesday\",\"Tuesday\",\"Tuesday\",\"Tuesday\",\"Tuesday\",\"Tuesday\",\"Tuesday\",\"Tuesday\",\"Tuesday\",\"Tuesday\",\"Tuesday\",\"Tuesday\",\"Tuesday\",\"Tuesday\",\"Tuesday\",\"Tuesday\",\"Tuesday\",\"Tuesday\",\"Tuesday\",\"Tuesday\",\"Tuesday\",\"Wednesday\",\"Wednesday\",\"Wednesday\",\"Wednesday\",\"Wednesday\",\"Wednesday\",\"Wednesday\",\"Wednesday\",\"Wednesday\",\"Wednesday\",\"Wednesday\",\"Wednesday\",\"Wednesday\",\"Wednesday\",\"Wednesday\",\"Wednesday\",\"Wednesday\",\"Wednesday\",\"Wednesday\",\"Wednesday\",\"Wednesday\",\"Wednesday\",\"Wednesday\",\"Wednesday\",\"Thursday\",\"Thursday\",\"Thursday\",\"Thursday\",\"Thursday\",\"Thursday\",\"Thursday\",\"Thursday\",\"Thursday\",\"Thursday\",\"Thursday\",\"Thursday\",\"Thursday\",\"Thursday\",\"Thursday\",\"Thursday\",\"Thursday\",\"Thursday\",\"Thursday\",\"Thursday\",\"Thursday\",\"Thursday\",\"Thursday\",\"Thursday\",\"Friday\",\"Friday\",\"Friday\",\"Friday\",\"Friday\",\"Friday\",\"Friday\",\"Friday\",\"Friday\",\"Friday\",\"Friday\",\"Friday\",\"Friday\",\"Friday\",\"Friday\",\"Friday\",\"Friday\",\"Friday\",\"Friday\",\"Friday\",\"Friday\",\"Friday\",\"Friday\",\"Friday\",\"Saturday\",\"Saturday\",\"Saturday\",\"Saturday\",\"Saturday\",\"Saturday\",\"Saturday\",\"Saturday\",\"Saturday\",\"Saturday\",\"Saturday\",\"Saturday\",\"Saturday\",\"Saturday\",\"Saturday\",\"Saturday\",\"Saturday\",\"Saturday\",\"Saturday\",\"Saturday\",\"Saturday\",\"Saturday\",\"Saturday\",\"Saturday\",\"Sunday\",\"Sunday\",\"Sunday\",\"Sunday\",\"Sunday\",\"Sunday\",\"Sunday\",\"Sunday\",\"Sunday\",\"Sunday\",\"Sunday\",\"Sunday\",\"Sunday\",\"Sunday\",\"Sunday\",\"Sunday\",\"Sunday\",\"Sunday\",\"Sunday\",\"Sunday\",\"Sunday\",\"Sunday\",\"Sunday\",\"Sunday\",\"Monday\",\"Monday\",\"Monday\",\"Monday\",\"Monday\",\"Monday\",\"Monday\",\"Monday\",\"Monday\",\"Monday\",\"Monday\",\"Monday\",\"Monday\",\"Monday\",\"Monday\",\"Monday\",\"Monday\",\"Monday\",\"Monday\",\"Monday\",\"Monday\",\"Monday\",\"Monday\",\"Monday\",\"Tuesday\",\"Tuesday\",\"Tuesday\",\"Tuesday\",\"Tuesday\",\"Tuesday\",\"Tuesday\",\"Tuesday\",\"Tuesday\",\"Tuesday\",\"Tuesday\",\"Tuesday\",\"Tuesday\",\"Tuesday\",\"Tuesday\",\"Tuesday\",\"Tuesday\",\"Tuesday\",\"Tuesday\",\"Tuesday\",\"Tuesday\",\"Tuesday\",\"Tuesday\",\"Tuesday\",\"Wednesday\",\"Wednesday\",\"Wednesday\",\"Wednesday\",\"Wednesday\",\"Wednesday\",\"Wednesday\",\"Wednesday\",\"Wednesday\",\"Wednesday\",\"Wednesday\",\"Wednesday\",\"Wednesday\",\"Wednesday\",\"Wednesday\",\"Wednesday\",\"Wednesday\",\"Wednesday\",\"Wednesday\",\"Wednesday\",\"Wednesday\",\"Wednesday\",\"Wednesday\",\"Wednesday\",\"Thursday\",\"Thursday\",\"Thursday\",\"Thursday\",\"Thursday\",\"Thursday\",\"Thursday\",\"Thursday\",\"Thursday\",\"Thursday\",\"Thursday\",\"Thursday\",\"Thursday\",\"Thursday\",\"Thursday\",\"Thursday\",\"Thursday\",\"Thursday\",\"Thursday\",\"Thursday\",\"Thursday\",\"Thursday\",\"Thursday\",\"Thursday\",\"Friday\",\"Friday\",\"Friday\",\"Friday\",\"Friday\",\"Friday\",\"Friday\",\"Friday\",\"Friday\",\"Friday\",\"Friday\",\"Friday\",\"Friday\",\"Friday\",\"Friday\",\"Friday\",\"Friday\",\"Friday\",\"Friday\",\"Friday\",\"Friday\",\"Friday\",\"Friday\",\"Friday\",\"Saturday\",\"Saturday\",\"Saturday\",\"Saturday\",\"Saturday\",\"Saturday\",\"Saturday\",\"Saturday\",\"Saturday\",\"Saturday\",\"Saturday\",\"Saturday\",\"Saturday\",\"Saturday\",\"Saturday\",\"Saturday\",\"Saturday\",\"Saturday\",\"Saturday\",\"Saturday\",\"Saturday\",\"Saturday\",\"Saturday\",\"Saturday\",\"Sunday\",\"Sunday\",\"Sunday\",\"Sunday\",\"Sunday\",\"Sunday\",\"Sunday\",\"Sunday\",\"Sunday\",\"Sunday\",\"Sunday\",\"Sunday\",\"Sunday\",\"Sunday\",\"Sunday\",\"Sunday\",\"Sunday\",\"Sunday\",\"Sunday\",\"Sunday\",\"Sunday\",\"Sunday\",\"Sunday\",\"Sunday\",\"Monday\",\"Monday\",\"Monday\",\"Monday\",\"Monday\",\"Monday\",\"Monday\",\"Monday\",\"Monday\",\"Monday\",\"Monday\",\"Monday\",\"Monday\",\"Monday\",\"Monday\",\"Monday\",\"Monday\",\"Monday\",\"Monday\",\"Monday\",\"Monday\",\"Monday\",\"Monday\",\"Monday\",\"Tuesday\",\"Tuesday\",\"Tuesday\",\"Tuesday\",\"Tuesday\",\"Tuesday\",\"Tuesday\",\"Tuesday\",\"Tuesday\",\"Tuesday\",\"Tuesday\",\"Tuesday\",\"Tuesday\",\"Tuesday\",\"Tuesday\",\"Tuesday\",\"Tuesday\",\"Tuesday\",\"Tuesday\",\"Tuesday\",\"Tuesday\",\"Tuesday\",\"Tuesday\",\"Tuesday\",\"Wednesday\",\"Wednesday\",\"Wednesday\",\"Wednesday\",\"Wednesday\",\"Wednesday\",\"Wednesday\",\"Wednesday\",\"Wednesday\",\"Wednesday\",\"Wednesday\",\"Wednesday\",\"Wednesday\",\"Wednesday\",\"Wednesday\",\"Wednesday\",\"Wednesday\",\"Wednesday\",\"Wednesday\",\"Wednesday\",\"Wednesday\",\"Wednesday\",\"Wednesday\",\"Wednesday\",\"Thursday\",\"Thursday\",\"Thursday\",\"Thursday\",\"Thursday\",\"Thursday\",\"Thursday\",\"Thursday\",\"Thursday\",\"Thursday\",\"Thursday\",\"Thursday\",\"Thursday\",\"Thursday\",\"Thursday\",\"Thursday\",\"Thursday\",\"Thursday\",\"Thursday\",\"Thursday\",\"Thursday\",\"Thursday\",\"Thursday\",\"Thursday\",\"Friday\",\"Friday\",\"Friday\",\"Friday\",\"Friday\",\"Friday\",\"Friday\",\"Friday\",\"Friday\",\"Friday\",\"Friday\",\"Friday\",\"Friday\",\"Friday\",\"Friday\",\"Friday\",\"Friday\",\"Friday\",\"Friday\",\"Friday\",\"Friday\",\"Friday\",\"Friday\",\"Friday\",\"Saturday\",\"Saturday\",\"Saturday\",\"Saturday\",\"Saturday\",\"Saturday\",\"Saturday\",\"Saturday\",\"Saturday\",\"Saturday\",\"Saturday\",\"Saturday\",\"Saturday\",\"Saturday\",\"Saturday\",\"Saturday\",\"Saturday\",\"Saturday\",\"Saturday\",\"Saturday\",\"Saturday\",\"Saturday\",\"Saturday\",\"Saturday\",\"Sunday\",\"Sunday\",\"Sunday\",\"Sunday\",\"Sunday\",\"Sunday\",\"Sunday\",\"Sunday\",\"Sunday\",\"Sunday\",\"Sunday\",\"Sunday\",\"Sunday\",\"Sunday\",\"Sunday\",\"Sunday\",\"Sunday\",\"Sunday\",\"Sunday\",\"Sunday\",\"Sunday\",\"Sunday\",\"Sunday\",\"Sunday\",\"Monday\",\"Monday\",\"Monday\",\"Monday\",\"Monday\",\"Monday\",\"Monday\",\"Monday\",\"Monday\",\"Monday\",\"Monday\",\"Monday\",\"Monday\",\"Monday\",\"Monday\",\"Monday\",\"Monday\",\"Monday\",\"Monday\",\"Monday\",\"Monday\",\"Monday\",\"Monday\",\"Monday\",\"Tuesday\",\"Tuesday\",\"Tuesday\",\"Tuesday\",\"Tuesday\",\"Tuesday\",\"Tuesday\",\"Tuesday\",\"Tuesday\",\"Tuesday\",\"Tuesday\",\"Tuesday\",\"Tuesday\",\"Tuesday\",\"Tuesday\",\"Tuesday\",\"Tuesday\",\"Tuesday\",\"Tuesday\",\"Tuesday\",\"Tuesday\",\"Tuesday\",\"Tuesday\",\"Tuesday\",\"Wednesday\",\"Wednesday\",\"Wednesday\",\"Wednesday\",\"Wednesday\",\"Wednesday\",\"Wednesday\",\"Wednesday\",\"Wednesday\",\"Wednesday\",\"Wednesday\",\"Wednesday\",\"Wednesday\",\"Wednesday\",\"Wednesday\",\"Wednesday\",\"Wednesday\",\"Wednesday\",\"Wednesday\",\"Wednesday\",\"Wednesday\",\"Wednesday\",\"Wednesday\",\"Wednesday\",\"Thursday\",\"Thursday\",\"Thursday\",\"Thursday\",\"Thursday\",\"Thursday\",\"Thursday\",\"Thursday\",\"Thursday\",\"Thursday\",\"Thursday\",\"Thursday\",\"Thursday\",\"Thursday\",\"Thursday\",\"Thursday\",\"Thursday\",\"Thursday\",\"Thursday\",\"Thursday\",\"Thursday\",\"Thursday\",\"Thursday\",\"Thursday\",\"Friday\",\"Friday\",\"Friday\",\"Friday\",\"Friday\",\"Friday\",\"Friday\",\"Friday\",\"Friday\",\"Friday\",\"Friday\",\"Friday\",\"Friday\",\"Friday\",\"Friday\",\"Friday\",\"Friday\",\"Friday\",\"Friday\",\"Friday\",\"Friday\",\"Friday\",\"Friday\",\"Friday\",\"Saturday\",\"Saturday\",\"Saturday\",\"Saturday\",\"Saturday\",\"Saturday\",\"Saturday\",\"Saturday\",\"Saturday\",\"Saturday\",\"Saturday\",\"Saturday\",\"Saturday\",\"Saturday\",\"Saturday\",\"Saturday\",\"Saturday\",\"Saturday\",\"Saturday\",\"Saturday\",\"Saturday\",\"Saturday\"],\"Year\":[2014,2014,2014,2014,2014,2014,2014,2014,2014,2014,2014,2014,2014,2014,2014,2014,2014,2014,2014,2014,2014,2014,2014,2014,2014,2014,2014,2014,2014,2014,2014,2014,2014,2014,2014,2014,2014,2014,2014,2014,2014,2014,2014,2014,2014,2014,2014,2014,2014,2014,2014,2014,2014,2014,2014,2014,2014,2014,2014,2014,2014,2014,2014,2014,2014,2014,2014,2014,2014,2014,2014,2014,2014,2014,2014,2014,2014,2014,2014,2014,2014,2014,2014,2014,2014,2014,2014,2014,2014,2014,2014,2014,2014,2014,2014,2014,2014,2014,2014,2014,2014,2014,2014,2014,2014,2014,2014,2014,2014,2014,2014,2014,2014,2014,2014,2014,2014,2014,2014,2014,2014,2014,2014,2014,2014,2014,2014,2014,2014,2014,2014,2014,2014,2014,2014,2014,2014,2014,2014,2014,2014,2014,2014,2014,2014,2014,2014,2014,2014,2014,2014,2014,2014,2014,2014,2014,2014,2014,2014,2014,2014,2014,2014,2014,2014,2014,2014,2014,2014,2014,2014,2014,2014,2014,2014,2014,2014,2014,2014,2014,2014,2014,2014,2014,2014,2014,2014,2014,2014,2014,2014,2014,2014,2014,2014,2014,2014,2014,2014,2014,2014,2014,2014,2014,2014,2014,2014,2014,2014,2014,2014,2014,2014,2014,2014,2014,2014,2014,2014,2014,2014,2014,2014,2014,2014,2014,2014,2014,2014,2014,2014,2014,2014,2014,2014,2014,2014,2014,2014,2014,2014,2014,2014,2014,2014,2014,2014,2014,2014,2014,2014,2014,2014,2014,2014,2014,2014,2014,2014,2014,2014,2014,2014,2014,2014,2014,2014,2014,2014,2014,2014,2014,2014,2014,2014,2014,2014,2014,2014,2014,2014,2014,2014,2014,2014,2014,2014,2014,2014,2014,2014,2014,2014,2014,2014,2014,2014,2014,2014,2014,2014,2014,2014,2014,2014,2014,2014,2014,2014,2014,2014,2014,2014,2014,2014,2014,2014,2014,2014,2014,2014,2014,2014,2014,2014,2014,2014,2014,2014,2014,2014,2014,2014,2014,2014,2014,2014,2014,2014,2014,2014,2014,2014,2014,2014,2014,2014,2014,2014,2014,2014,2014,2014,2014,2014,2014,2014,2014,2014,2014,2014,2014,2014,2014,2014,2014,2014,2014,2014,2014,2014,2014,2014,2014,2014,2014,2014,2014,2014,2014,2014,2014,2014,2014,2014,2014,2014,2014,2014,2014,2014,2014,2014,2014,2014,2014,2014,2014,2014,2014,2014,2014,2014,2014,2014,2014,2014,2014,2014,2014,2014,2014,2014,2014,2014,2014,2014,2014,2014,2014,2014,2014,2014,2014,2014,2014,2014,2014,2014,2014,2014,2014,2014,2014,2014,2014,2014,2014,2014,2014,2014,2014,2014,2014,2014,2014,2014,2014,2014,2014,2014,2014,2014,2014,2014,2014,2014,2014,2014,2014,2014,2014,2014,2014,2014,2014,2014,2014,2014,2014,2014,2014,2014,2014,2014,2014,2014,2014,2014,2014,2014,2014,2014,2014,2014,2014,2014,2014,2014,2014,2014,2014,2014,2014,2014,2014,2014,2014,2014,2014,2014,2014,2014,2014,2014,2014,2014,2014,2014,2014,2014,2014,2014,2014,2014,2014,2014,2014,2014,2014,2014,2014,2014,2014,2014,2014,2014,2014,2014,2014,2014,2014,2014,2014,2014,2014,2014,2014,2014,2014,2014,2014,2014,2014,2014,2014,2014,2014,2014,2014,2014,2014,2014,2014,2014,2014,2014,2014,2014,2014,2014,2014,2014,2014,2014,2014,2014,2014,2014,2014,2014,2014,2014,2014,2014,2014,2014,2014,2014,2014,2014,2014,2014,2014,2014,2014,2014,2014,2014,2014,2014,2014,2014,2014,2014,2014,2014,2014,2014,2014,2014,2014,2014,2014,2014,2014,2014,2014,2014,2014,2014,2014,2014,2014,2014,2014,2014,2014,2014,2014,2014,2014,2014,2014,2014,2014,2014,2014,2014,2014,2014,2014,2014,2014,2014,2014,2014,2014,2014,2014,2014,2014,2014,2014,2014,2014,2014,2014,2014,2014,2014,2014,2014,2014,2014,2014,2014,2014,2014,2014,2014,2014,2014,2014,2014,2014,2014,2014,2014,2014,2014,2014,2014,2014,2014,2014,2014,2014,2014,2014,2014,2014,2014,2014,2014,2014,2014,2014,2014,2014,2014,2014,2014,2014,2014,2014,2014,2014,2014,2014,2014,2014,2014,2014,2014,2014,2014,2014,2014,2014,2014,2014,2014,2014,2014,2014,2014,2014,2014,2014,2014,2014,2014,2014,2014,2014,2014,2014,2014,2014,2014,2014,2014,2014,2014,2014,2014,2014,2014,2014,2014,2014,2014,2014,2014,2014,2014,2014,2014,2014,2014,2014,2014,2014,2014,2014,2014,2014,2014,2014,2014,2014,2014,2014,2014,2014,2014,2014,2014,2014,2014,2014,2014,2014,2014,2014,2014,2014,2014,2014,2014,2014,2014,2014,2014,2014,2014,2014,2014,2014,2014,2014,2014,2014,2014,2014,2014,2014,2014,2014,2014,2014,2014,2014,2014,2014,2014,2014,2014,2014,2014,2014,2014,2014,2014,2014,2014,2014,2014,2014,2014,2014,2014,2014,2014,2014,2014,2014,2014,2014,2014,2014,2014,2014,2014,2014,2014,2014,2014,2014,2014,2014,2014,2014,2014,2014,2014,2014,2014,2014,2014,2014,2014,2014,2014,2014,2014,2014,2014,2014,2014,2014,2014,2014,2014,2014,2014,2014,2014,2014,2014,2014,2014,2014,2014,2014,2014,2014,2014,2014,2014,2014,2014,2014,2014,2014,2014,2014,2014,2014,2014,2014,2014,2014,2014,2014,2014,2014,2014,2014,2014,2014,2014,2014,2014,2014,2014,2014,2014,2014,2014,2014,2014,2014,2014,2014,2014,2014,2014,2014,2014,2014,2014,2014,2015,2015,2015,2015,2015,2015,2015,2015,2015,2015,2015,2015,2015,2015,2015,2015,2015,2015,2015,2015,2015,2015,2015,2015,2015,2015,2015,2015,2015,2015,2015,2015,2015,2015,2015,2015,2015,2015,2015,2015,2015,2015,2015,2015,2015,2015,2015,2015,2015,2015,2015,2015,2015,2015,2015,2015,2015,2015,2015,2015,2015,2015,2015,2015,2015,2015,2015,2015,2015,2015],\"label\":{\"__ndarray__\":\"AAAAAAAAAAAAAAAAAAAAAAAAAAAAAAAAAAAAAAAAAAAAAAAAAAAAAAAAAAAAAAAAAAAAAAAAAAAAAAAAAAAAAAAAAAAAAAAAAAAAAAAAAAAAAAAAAAAAAAAAAAAAAAAAAAAAAAAAAAAAAAAAAAAAAAAAAAAAAAAAAAAAAAAAAAAAAAAAAAAAAAAAAAAAAAAAAAAAAAAAAAAAAAAAAAAAAAAAAAAAAAAAAAAAAAAAAAAAAAAAAADwPwAAAAAAAAAAAAAAAAAAAAAAAAAAAAAAAAAAAAAAAAAAAAAAAAAAAAAAAAAAAAAAAAAAAAAAAAAAAAAAAAAAAAAAAAAAAAAAAAAAAAAAAAAAAAAAAAAAAAAAAAAAAAAAAAAAAAAAAAAAAAAAAAAAAAAAAAAAAAAAAAAAAAAAAAAAAAAAAAAAAAAAAAAAAAAAAAAAAAAAAAAAAAAAAAAAAAAAAAAAAAAAAAAAAAAAAAAAAAAAAAAAAAAAAAAAAAAAAAAAAAAAAAAAAAAAAAAAAAAAAAAAAAAAAAAAAAAAAAAAAAAAAAAAAAAAAAAAAAAAAAAAAAAAAAAAAAAAAAAAAAAAAAAAAAAAAAAAAAAAAAAAAAAAAAAAAAAAAAAAAAAAAAAAAAAAAAAAAAAAAAAAAAAAAAAAAAAAAAAAAAAAAAAAAAAAAAAAAAAAAAAAAAAAAAAAAAAAAAAAAAAAAAAAAAAAAAAAAAAAAAAAAAAAAAAAAAAAAAAAAAAAAAAAAAAAAAAAAAAAAAAAAAAAAAAAAAAAAAAAAAAAAAAAAAAAAAAAAAAAAAAAAAAAAAAAAAAAAAAAAAAAAAAAAAAAAAAAAAAAAAAAAAAAAAAAAAAAAAAAAAAAAAAAAAAAAAAAAAAAAAAAAAAAAAAAAAAAAAAAAAAAAAAAAAAAAAAAAAAAAAAAAAAAAAAAAAAAAAAAAAAAAAAAAAAAAAAAAAAAAAAAAAAAAAAAAAAAAAAAAAAAAAAAAAAAAAAAAAAAAAAAAAAAAAAAAAAAAAAAAAAAAAAAAAAAAAAAAAAAAAAAAAAAAAAAAAAAAAAAAAAAAAAAAAAAAAAAAAAAAAAAAAAAAAAAAAAAAAAAAAAAAAAAAAAAAAAAAAAAAAAAAAAAAAAAAAAAAAAAAAAAAAAAAAAAAAAAAAAAAAAAAAAAAAAAAAAAAAAAAAAAAAAAAAAAAAAAAAAAAAAAAAAAAAAAAAAAAAAAAAAAAAAAAAAAAAAAAAAAAAAAAAAAAAAAAAAAAAAAAAAAAAAAAAAAAAAAAAAAAAAAAAAAAAAAAAAAAAAAAAAAAAAAAAAAAAAAAAAAAAAAAAAAAAAAAAAAAAAAAAAAAAAAAAAAAAAAAAAAAAAAAAAAAAAAAAAAAAAAAAAAAAAAAAAAAAAAAAAAAAAAAAAAAAAAAAAAAAAAAAAAAAAAAAAAAAAAAAAAAAAAAAAAAAAAAAAAAAAAAAAAAAAAAAAAAAAAAAAAAAAAAAAAAAAAAAAAAAAAAAAAAAAAAAAAAAAAAAAAAAAAAAAAAAAAAAAAAAAAAAAAAAAAAAAAAAAAAAAAAAAAAAAAAAAAAAAAAAAAAAAAAAAAAAAAAAAAAAAAAAAAAAAAAAAAAAAAAAAAAAAAAAAAAAAAAAAAAAAAAAAAAAAAAAAAAAAAAAAAAAAAAAAAAAAAAAAAAAAAAAAAAAAAAAAAAAAAAAAAAAAAAAAAAAAAAAAAAAAAAAAAAAAAAAAAAAAAAAAAAAAAAAAAAAAAAAAAAAAAAAAAAAAAAAAAAAAAAAAAAAAAAAAAAAAAAAAAAAAAAAAAAAAAAAAAAAAAAAAAAAAAAAAAAAAAAAAAAAAAAAAAAAAAAAAAAAAAAAAAAAAAAAAAAAAAAAAAAAAAAAAAAAAAAAAAAAAAAAAAAAAAAAAAAAAAAAAAAAAAAAAAAAAAAAAAAAAAAAAAAAAAAAAAAAAAAAAAAAAAAAAAAAAAAAAAAAAAAAAAAAAAAAAAAAAAAAAAAAAAAAAAAAAAAAAAAAAAAAAAAAAAAAAAAAAAAAAAAAAAAAAAAAAAAAAAAAAAAAAAAAAAAAAAAAAAAAAAAAAAAAAAAAAAAAAAAAAAAAAAAAAAAAAAAAAAAAAAAAAAAAAAAAAAAAAAAAAAAAAAAAAAAAAAAAAAAAAAAAAAAAAAAAAAAAAAAAAAAAAAAAAAAAAAAAAAAAAAAAAAAAAAAAAAAAAAAAAAAAAAAAAAAAAAAAAAAAAAAAAAAAAAAAAAAAAAAAAAAAAAAAAAAAAAAAAAAAAAAAAAAAAAAAAAAAAAAAAAAAAAAAAAAAAAAAAAAAAAAAAAAAAAAAAAAAAAAAAAAAAAAAAAAAAAAAAAAAAAAAAAAAAAAAAAAAAAAAAAAAAAAAAAAAAAAAAAAAAAAAAAAAAAAAAAAAAAAAAAAAAAAAAAAAAAAAAAAAAAAAAAAAAAAAAAAAAAAAAAAAAAAAAAAAAAAAAAAAAAAAAAAAAAAAAAAAAAAAAAAAAAAAAAAAAAAAAAAAAAAAAAAAAAAAAAAAAAAAAAAAAAAAAAAAAAAAAAAAAAAAAAAAAAAAAAAAAAAAAAAAAAAAAAAAAAAAAAAAAAAAAAAAAAAAAAAAAAAAAAAAAAAAAAAAAAAAAAAAAAAAAAAAAAAAAAAAAAAAAAAAAAAAAAAAAAAAAAAAAAAAAAAAAAAAAAAAAAAAAAAAAAAAAAAAAAAAAAAAAAAAAAAAAAAAAAAAAAAAAAAAAAAAAAAAAAAAAAAAAAAAAAAAAAAAAAAAAAAAAAAAAAAAAAAAAAAAAAAAAAAAAAAAAAAAAAAAAAAAAAAAAAAAAAAAAAAAAAAAAAAAAAAAAAAAAAAAAAAAAAAAAAAAAAAAAAAAAAAAAAAAAAAAAAAAAAAAAAAAAAAAAAAAAAAAAAAAAAAAAAAAAAAAAAAAAAAAAAAAAAAAAAAAAAAAAAAAAAAAAAAAAAAAAAAAAAAAAAAAAAAAAAAAAAAAAAAAAAAAAAAAAAAAAAAAAAAAAAAAAAAAAAAAAAAAAAAAAAAAAAAAAAAAAAAAAAAAAAAAAAAAAAAAAAAAAAAAAAAAAAAAAAAAAAAAAAAAAAAAAAAAAAAAAAAAAAAAAAAAAAAAAAAAAAAAAAAAAAAAAAAAAAAAAAAAAAAAAAAAAAAAAAAAAAAAAAAAAAAAAAAAAAAAAAAAAAAAAAAAAAAAAAAAAAAAAAAAAAAAAAAAAAAAAAAAAAAAAAAAAAAAAAAAAAAAAAAAAAAAAAAAAAAAAAAAAAAAAAAAAAAAAAAAAAAAAAAAAAAAAAAAAAAAAAAAAAAAAAAAAAAAAAAAAAAAAAAAAAAAAAAAAAAAAAAAAAAAAAAAAAAAAAAAAAAAAAAAAAAAAAAAAAAAAAAAAAAAAAAAAAAAAAAAAAAAAAAAAAAAAAAAAAAAAAAAAAAAAAAAAAAAAAAAAAAAAAAAAAAAAAAAAAAAAAAAAAAAAAAAAAAAAAAAAAAAAAAAAAAAAAAAAAAAAAAAAAAAAAAAAAAAAAAAAAAAAAAAAAAAAAAAAAAAAAAAAAAAAAAAAAAAAAAAAAAAAAAAAAAAAAAAAAAAAAAAAAAAAAAAAAAAAAAAAAAAAAAAAAAAAAAAAAAAAAAAAAAAAAAAAAAAAAAAAAAAAAAAAAAAAAAAAAAAAAAAAAAAAAAAAAAAAAAAAAAAAAAAAAAAAAAAAAAAAAAAAAAAAAAAAAAAAAAAAAAAAAAAAAAAAAAAAAAAAAAAAAAAAAAAAAAAAAAAAAAAAAAAAAAAAAAAAAAAAAAAAAAAAAAAAAAAAAAAAAAAAAAAAAAAAAAAAAAAAAAAAAAAAAAAAAAAAAAAAAAAAAAAAAAAAAAAAAAAAAAAAAAAAAAAAAAAAAAAAAAAAAAAAAAAAAAAAAAAAAAAAAAAAAAAAAAAAAAAAAAAAAAAAAAAAAAAAAAAAAAAAAAAAAAAAAAAAAAAAAAAAAAAAAAAAAAAAAAAAAAAAAAAAAAAAAAAAAAAAAAAAAAAAAAAAAAAAAAAAAAAAAAAAAAAAAAAAAAAAAAAAAAAAAAAAAAAAAAAAAAAAAAAAAAAAAAAAAAAAAAAAAAAAAAAAAAAAAAAAAAAAAAAAAAAAAAAAAAAAAAAAAAAAAAAAAAAAAAAAAAAAAAAAAAPA/AAAAAAAAAAAAAAAAAAAAAAAAAAAAAAAAAAAAAAAAAAAAAAAAAAAAAAAAAAAAAAAAAAAAAAAAAAAAAAAAAAAAAAAAAAAAAAAAAAAAAAAAAAAAAAAAAAAAAAAAAAAAAAAAAAAAAAAAAAAAAAAAAAAAAAAAAAAAAAAAAAAAAAAAAAAAAAAAAAAAAAAAAAAAAAAAAAAAAAAAAAAAAAAAAAAAAAAAAAAAAAAAAAAAAAAAAAAAAAAAAAAAAAAAAAAAAAAAAAAAAAAAAAAAAAAAAAAAAAAAAAAAAAAAAAAAAAAAAAAAAAAAAAAAAAAAAAAAAAAAAAAAAAAAAAAAAAAAAAAAAAAAAAAAAAAAAAAAAAAAAAAAAAAAAAAAAAAAAAAAAAAAAAAAAAAAAAAAAAAAAAAAAAAAAAAAAAAAAAAAAAAAAAAAAAAAAAAAAAAAAAAAAAAAAAAAAAAAAAAAAAAAAAAAAAAAAAAAAAAAAAAAAAAAAAAAAAAAAAAAAAAAAAAAAAAAAAAAAAAAAAAAAAAAAAAAAAAAAAAAAAAAAAAAAAAAAAAAAAAAAAAAAAAAAAAAAAAAAAAAAAAAAAAAAAAAAAAAAAAAAAAAAAAAAAAAAAAAAAAAAAAAAAAAAAAAAAAAAAAAAAAAAAAAAAAAAAAAAAAAAAAAAAAAAAAAAAAAAAAAAAAAAAAAAAAAAAAAAAAAAAAAAAAAAAAAAAAAAAAAAAAAAAAAAAAAAAAAAAAAAAAAAAAAAAAAAAAAAAAAAAAAAAAAAAAAAAAAAAAAAAAAAAAAAAAAAAAAAAAAAAAAAAAAAAAAAAAAAAAAAAAAAAAAAAAAAAAAAAAAAAAAAAAAAAAAAAAAAAAAAAAAAAAAAAAAAAAAAAAAAAAAAAAAAAAAAAAAAAAAAAAAAAAAAAAAAAAAAAAAAAAAAAAAAAAAAAAAAAAAAAAAAAAAAAAAAAAAAAAAAAAAAAAAAAAAAAAAAAAAAAAAAAAAAAAAAAAAAAAAAAAAAAAAAAAAAAAAAAAAAAAAAAAAAAAAAAAAAAAAAAAAAAAAAAAAAAAAAAAAAAAAAAAAAAAAAAAAAAAAAAAAAAAAAAAAAAAAAAAAAAAAAAAAAAAAAAAAAAAAAAAAAAAAAAAAAAAAAAAAAAAAAAAAAAAAAAAAAAAAAAAAAAAAAAAAAAAAAAAAAAAAAAAAAAAAAAAAAAAAAAAAAAAAAAAAAAAAAAAAAAAAAAAAAAAAAAAAAAAAAAAAAAAAAAAAAAAAAAAAAAAAAAAAAAAAAAAAAAAAAAAAAAAAAAAAAAAAAAAAAAAAAAAAAAAAAAAAAAAAAAAAAAAAAAAAAAAAAAAAAAAAAAAAAAAAAAAAAAAAAAAAAAAAAAAAAAAAAAAAAAAAAAAAAAAAAAAAAAAAAAAAAAAAAAAAAAAAAAAAAAAAAAAAAAAAAAAAAAAAAAAAAAAAAAAAAAAAAAAAAAAAAAAAAAAAAAAAAAAAAAAAAAAAAAAAAAAAAAAAAAAAAAAAAAAAAAAAAAAAAAAAAAAAAAAAAAAAAAAAAAAAAAAAAAAAAAAAAAAAAAAAAAAAAAAAAAAAAAAAAAAAAAAAAAAAAAAAAAAAAAAAAAAAAAAAAAAAAAAAAAAAAAAAAAAAAAAAAAAAAAAAAAAAAAAAAAAAAAAAAAAAAAAAAAAAAAAAAAAAAAAAAAAAAAAAAAAAAAAAAAAAAAAAAAAAAAAAAAAAAAAAAAAAAAAAAAAAAAAAAAAAAAAAAAAAAAAAAAAAAAAAAAAAAAAAAAAAAAAAAAAAAAAAAAAAAAAAAAAAAAAAAAAAAAAAAAAAAAAAAAAAAAAAAAAAAAAAAAAAAAAAAAAAAAAAAAAAAAAAAAAAAAAAAAAAAAAAAAAAAAAAAAAAAAAAAAAAAAAAAAAAAAAAAAAAAAAAAAAAAAAAAAAAAAAAAAAAAAAAAAAAAAAAAAAAAAAAAAAAAAAAAAAAAAAAAAAAAAAAAAAAAAAAAAAAAAAAAAAAAAAAAAAAAAAAAAAAAAAAAAAAAAAAAAAAAAAAAAAAAAAAAAAAAAAAAAAAAAAAAAAAAAAAAAAAAAAAAAAAAAAAAAAAAAAAAAAAAAAAAAAAAAAAAAAAAAAAAAAAAAAAAAAAAAAAAAAAAAAAAAAAAAAAAAAAAAAAAAAAAAAAAAAAAAAAAAAAAAAAAAAAAAAAAAAAAAAAAAAAAAAAAAAAAAAAAAAAAAAAAAAAAAAAAAAAAAAAAAAAAAAAAAAAAAAAAAAAAAAAAAAAAAAAAAAAAAAAAAAAAAAAAAAAAAAAAAAAAAAAAAAAAAAAAAAAAAAAAAAAAAAAAAAAAAAAAAAAAAAAAAAAAAAAAAAAAAAAAAAAAAAAAAAAAAAAAAAAAAAAAAAAAAAAAAAAAAAAAAAAAAAAAAAAAAAAAAAAAAAAAAAAAAAAAAAAAAAAAAAAAAAAAAAAAAAAAAAAAAAAAAAAAAAAAAAAAAAAAAAAAAAAAAAAAAAAAAAAAAAAAAAAAAAAAAAAAAAAAAAAAAAAAAAAAAAAAAAAAAAAAAAAAAAAAAAAAAAAAAAAAAAAAAAAAAAAAAAAAAAAAAAAAAAAAAAAAAAAAAAAAAAAAAAAAAAAAAAAAAAAAAAAAAAAAAAAAAAAAAAAAAAAAAAAAAAAAAAAAAAAAAAAAAAAAAAAAAAAAAAAAAAAAAAAAAAAAAAAAAAAAAAAAAAAAAAAAAAAAAAAAAAAAAAAAAAAAAAAAAAAAAAAAAAAAAAAAAAAAAAAAAAAAAAAAAAAAAAAAAAAAAAAAAAAAAAAAAAAAAAAAAAAAAAAAAAAAAAAAAAAAAAAAAAAAAAAAAAAAAAAAAAAAAAAAAAAAAAAAAAAAAAAAAAAAAAAAAAAAAAAAAAAAAAAAAAAAAAAAAAAAAAAAAAAAAAAAAAAAAAAAAAAAAAAAAAAAAAAAAAAAAAAAAAAAAAAAAAAAAAAAAAAAAAAAAAAAAAAAAAAAAAAAAAAAAAAAAAAAAAAAAAAAAAAAAAAAAAAAAAAAAAAAAAAAAAAAAAAAAAAAAAAAAAAAAAAAAAAAAAAAAAAAAAAAAAAAAAAAAAAAAAAAAAAAAAAAAAAAAAAAAAAAAAAAAAAAAAAAAAAAAAAAAAAAAAAAAAAAAAAAAAAAAAAAAAAAAAAAAAAAAAAAAAAAAAAAAAAAAAAAAAAAAAAAAAAAAAAAAAAAAAAAAAAAAAAAAAAAAAAAAAAAAAAAAAAAAAAAAAAAAAAAAAAAAAAAAAAAAAAAAAAAAAAAAAAAAAAAAAAAAAAAAAAAAAAAAAAAAAAAAAAAAAAAAAAAAAAAAAAAAAAAAAAAAAAAAAAAAAAAAAAAAAAAAAAAAAAAAAAAAAAAAAAAAAAAAAAAAAAAAAAAAAAAAAAAAAAAAAAAAAAAAAAAAAAAAAAAAAAAAAAAAAAAAAAAAAAAAAAAAAAAAAAAAAAAAAAAAAAAAAAAAAAAAAAAAAAAAAAAAAAAAAAAAAAAAAAAAAAAAAAAAAAAAAAAAAAAAAAAAAAAAAAAAAAAAAAAAAAAAAAAAAAAAAAAAAAAAAAAAAAAAAAAAAAAAAAAAAAAAAAAAAAAAAAAAAAAAAAAAAAAAAAAAAAAAAAAAAAAAAAAAAAAAAAAAAAAAAAAAAAAAAAAAAAAAAAAAAAAAAAAAAAAAAAAAAAAAAAAAAAAAAAAAAAAAAAAAAAAAAAAAAAAAAAAAAAAAAAAAAAAAAAAAAAAAAAAAAAAAAAAAAAAAAAAAAAAAAAAAAAAAAAAAAAAAAAAAAAAAAAAAAAAAAAAAAAAAAAAAAAAAAAAAAAAAAAAAAAAAAAAAAAAAAAAAAAAAAAAAAAAAAAAAAAAAAAAAAAAAAAAAAAAAAAAAAAAAAAAAAAAAAAAAAAAAAAAAAAAAAAAAAAAAAAAAAAAAAAAAAAAAAAAAAAAAAAAAAAAAAAAAAAAAAAAAAAAAAAAAAAAAAAAAAAAAAAAAAAAAAAAAAAAAAAAAAAAAAAAAAAAAAAAAAAAAAAAAAAAAAAAAAAAAAAAAAAAAAAAAAAAAAAAAAAAAAAAAAAAAAAAAAAAAAAAAAAAAAAAAAAAAAAAAAAAAAAAAAAAAAAAAAAAAAAAAAAAAAAAAAAAAAAAAAAAAAAAAAAAAAAAAAAAAAAAAAAAAAAAAAAAAAAAAAAAAAAAAAAAAAAAAAAAAAAAAAAAAAAAAAAAAAAAAAAAAAAAAAAAAAAAAAAAAAAAAAAAAAAAAAAAAAAAAAAAAAAAAAAAAAAAAAAAAAAAAAAAAAAAAAAAAAAAAAAAAAAAAAAAAAAAAAAAAAAAAAAAAAAAAAAAAAAAAAAAAAAAAAAAAAAAAAAAAAAAAAAAAAAAAAAAAAAAAAAAAAAAAAAAAAAAAAAAAAAAAAAAAAAAAAAAAAAAAAAAAAAAAAAAAAAAAAAAAAAAAAAAAAAAAAAAAAAAAAAAAAAAAAAAAAAAAAAAAAAAAAAAAAAAAAAAAAAAAAAAAAAAAAAAAAAAAAAAAAAAAAAAAAAAAAAAAAAAAAAAAAAAAAAAAAAAAAAAAAAAAAAAAAAAAAAAAAAAAAAAAAAAAAAAAAAAAAAAAAAAAAAAAAAAAAAAAAAAAAAAAAAAAAAAAAAAAAAAAAAAAAAAAAAAAAAAAAAAAAAAAAAAAAAAAAAAAAAAAAAAAAAAAAAAAAAAAAAAAAAAAAAAAAAAAAAAAAAAAAAAAAAAAAAAAAAAAAAAAAAAAAAAAAAAAAAAAAAAAAAAAAAAAAAAAAAAAAAAAAAAAAAAAAAAAAAAAAAAAAAAAAAAAAAAAAAAAAAAAAAAAAAAAAAAAAAAAAAAAAAAAAAAAAAAAAAAAAAAAAAAAAAAAAAAAAAAAAAAAAAAAAAAAAAAAAAAAAAAAAAAAAAAAAAAAAAAAAAAAAAAAAAAAAAAAAAAAAAAAAAAAAAAAAAAAAAAAAAAAAAAAAAAAAAAAAAAAAAAAAAAAAAAAAAAAAAAAAAAAAAAAAAAAAAAAAAAAAAAAAAAAAAAAAAAAAAAAAAAAAAAAAAAAAAAAAAAAAAAAAAAAAAAAAAAAAAAAAAAAAAAAAAAAAAAAAAAAAAAAAAAAAAAAAAAAAAAAAAAAAAAAAAAAAAAAAAAAAAAAAAAAAAAAAAAAAAAAAAAAAAAAAAAAAAAAAAAAAAAAAAAAAAAAAAAAAAAAAAAAAAAAAAAAAAAAAAAAAAAAAAAAAAAAAAAAAAAAAAAAAAAAAAAAAAAAAAAAAAAAAAAAAAAAAAAAAAAAAAAAAAAAAAAAAAAAAAAAAAAAAAAAAAAAAAAAAAAAAAAAAAAAAAAAAAAAAAAAAAAAAAAAAAAAAAAAAAAAAAAAAAAAAAAAAAAAAAAAAAAAAAAAAAAAAAAAAAAAAAAAAAAAAAAAAAAAAAAAAAAAAAAAAAAAAAAAAAAAAAAAAAAAAAAAAAAAAAAAAAAAAAAAAAAAAAAAAAAAAAAAAAAAAAAAAAAAAAAAAAAAAAAAAAAAAAAAAAAAAAAAAAAAAAAAAAAAAAAAAAAAAAAAAAAAAAAAAAAAAAAAAAAAAAAAAAAAAAAAAAAAAAAAAAAAAAAAAAAAAAAAAAAAAAAAAAAAAAAAAAAAAAAAAAAAAAAAAAAAAAAAAAAAAAAAAAAAAAAAAAAAAAAAAAAAAAAAAAAAAAAAAAAAAAAAAAAAAAAAAAAAAAAAAAAAAAAAAAAAAAAAAAAAAAAAAAAAAAAAAAAAAAAAAAAAAAAAAAAAAAAAAAAAAAAAAAAAAAAAAAAAAAAAAAAAAAAAAAAAAAAAAAAAAAAAAAAAAAAAAAAAAAAAAAAAAAAAAAAAAAAAAAAAAAAAAAAAAAAAAAAAAAAAAAAAAAAAAAAAAAAAAAAAAAAAAAAAAAAAAAAAAAAAAAAAAAAAAAAAAAAAAAAAAAAAAAAAAAAAAAAAAAAAAAAAAAAAAAAAAAAAAAAAAAAAAAAAAAAAAAAAAAAAAAAAAAAAAAAAAAAAAAAAAAAAAAAAAAAAAAAAAAAAAAAAAAAAAAAAAAAAAAAAAAAAAAAAAAAAAAAAAAAAAAAAAAAAAAAAAAAAAAAAAAAAAAAAAAAAAAAAAAAAAAAAAAAAAAAAAAAAAAAAAAAAAAAAAAAAAAAAAAAAAAAAAAAAAAAAAAAAAAAAAAAAAAAAAAAAAAAAAAAAAAAAAAAAAAAAAAAAAAAAAAAAAAAAAAAAAAAAAAAAAAAAAAAAAAAAAAAAAAAAAAAAAAAAAAAAAAAAAAAAAAAAAAAAAAAAAAAAAAAAAAAAAAAAAAAAAAAAAAAAAAAAAAAAAAAAAAAAAAAAAAAAAAAAAAAAAAAAAAAAAAAAAAAAAAAAAAAAAAAAAAAAAAAAAAAAAAAAAAAAAAAAAAAAAAAAAAAAAAAAAAAAAAAAAAAAAAAAAAAAAAAAAAAAAAAAAAAAAAAAAAAAAAAAA=\",\"dtype\":\"float64\",\"order\":\"little\",\"shape\":[994]},\"timestamp\":{\"__ndarray__\":\"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\",\"dtype\":\"float64\",\"order\":\"little\",\"shape\":[994]},\"value\":{\"__ndarray__\":\"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\",\"dtype\":\"float64\",\"order\":\"little\",\"shape\":[994]},\"value_Average\":{\"__ndarray__\":\"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\",\"dtype\":\"float64\",\"order\":\"little\",\"shape\":[994]}},\"selected\":{\"id\":\"13106\"},\"selection_policy\":{\"id\":\"13123\"}},\"id\":\"13105\",\"type\":\"ColumnDataSource\"},{\"attributes\":{\"months\":[0,6]},\"id\":\"13138\",\"type\":\"MonthsTicker\"},{\"attributes\":{\"source\":{\"id\":\"13105\"}},\"id\":\"13112\",\"type\":\"CDSView\"},{\"attributes\":{},\"id\":\"13093\",\"type\":\"AllLabels\"},{\"attributes\":{},\"id\":\"13057\",\"type\":\"LinearScale\"},{\"attributes\":{\"num_minor_ticks\":5,\"tickers\":[{\"id\":\"13128\"},{\"id\":\"13129\"},{\"id\":\"13130\"},{\"id\":\"13131\"},{\"id\":\"13132\"},{\"id\":\"13133\"},{\"id\":\"13134\"},{\"id\":\"13135\"},{\"id\":\"13136\"},{\"id\":\"13137\"},{\"id\":\"13138\"},{\"id\":\"13139\"}]},\"id\":\"13060\",\"type\":\"DatetimeTicker\"},{\"attributes\":{\"line_alpha\":0.1,\"line_color\":\"#30a2da\",\"line_width\":2,\"x\":{\"field\":\"timestamp\"},\"y\":{\"field\":\"value\"}},\"id\":\"13109\",\"type\":\"Line\"},{\"attributes\":{},\"id\":\"13055\",\"type\":\"LinearScale\"},{\"attributes\":{\"source\":{\"id\":\"13096\"}},\"id\":\"13103\",\"type\":\"CDSView\"},{\"attributes\":{\"coordinates\":null,\"group\":null,\"text\":\"Demand\",\"text_color\":\"black\",\"text_font_size\":\"12pt\"},\"id\":\"13051\",\"type\":\"Title\"},{\"attributes\":{},\"id\":\"13106\",\"type\":\"Selection\"},{\"attributes\":{\"axis\":{\"id\":\"13059\"},\"coordinates\":null,\"group\":null,\"ticker\":{\"id\":\"13060\"}},\"id\":\"13062\",\"type\":\"Grid\"},{\"attributes\":{\"mantissas\":[1,2,5],\"max_interval\":500.0,\"num_minor_ticks\":0},\"id\":\"13128\",\"type\":\"AdaptiveTicker\"},{\"attributes\":{\"coordinates\":null,\"data_source\":{\"id\":\"13096\"},\"glyph\":{\"id\":\"13099\"},\"group\":null,\"hover_glyph\":null,\"muted_glyph\":{\"id\":\"13101\"},\"nonselection_glyph\":{\"id\":\"13100\"},\"selection_glyph\":{\"id\":\"13104\"},\"view\":{\"id\":\"13103\"}},\"id\":\"13102\",\"type\":\"GlyphRenderer\"},{\"attributes\":{\"line_color\":\"#30a2da\",\"line_width\":2,\"x\":{\"field\":\"timestamp\"},\"y\":{\"field\":\"value\"}},\"id\":\"13108\",\"type\":\"Line\"},{\"attributes\":{},\"id\":\"13068\",\"type\":\"PanTool\"},{\"attributes\":{\"base\":60,\"mantissas\":[1,2,5,10,15,20,30],\"max_interval\":1800000.0,\"min_interval\":1000.0,\"num_minor_ticks\":0},\"id\":\"13129\",\"type\":\"AdaptiveTicker\"},{\"attributes\":{\"days\":[1,2,3,4,5,6,7,8,9,10,11,12,13,14,15,16,17,18,19,20,21,22,23,24,25,26,27,28,29,30,31]},\"id\":\"13131\",\"type\":\"DaysTicker\"},{\"attributes\":{\"months\":[0,4,8]},\"id\":\"13137\",\"type\":\"MonthsTicker\"},{\"attributes\":{\"axis_label\":\"Demand\",\"coordinates\":null,\"formatter\":{\"id\":\"13092\"},\"group\":null,\"major_label_policy\":{\"id\":\"13093\"},\"ticker\":{\"id\":\"13064\"}},\"id\":\"13063\",\"type\":\"LinearAxis\"},{\"attributes\":{\"angle\":{\"value\":0.0},\"fill_alpha\":{\"value\":1.0},\"fill_color\":{\"value\":\"#ff0000\"},\"hatch_alpha\":{\"value\":1.0},\"hatch_color\":{\"value\":\"#ff0000\"},\"hatch_scale\":{\"value\":12.0},\"hatch_weight\":{\"value\":1.0},\"line_alpha\":{\"value\":1.0},\"line_cap\":{\"value\":\"butt\"},\"line_color\":{\"value\":\"#ff0000\"},\"line_dash\":{\"value\":[]},\"line_dash_offset\":{\"value\":0},\"line_join\":{\"value\":\"bevel\"},\"line_width\":{\"value\":1},\"marker\":{\"value\":\"circle\"},\"size\":{\"value\":10},\"x\":{\"field\":\"timestamp\"},\"y\":{\"field\":\"value\"}},\"id\":\"13104\",\"type\":\"Scatter\"},{\"attributes\":{\"base\":24,\"mantissas\":[1,2,4,6,8,12],\"max_interval\":43200000.0,\"min_interval\":3600000.0,\"num_minor_ticks\":0},\"id\":\"13130\",\"type\":\"AdaptiveTicker\"},{\"attributes\":{\"axis\":{\"id\":\"13063\"},\"coordinates\":null,\"dimension\":1,\"group\":null,\"ticker\":{\"id\":\"13064\"}},\"id\":\"13066\",\"type\":\"Grid\"},{\"attributes\":{\"end\":1420676280000.0,\"reset_end\":1420676280000.0,\"reset_start\":1416386520000.0,\"start\":1416386520000.0,\"tags\":[[[\"timestamp\",\"timestamp\",null]]]},\"id\":\"13047\",\"type\":\"Range1d\"},{\"attributes\":{},\"id\":\"13064\",\"type\":\"BasicTicker\"},{\"attributes\":{},\"id\":\"13121\",\"type\":\"UnionRenderers\"},{\"attributes\":{\"months\":[0,1,2,3,4,5,6,7,8,9,10,11]},\"id\":\"13135\",\"type\":\"MonthsTicker\"},{\"attributes\":{},\"id\":\"13069\",\"type\":\"WheelZoomTool\"},{\"attributes\":{},\"id\":\"13139\",\"type\":\"YearsTicker\"},{\"attributes\":{\"days\":[1,4,7,10,13,16,19,22,25,28]},\"id\":\"13132\",\"type\":\"DaysTicker\"},{\"attributes\":{\"callback\":null},\"id\":\"13074\",\"type\":\"TapTool\"},{\"attributes\":{\"days\":[1,15]},\"id\":\"13134\",\"type\":\"DaysTicker\"},{\"attributes\":{\"fill_alpha\":{\"value\":0.1},\"fill_color\":{\"value\":\"#ff0000\"},\"hatch_alpha\":{\"value\":0.1},\"hatch_color\":{\"value\":\"#ff0000\"},\"line_alpha\":{\"value\":0.1},\"line_color\":{\"value\":\"#ff0000\"},\"size\":{\"value\":10},\"x\":{\"field\":\"timestamp\"},\"y\":{\"field\":\"value\"}},\"id\":\"13100\",\"type\":\"Scatter\"},{\"attributes\":{\"data\":{\"timestamp\":{\"__ndarray__\":\"AACYB86qdEI=\",\"dtype\":\"float64\",\"order\":\"little\",\"shape\":[1]},\"value\":{\"__ndarray__\":\"VxvyypAfZcA=\",\"dtype\":\"float64\",\"order\":\"little\",\"shape\":[1]}},\"selected\":{\"id\":\"13097\"},\"selection_policy\":{\"id\":\"13121\"}},\"id\":\"13096\",\"type\":\"ColumnDataSource\"},{\"attributes\":{},\"id\":\"13067\",\"type\":\"SaveTool\"},{\"attributes\":{\"fill_alpha\":{\"value\":0.2},\"fill_color\":{\"value\":\"#ff0000\"},\"hatch_alpha\":{\"value\":0.2},\"hatch_color\":{\"value\":\"#ff0000\"},\"line_alpha\":{\"value\":0.2},\"line_color\":{\"value\":\"#ff0000\"},\"size\":{\"value\":10},\"x\":{\"field\":\"timestamp\"},\"y\":{\"field\":\"value\"}},\"id\":\"13101\",\"type\":\"Scatter\"},{\"attributes\":{\"overlay\":{\"id\":\"13077\"}},\"id\":\"13073\",\"type\":\"LassoSelectTool\"},{\"attributes\":{},\"id\":\"13089\",\"type\":\"DatetimeTickFormatter\"},{\"attributes\":{\"overlay\":{\"id\":\"13076\"}},\"id\":\"13070\",\"type\":\"BoxZoomTool\"},{\"attributes\":{\"days\":[1,8,15,22]},\"id\":\"13133\",\"type\":\"DaysTicker\"},{\"attributes\":{},\"id\":\"13071\",\"type\":\"ResetTool\"},{\"attributes\":{\"coordinates\":null,\"data_source\":{\"id\":\"13105\"},\"glyph\":{\"id\":\"13108\"},\"group\":null,\"hover_glyph\":null,\"muted_glyph\":{\"id\":\"13110\"},\"nonselection_glyph\":{\"id\":\"13109\"},\"selection_glyph\":{\"id\":\"13113\"},\"view\":{\"id\":\"13112\"}},\"id\":\"13111\",\"type\":\"GlyphRenderer\"},{\"attributes\":{\"overlay\":{\"id\":\"13075\"}},\"id\":\"13072\",\"type\":\"BoxSelectTool\"},{\"attributes\":{\"tools\":[{\"id\":\"13049\"},{\"id\":\"13067\"},{\"id\":\"13068\"},{\"id\":\"13069\"},{\"id\":\"13070\"},{\"id\":\"13071\"},{\"id\":\"13072\"},{\"id\":\"13073\"},{\"id\":\"13074\"}]},\"id\":\"13078\",\"type\":\"Toolbar\"},{\"attributes\":{\"bottom_units\":\"screen\",\"coordinates\":null,\"fill_alpha\":0.5,\"fill_color\":\"lightgrey\",\"group\":null,\"left_units\":\"screen\",\"level\":\"overlay\",\"line_alpha\":1.0,\"line_color\":\"black\",\"line_dash\":[4,4],\"line_width\":2,\"right_units\":\"screen\",\"syncable\":false,\"top_units\":\"screen\"},\"id\":\"13075\",\"type\":\"BoxAnnotation\"},{\"attributes\":{\"bottom_units\":\"screen\",\"coordinates\":null,\"fill_alpha\":0.5,\"fill_color\":\"lightgrey\",\"group\":null,\"left_units\":\"screen\",\"level\":\"overlay\",\"line_alpha\":1.0,\"line_color\":\"black\",\"line_dash\":[4,4],\"line_width\":2,\"right_units\":\"screen\",\"syncable\":false,\"top_units\":\"screen\"},\"id\":\"13076\",\"type\":\"BoxAnnotation\"},{\"attributes\":{\"end\":912.0693269158886,\"reset_end\":912.0693269158886,\"reset_start\":-549.6742417697386,\"start\":-549.6742417697386,\"tags\":[[[\"value\",\"value\",null]]]},\"id\":\"13048\",\"type\":\"Range1d\"},{\"attributes\":{},\"id\":\"13123\",\"type\":\"UnionRenderers\"},{\"attributes\":{\"children\":[{\"id\":\"13050\"}],\"margin\":[0,0,0,0],\"name\":\"Row09620\",\"tags\":[\"embedded\"]},\"id\":\"13045\",\"type\":\"Row\"},{\"attributes\":{\"months\":[0,2,4,6,8,10]},\"id\":\"13136\",\"type\":\"MonthsTicker\"}],\"root_ids\":[\"13045\"]},\"title\":\"Bokeh Application\",\"version\":\"2.4.3\"}};\n",
       "    var render_items = [{\"docid\":\"86f06a5c-34ac-45e5-8f29-5b0aa32cc186\",\"root_ids\":[\"13045\"],\"roots\":{\"13045\":\"24dc38cd-810b-41c4-8593-bd08a00415ce\"}}];\n",
       "    root.Bokeh.embed.embed_items_notebook(docs_json, render_items);\n",
       "  }\n",
       "  if (root.Bokeh !== undefined && root.Bokeh.Panel !== undefined) {\n",
       "    embed_document(root);\n",
       "  } else {\n",
       "    var attempts = 0;\n",
       "    var timer = setInterval(function(root) {\n",
       "      if (root.Bokeh !== undefined && root.Bokeh.Panel !== undefined) {\n",
       "        clearInterval(timer);\n",
       "        embed_document(root);\n",
       "      } else if (document.readyState == \"complete\") {\n",
       "        attempts++;\n",
       "        if (attempts > 200) {\n",
       "          clearInterval(timer);\n",
       "          console.log(\"Bokeh: ERROR: Unable to run BokehJS code because BokehJS library is missing\");\n",
       "        }\n",
       "      }\n",
       "    }, 25, root)\n",
       "  }\n",
       "})(window);</script>"
      ],
      "text/plain": [
       ":Overlay\n",
       "   .Points.I :Points   [timestamp,value]   (label,Weekday,Hour,Day,Month,Year,Month_day,Lag,Rolling_Mean,value_Average,Outliers,Score)\n",
       "   .Curve.I  :Curve   [timestamp]   (value,label,Weekday,Hour,Day,Month,Year,Month_day,Lag,Rolling_Mean,value_Average,Outliers,Score)"
      ]
     },
     "execution_count": 138,
     "metadata": {
      "application/vnd.holoviews_exec.v0+json": {
       "id": "13045"
      }
     },
     "output_type": "execute_result"
    }
   ],
   "source": [
    "tooltips = [\n",
    "    ('Weekday', '@Weekday'),\n",
    "    ('Day', '@Month_day'),\n",
    "    ('Month', '@Month'),\n",
    "    ('Value', '@value'),\n",
    "    ('Average Vale', '@value_Average'),\n",
    "    ('Outliers', '@Outliers')\n",
    "]\n",
    "hover = HoverTool(tooltips=tooltips)\n",
    "\n",
    "hv.Points(df_hourly.query(\"Outliers == 1 & Score <= 0.05\")).opts(size=10, color='#ff0000') * hv.Curve(df_hourly).opts(opts.Curve(title=\"Demand\", xlabel=\"\", ylabel=\"Demand\" , height=300, responsive=True,tools=[hover,'box_select', 'lasso_select', 'tap'],show_grid=True))"
   ]
  }
 ],
 "metadata": {
  "colab": {
   "collapsed_sections": [],
   "name": "DataDays.ipynb",
   "provenance": []
  },
  "kernelspec": {
   "display_name": "Python 3 (ipykernel)",
   "language": "python",
   "name": "python3"
  },
  "language_info": {
   "codemirror_mode": {
    "name": "ipython",
    "version": 3
   },
   "file_extension": ".py",
   "mimetype": "text/x-python",
   "name": "python",
   "nbconvert_exporter": "python",
   "pygments_lexer": "ipython3",
   "version": "3.8.0"
  },
  "vscode": {
   "interpreter": {
    "hash": "f0cf53528eda0cb4bf223c9d630c850e13d0e5d45b6f3ca080b7ff6c56946f6a"
   }
  }
 },
 "nbformat": 4,
 "nbformat_minor": 4
}
