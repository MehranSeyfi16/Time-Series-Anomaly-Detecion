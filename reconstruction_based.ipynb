{
 "cells": [
  {
   "cell_type": "code",
   "execution_count": null,
   "metadata": {},
   "outputs": [],
   "source": [
    "# Import\n",
    "import pandas as pd\n",
    "import darts\n",
    "from darts import TimeSeries\n",
    "from darts.models import ExponentialSmoothing, ARIMA, Prophet\n",
    "import matplotlib.pyplot as plt\n",
    "from darts.utils.utils import SeasonalityMode\n",
    "from darts.utils.statistics import plot_acf, plot_pacf, check_seasonality, extract_trend_and_seasonality, ModelMode, remove_trend, remove_from_series, stationarity_tests\n",
    "import glob \n",
    "import os\n",
    "from darts.utils.missing_values import fill_missing_values\n",
    "import numpy as np\n",
    "from sklearn.preprocessing import StandardScaler\n",
    "from sklearn.decomposition import PCA\n",
    "from sklearn.covariance import EllipticEnvelope\n",
    "from sklearn.ensemble import IsolationForest\n",
    "import sys, os\n",
    "from math import sqrt\n",
    "from sklearn.metrics import mean_squared_error\n",
    "from statsmodels.tsa.seasonal import STL\n",
    "from pyod.models.auto_encoder import AutoEncoder\n",
    "from sklearn.metrics import f1_score"
   ]
  },
  {
   "cell_type": "code",
   "execution_count": null,
   "metadata": {},
   "outputs": [],
   "source": [
    "# Merging all files and making the dataframe\n",
    "# df = pd.concat(map(pd.read_csv, glob.glob(os.path.join(\"./data\" , \"*.csv\"))), ignore_index= True)\n",
    "df = pd.read_csv('data/0.csv')\n",
    "df['timestamp'] = pd.to_datetime(df['timestamp'], unit='s')\n",
    "df = df.set_index('timestamp')\n",
    "df = df.asfreq(freq='T')\n",
    "df = df.interpolate()"
   ]
  },
  {
   "cell_type": "code",
   "execution_count": null,
   "metadata": {},
   "outputs": [],
   "source": [
    "df_hourly = df.resample('H').mean()"
   ]
  },
  {
   "cell_type": "code",
   "execution_count": null,
   "metadata": {},
   "outputs": [],
   "source": [
    "scaler = StandardScaler()\n",
    "np_scaled = scaler.fit_transform(df.value.values.reshape(-1, 1))\n",
    "data = pd.DataFrame(np_scaled)"
   ]
  },
  {
   "cell_type": "code",
   "execution_count": null,
   "metadata": {},
   "outputs": [],
   "source": [
    "# Create a TimeSeries, specifying the time and value columns\n",
    "series = TimeSeries.from_dataframe(df_hourly, value_cols='value')\n",
    "# Set aside the last 20 percent of ts as a validation series\n",
    "train, val = series[:-round(len(df_hourly) / 5)], series[-round(len(df_hourly) / 5):]"
   ]
  },
  {
   "cell_type": "markdown",
   "metadata": {},
   "source": [
    "## AutoEncoder"
   ]
  },
  {
   "cell_type": "code",
   "execution_count": null,
   "metadata": {},
   "outputs": [],
   "source": [
    "clf = AutoEncoder(hidden_neurons =[1, 10, 10, 1])\n",
    "clf.fit(data)"
   ]
  },
  {
   "cell_type": "code",
   "execution_count": null,
   "metadata": {},
   "outputs": [],
   "source": [
    "# Get the outlier scores for the train data\n",
    "y_train_scores = clf.decision_scores_\n",
    "# Predict the anomaly scores\n",
    "y_test_scores = clf.decision_function(data)  # outlier scores\n",
    "y_test_scores = pd.Series(y_test_scores)\n",
    " \n",
    "# Plot it!\n",
    "plt.hist(y_test_scores, bins='auto') \n",
    "plt.title(\"Histogram for Model Clf1 Anomaly Scores\")\n",
    "plt.show()"
   ]
  },
  {
   "cell_type": "code",
   "execution_count": null,
   "metadata": {},
   "outputs": [],
   "source": [
    "df_test = data.copy()\n",
    "df_test['score'] = y_test_scores\n",
    "df_test['cluster'] = np.where(df_test['score']<1.85, 0, 1)\n",
    "df_test['cluster'].value_counts()\n",
    "df_test.groupby('cluster').mean()"
   ]
  },
  {
   "cell_type": "code",
   "execution_count": null,
   "metadata": {},
   "outputs": [],
   "source": [
    "f1_score(df['label'].values.astype(int), df_test['cluster'].values)"
   ]
  }
 ],
 "metadata": {
  "kernelspec": {
   "display_name": "Python 3.7.13 ('datadays')",
   "language": "python",
   "name": "python3"
  },
  "language_info": {
   "name": "python",
   "version": "3.7.13"
  },
  "orig_nbformat": 4,
  "vscode": {
   "interpreter": {
    "hash": "3989ad42e78c4fd56c41022c4fcf008f21ba29519295d94939f24711add489d8"
   }
  }
 },
 "nbformat": 4,
 "nbformat_minor": 2
}
